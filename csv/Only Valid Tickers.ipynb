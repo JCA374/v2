{
 "cells": [
  {
   "cell_type": "code",
   "execution_count": null,
   "id": "f2b9e6ee",
   "metadata": {},
   "outputs": [],
   "source": []
  },
  {
   "cell_type": "markdown",
   "id": "d5e1b567",
   "metadata": {},
   "source": [
    "# %% [markdown]\n",
    "# Generate Full Swedish Stock Company CSV (Only Valid Tickers)\n",
    "\n",
    "Produces `valid_swedish_company_data.csv` and `errors_log.csv`.\n",
    "1. Uses **investpy** for *all* Swedish tickers\n",
    "2. Resumes from any existing CSV\n",
    "3. Retries any tickers in the prior `errors_log.csv`\n",
    "4. Checks each ticker for at least one day of data via **yfinance**\n",
    "5. Sleeps between calls to avoid rate-limit overload\n",
    "----\n"
   ]
  },
  {
   "cell_type": "code",
   "execution_count": null,
   "id": "4444f3d1",
   "metadata": {},
   "outputs": [],
   "source": [
    "# 1) Imports and globals\n",
    "import investpy\n",
    "import pandas as pd\n",
    "import yfinance as yf\n",
    "import time\n",
    "import os\n",
    "\n",
    "OUTPUT_CSV = \"valid_swedish_company_data.csv\"\n",
    "ERROR_LOG_CSV = \"errors_log.csv\"\n",
    "SLEEP_SEC = 1.0   # adjust if you hit rate-limits"
   ]
  },
  {
   "cell_type": "code",
   "execution_count": null,
   "id": "c4b0ce5d",
   "metadata": {},
   "outputs": [],
   "source": [
    "# ## 2) Fetch **all** Swedish tickers via investpy\n",
    "\n",
    "# %%\n",
    "stocks_df = investpy.get_stocks(country=\"Sweden\")\n",
    "stocks_df['YahooTicker'] = stocks_df['symbol'].str.upper() + \".ST\"\n",
    "stocks_df['CompanyName'] = stocks_df['name']\n",
    "\n",
    "tickers_list = stocks_df['YahooTicker'].tolist()\n",
    "print(f\"Found {len(tickers_list)} Swedish tickers via investpy.\")"
   ]
  },
  {
   "cell_type": "code",
   "execution_count": null,
   "id": "566b9d2b",
   "metadata": {},
   "outputs": [],
   "source": [
    "# — load successes\n",
    "if os.path.exists(OUTPUT_CSV):\n",
    "    df_out = pd.read_csv(OUTPUT_CSV)\n",
    "    done = set(df_out['YahooTicker'].astype(str))\n",
    "    print(f\"Resuming – {len(done)} valid tickers already recorded.\")\n",
    "else:\n",
    "    df_out = pd.DataFrame(columns=[\n",
    "        \"YahooTicker\", \"CompanyName\", \"Exchange\"\n",
    "    ])\n",
    "    done = set()\n",
    "    print(\"Starting fresh – no existing valid tickers CSV found.\")\n",
    "\n",
    "# — load previous errors to retry\n",
    "if os.path.exists(ERROR_LOG_CSV):\n",
    "    prev_err = pd.read_csv(ERROR_LOG_CSV)\n",
    "    retry_tickers = prev_err['YahooTicker'].astype(str).tolist()\n",
    "    print(f\"Will retry {len(retry_tickers)} previously failed tickers.\")\n",
    "else:\n",
    "    retry_tickers = []"
   ]
  },
  {
   "cell_type": "code",
   "execution_count": null,
   "id": "8abcf7d5",
   "metadata": {},
   "outputs": [],
   "source": [
    "# ## 4) Build ordered list: retry failures first, then new tickers\n",
    "\n",
    "# %%\n",
    "to_retry = [t for t in retry_tickers if t not in done]\n",
    "to_new = [t for t in tickers_list if t not in done and t not in retry_tickers]\n",
    "to_process = to_retry + to_new\n",
    "\n",
    "print(f\"{len(to_retry)} to retry, {len(to_new)} new → total {len(to_process)} tickers to process.\")"
   ]
  },
  {
   "cell_type": "code",
   "execution_count": null,
   "id": "1691e53d",
   "metadata": {},
   "outputs": [],
   "source": [
    "# ## 5) Loop over `to_process`, validate data, checkpoint, and collect errors\n",
    "\n",
    "# %%\n",
    "errors = []\n",
    "for ticker in to_process:\n",
    "    print(f\"→ Processing {ticker} …\", end=\"\", flush=True)\n",
    "    try:\n",
    "        tk = yf.Ticker(ticker)\n",
    "        # check for at least one day of history\n",
    "        hist = tk.history(period=\"1d\")\n",
    "        if hist.empty:\n",
    "            msg = \"no price data (empty history)\"\n",
    "            print(f\" ✖ {msg}\")\n",
    "            errors.append({\"YahooTicker\": ticker, \"Error\": msg})\n",
    "            continue\n",
    "        # fetch info for metadata\n",
    "        info = tk.info or {}\n",
    "        name = info.get(\"shortName\") or info.get(\"longName\") or ticker\n",
    "        exchange = info.get(\"exchange\", \"\")\n",
    "\n",
    "        # record valid ticker\n",
    "        df_out = pd.concat([\n",
    "            df_out,\n",
    "            pd.DataFrame([{\n",
    "                \"YahooTicker\": ticker,\n",
    "                \"CompanyName\": name,\n",
    "                \"Exchange\": exchange\n",
    "            }])\n",
    "        ], ignore_index=True)\n",
    "        df_out.to_csv(OUTPUT_CSV, index=False)\n",
    "        done.add(ticker)\n",
    "        print(\" ✔ recorded\")\n",
    "    except Exception as e:\n",
    "        msg = str(e)\n",
    "        print(f\" ERROR: {msg}\")\n",
    "        errors.append({\"YahooTicker\": ticker, \"Error\": msg})\n",
    "    finally:\n",
    "        time.sleep(SLEEP_SEC)\n",
    "\n",
    "print(\"Data collection pass complete.\")"
   ]
  },
  {
   "cell_type": "code",
   "execution_count": null,
   "id": "17d5de28",
   "metadata": {},
   "outputs": [],
   "source": [
    "# ## 6) Save updated error log\n",
    "\n",
    "# %%\n",
    "if errors:\n",
    "    pd.DataFrame(errors).to_csv(ERROR_LOG_CSV, index=False)\n",
    "    print(f\"Logged {len(errors)} errors to {ERROR_LOG_CSV}\")\n",
    "else:\n",
    "    if os.path.exists(ERROR_LOG_CSV):\n",
    "        os.remove(ERROR_LOG_CSV)\n",
    "    print(\"No errors on this run.  👍\")"
   ]
  }
 ],
 "metadata": {
  "language_info": {
   "name": "python"
  }
 },
 "nbformat": 4,
 "nbformat_minor": 5
}
