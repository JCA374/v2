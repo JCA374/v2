{
 "cells": [
  {
   "cell_type": "markdown",
   "id": "d5e1b567",
   "metadata": {},
   "source": [
    "# Generate Full Swedish Stock Company CSV (Only Valid Tickers)\n",
    "\n",
    "Produces `valid_swedish_company_data.csv` and `errors_log.csv`.\n",
    "1. Uses **investpy** for *all* Swedish tickers\n",
    "2. Resumes from any existing CSV\n",
    "3. Retries any tickers in the prior `errors_log.csv`\n",
    "4. Checks each ticker for at least one day of data via **yfinance**\n",
    "5. Sleeps between calls to avoid rate-limit overload\n",
    "----\n"
   ]
  },
  {
   "cell_type": "code",
   "execution_count": 1,
   "id": "4444f3d1",
   "metadata": {},
   "outputs": [],
   "source": [
    "# 1) Imports and globals\n",
    "import investpy\n",
    "import pandas as pd\n",
    "import yfinance as yf\n",
    "import time\n",
    "import os\n",
    "\n",
    "OUTPUT_CSV = \"valid_swedish_company_data.csv\"\n",
    "ERROR_LOG_CSV = \"errors_log.csv\"\n",
    "SLEEP_SEC = 1.0   # adjust if you hit rate-limits"
   ]
  },
  {
   "cell_type": "code",
   "execution_count": 2,
   "id": "c4b0ce5d",
   "metadata": {},
   "outputs": [
    {
     "name": "stdout",
     "output_type": "stream",
     "text": [
      "Found 1004 Swedish tickers via investpy.\n"
     ]
    }
   ],
   "source": [
    "# ## 2) Fetch **all** Swedish tickers via investpy\n",
    "\n",
    "# %%\n",
    "stocks_df = investpy.get_stocks(country=\"Sweden\")\n",
    "stocks_df['YahooTicker'] = stocks_df['symbol'].str.upper() + \".ST\"\n",
    "stocks_df['CompanyName'] = stocks_df['name']\n",
    "\n",
    "tickers_list = stocks_df['YahooTicker'].tolist()\n",
    "print(f\"Found {len(tickers_list)} Swedish tickers via investpy.\")"
   ]
  },
  {
   "cell_type": "code",
   "execution_count": 3,
   "id": "566b9d2b",
   "metadata": {},
   "outputs": [
    {
     "name": "stdout",
     "output_type": "stream",
     "text": [
      "Resuming – 187 valid tickers already recorded.\n"
     ]
    }
   ],
   "source": [
    "# — load successes\n",
    "if os.path.exists(OUTPUT_CSV):\n",
    "    df_out = pd.read_csv(OUTPUT_CSV)\n",
    "    done = set(df_out['YahooTicker'].astype(str))\n",
    "    print(f\"Resuming – {len(done)} valid tickers already recorded.\")\n",
    "else:\n",
    "    df_out = pd.DataFrame(columns=[\n",
    "        \"YahooTicker\", \"CompanyName\", \"Exchange\"\n",
    "    ])\n",
    "    done = set()\n",
    "    print(\"Starting fresh – no existing valid tickers CSV found.\")\n",
    "\n",
    "# — load previous errors to retry\n",
    "if os.path.exists(ERROR_LOG_CSV):\n",
    "    prev_err = pd.read_csv(ERROR_LOG_CSV)\n",
    "    retry_tickers = prev_err['YahooTicker'].astype(str).tolist()\n",
    "    print(f\"Will retry {len(retry_tickers)} previously failed tickers.\")\n",
    "else:\n",
    "    retry_tickers = []"
   ]
  },
  {
   "cell_type": "code",
   "execution_count": 4,
   "id": "8abcf7d5",
   "metadata": {},
   "outputs": [
    {
     "name": "stdout",
     "output_type": "stream",
     "text": [
      "0 to retry, 817 new → total 817 tickers to process.\n"
     ]
    }
   ],
   "source": [
    "# ## 4) Build ordered list: retry failures first, then new tickers\n",
    "\n",
    "# %%\n",
    "to_retry = [t for t in retry_tickers if t not in done]\n",
    "to_new = [t for t in tickers_list if t not in done and t not in retry_tickers]\n",
    "to_process = to_retry + to_new\n",
    "\n",
    "print(f\"{len(to_retry)} to retry, {len(to_new)} new → total {len(to_process)} tickers to process.\")"
   ]
  },
  {
   "cell_type": "code",
   "execution_count": 5,
   "id": "1691e53d",
   "metadata": {},
   "outputs": [
    {
     "name": "stdout",
     "output_type": "stream",
     "text": [
      "→ Processing ELUXB.ST …"
     ]
    },
    {
     "name": "stderr",
     "output_type": "stream",
     "text": [
      "$ELUXB.ST: possibly delisted; no price data found  (period=1d)\n"
     ]
    },
    {
     "name": "stdout",
     "output_type": "stream",
     "text": [
      " ✖ no price data (empty history)\n",
      "→ Processing ATCOA.ST …"
     ]
    },
    {
     "name": "stderr",
     "output_type": "stream",
     "text": [
      "$ATCOA.ST: possibly delisted; no price data found  (period=1d)\n"
     ]
    },
    {
     "name": "stdout",
     "output_type": "stream",
     "text": [
      " ✖ no price data (empty history)\n",
      "→ Processing ERICB.ST …"
     ]
    },
    {
     "name": "stderr",
     "output_type": "stream",
     "text": [
      "$ERICB.ST: possibly delisted; no price data found  (period=1d)\n"
     ]
    },
    {
     "name": "stdout",
     "output_type": "stream",
     "text": [
      " ✖ no price data (empty history)\n",
      "→ Processing ASSAB.ST …"
     ]
    },
    {
     "name": "stderr",
     "output_type": "stream",
     "text": [
      "$ASSAB.ST: possibly delisted; no price data found  (period=1d)\n"
     ]
    },
    {
     "name": "stdout",
     "output_type": "stream",
     "text": [
      " ✖ no price data (empty history)\n",
      "→ Processing ATCOB.ST …"
     ]
    },
    {
     "name": "stderr",
     "output_type": "stream",
     "text": [
      "$ATCOB.ST: possibly delisted; no price data found  (period=1d)\n"
     ]
    },
    {
     "name": "stdout",
     "output_type": "stream",
     "text": [
      " ✖ no price data (empty history)\n",
      "→ Processing SEBA.ST …"
     ]
    },
    {
     "name": "stderr",
     "output_type": "stream",
     "text": [
      "$SEBA.ST: possibly delisted; no price data found  (period=1d)\n"
     ]
    },
    {
     "name": "stdout",
     "output_type": "stream",
     "text": [
      " ✖ no price data (empty history)\n",
      "→ Processing INVEB.ST …"
     ]
    },
    {
     "name": "stderr",
     "output_type": "stream",
     "text": [
      "$INVEB.ST: possibly delisted; no price data found  (period=1d)\n"
     ]
    },
    {
     "name": "stdout",
     "output_type": "stream",
     "text": [
      " ✖ no price data (empty history)\n",
      "→ Processing NOKIA.ST …"
     ]
    },
    {
     "name": "stderr",
     "output_type": "stream",
     "text": [
      "404 Client Error: Not Found for url: https://query2.finance.yahoo.com/v10/finance/quoteSummary/NOKIA.ST?modules=financialData%2CquoteType%2CdefaultKeyStatistics%2CassetProfile%2CsummaryDetail&corsDomain=finance.yahoo.com&formatted=false&symbol=NOKIA.ST&crumb=gN7y6kYvuz8\n"
     ]
    },
    {
     "name": "stdout",
     "output_type": "stream",
     "text": [
      " ERROR: 'NoneType' object has no attribute 'update'\n",
      "→ Processing LUPE.ST …"
     ]
    },
    {
     "name": "stderr",
     "output_type": "stream",
     "text": [
      "$LUPE.ST: possibly delisted; no price data found  (period=1d) (Yahoo error = \"No data found, symbol may be delisted\")\n"
     ]
    },
    {
     "name": "stdout",
     "output_type": "stream",
     "text": [
      " ✖ no price data (empty history)\n",
      "→ Processing HMB.ST …"
     ]
    },
    {
     "name": "stderr",
     "output_type": "stream",
     "text": [
      "$HMB.ST: possibly delisted; no price data found  (period=1d)\n"
     ]
    },
    {
     "name": "stdout",
     "output_type": "stream",
     "text": [
      " ✖ no price data (empty history)\n",
      "→ Processing SCAB.ST …"
     ]
    },
    {
     "name": "stderr",
     "output_type": "stream",
     "text": [
      "$SCAB.ST: possibly delisted; no price data found  (period=1d)\n"
     ]
    },
    {
     "name": "stdout",
     "output_type": "stream",
     "text": [
      " ✖ no price data (empty history)\n",
      "→ Processing SECUB.ST …"
     ]
    },
    {
     "name": "stderr",
     "output_type": "stream",
     "text": [
      "$SECUB.ST: possibly delisted; no price data found  (period=1d)\n"
     ]
    },
    {
     "name": "stdout",
     "output_type": "stream",
     "text": [
      " ✖ no price data (empty history)\n",
      "→ Processing SWEDA.ST …"
     ]
    },
    {
     "name": "stderr",
     "output_type": "stream",
     "text": [
      "$SWEDA.ST: possibly delisted; no price data found  (period=1d)\n"
     ]
    },
    {
     "name": "stdout",
     "output_type": "stream",
     "text": [
      " ✖ no price data (empty history)\n",
      "→ Processing SKAB.ST …"
     ]
    },
    {
     "name": "stderr",
     "output_type": "stream",
     "text": [
      "$SKAB.ST: possibly delisted; no price data found  (period=1d)\n"
     ]
    },
    {
     "name": "stdout",
     "output_type": "stream",
     "text": [
      " ✖ no price data (empty history)\n",
      "→ Processing SHBA.ST …"
     ]
    },
    {
     "name": "stderr",
     "output_type": "stream",
     "text": [
      "$SHBA.ST: possibly delisted; no price data found  (period=1d)\n"
     ]
    },
    {
     "name": "stdout",
     "output_type": "stream",
     "text": [
      " ✖ no price data (empty history)\n",
      "→ Processing VOLVB.ST …"
     ]
    },
    {
     "name": "stderr",
     "output_type": "stream",
     "text": [
      "$VOLVB.ST: possibly delisted; no price data found  (period=1d)\n"
     ]
    },
    {
     "name": "stdout",
     "output_type": "stream",
     "text": [
      " ✖ no price data (empty history)\n",
      "→ Processing TEL2B.ST …"
     ]
    },
    {
     "name": "stderr",
     "output_type": "stream",
     "text": [
      "$TEL2B.ST: possibly delisted; no price data found  (period=1d)\n"
     ]
    },
    {
     "name": "stdout",
     "output_type": "stream",
     "text": [
      " ✖ no price data (empty history)\n",
      "→ Processing SKFB.ST …"
     ]
    },
    {
     "name": "stderr",
     "output_type": "stream",
     "text": [
      "$SKFB.ST: possibly delisted; no price data found  (period=1d)\n"
     ]
    },
    {
     "name": "stdout",
     "output_type": "stream",
     "text": [
      " ✖ no price data (empty history)\n",
      "→ Processing SWMA.ST …"
     ]
    },
    {
     "name": "stderr",
     "output_type": "stream",
     "text": [
      "$SWMA.ST: possibly delisted; no price data found  (period=1d) (Yahoo error = \"No data found, symbol may be delisted\")\n"
     ]
    },
    {
     "name": "stdout",
     "output_type": "stream",
     "text": [
      " ✖ no price data (empty history)\n",
      "→ Processing SSABA.ST …"
     ]
    },
    {
     "name": "stderr",
     "output_type": "stream",
     "text": [
      "$SSABA.ST: possibly delisted; no price data found  (period=1d)\n"
     ]
    },
    {
     "name": "stdout",
     "output_type": "stream",
     "text": [
      " ✖ no price data (empty history)\n",
      "→ Processing NDASE.ST …"
     ]
    },
    {
     "name": "stderr",
     "output_type": "stream",
     "text": [
      "$NDASE.ST: possibly delisted; no price data found  (period=1d) (Yahoo error = \"No data found, symbol may be delisted\")\n"
     ]
    },
    {
     "name": "stdout",
     "output_type": "stream",
     "text": [
      " ✖ no price data (empty history)\n",
      "→ Processing AOIC.ST …"
     ]
    },
    {
     "name": "stderr",
     "output_type": "stream",
     "text": [
      "$AOIC.ST: possibly delisted; no price data found  (period=1d) (Yahoo error = \"No data found, symbol may be delisted\")\n"
     ]
    },
    {
     "name": "stdout",
     "output_type": "stream",
     "text": [
      " ✖ no price data (empty history)\n",
      "→ Processing EKTAB.ST …"
     ]
    },
    {
     "name": "stderr",
     "output_type": "stream",
     "text": [
      "$EKTAB.ST: possibly delisted; no price data found  (period=1d)\n"
     ]
    },
    {
     "name": "stdout",
     "output_type": "stream",
     "text": [
      " ✖ no price data (empty history)\n",
      "→ Processing ENQ.ST …"
     ]
    },
    {
     "name": "stderr",
     "output_type": "stream",
     "text": [
      "$ENQ.ST: possibly delisted; no price data found  (period=1d) (Yahoo error = \"No data found, symbol may be delisted\")\n"
     ]
    },
    {
     "name": "stdout",
     "output_type": "stream",
     "text": [
      " ✖ no price data (empty history)\n",
      "→ Processing ERICA.ST …"
     ]
    },
    {
     "name": "stderr",
     "output_type": "stream",
     "text": [
      "$ERICA.ST: possibly delisted; no price data found  (period=1d)\n"
     ]
    },
    {
     "name": "stdout",
     "output_type": "stream",
     "text": [
      " ✖ no price data (empty history)\n",
      "→ Processing GETIB.ST …"
     ]
    },
    {
     "name": "stderr",
     "output_type": "stream",
     "text": [
      "$GETIB.ST: possibly delisted; no price data found  (period=1d)\n"
     ]
    },
    {
     "name": "stdout",
     "output_type": "stream",
     "text": [
      " ✖ no price data (empty history)\n",
      "→ Processing ICAA.ST …"
     ]
    },
    {
     "name": "stderr",
     "output_type": "stream",
     "text": [
      "$ICAA.ST: possibly delisted; no price data found  (period=1d) (Yahoo error = \"No data found, symbol may be delisted\")\n"
     ]
    },
    {
     "name": "stdout",
     "output_type": "stream",
     "text": [
      " ✖ no price data (empty history)\n",
      "→ Processing HEXAB.ST …"
     ]
    },
    {
     "name": "stderr",
     "output_type": "stream",
     "text": [
      "$HEXAB.ST: possibly delisted; no price data found  (period=1d)\n"
     ]
    },
    {
     "name": "stdout",
     "output_type": "stream",
     "text": [
      " ✖ no price data (empty history)\n",
      "→ Processing HOLMB.ST …"
     ]
    },
    {
     "name": "stderr",
     "output_type": "stream",
     "text": [
      "$HOLMB.ST: possibly delisted; no price data found  (period=1d)\n"
     ]
    },
    {
     "name": "stdout",
     "output_type": "stream",
     "text": [
      " ✖ no price data (empty history)\n",
      "→ Processing HUFVA.ST …"
     ]
    },
    {
     "name": "stderr",
     "output_type": "stream",
     "text": [
      "$HUFVA.ST: possibly delisted; no price data found  (period=1d)\n"
     ]
    },
    {
     "name": "stdout",
     "output_type": "stream",
     "text": [
      " ✖ no price data (empty history)\n",
      "→ Processing HUSQA.ST …"
     ]
    },
    {
     "name": "stderr",
     "output_type": "stream",
     "text": [
      "$HUSQA.ST: possibly delisted; no price data found  (period=1d) (Yahoo error = \"No data found, symbol may be delisted\")\n"
     ]
    },
    {
     "name": "stdout",
     "output_type": "stream",
     "text": [
      " ✖ no price data (empty history)\n",
      "→ Processing HUSQB.ST …"
     ]
    },
    {
     "name": "stderr",
     "output_type": "stream",
     "text": [
      "$HUSQB.ST: possibly delisted; no price data found  (period=1d)\n"
     ]
    },
    {
     "name": "stdout",
     "output_type": "stream",
     "text": [
      " ✖ no price data (empty history)\n",
      "→ Processing INDUA.ST …"
     ]
    },
    {
     "name": "stderr",
     "output_type": "stream",
     "text": [
      "$INDUA.ST: possibly delisted; no price data found  (period=1d)\n"
     ]
    },
    {
     "name": "stdout",
     "output_type": "stream",
     "text": [
      " ✖ no price data (empty history)\n",
      "→ Processing INVEA.ST …"
     ]
    },
    {
     "name": "stderr",
     "output_type": "stream",
     "text": [
      "$INVEA.ST: possibly delisted; no price data found  (period=1d)\n"
     ]
    },
    {
     "name": "stdout",
     "output_type": "stream",
     "text": [
      " ✖ no price data (empty history)\n",
      "→ Processing KINVA.ST …"
     ]
    },
    {
     "name": "stderr",
     "output_type": "stream",
     "text": [
      "$KINVA.ST: possibly delisted; no price data found  (period=1d)\n"
     ]
    },
    {
     "name": "stdout",
     "output_type": "stream",
     "text": [
      " ✖ no price data (empty history)\n",
      "→ Processing KINVB.ST …"
     ]
    },
    {
     "name": "stderr",
     "output_type": "stream",
     "text": [
      "$KINVB.ST: possibly delisted; no price data found  (period=1d)\n"
     ]
    },
    {
     "name": "stdout",
     "output_type": "stream",
     "text": [
      " ✖ no price data (empty history)\n",
      "→ Processing KLED.ST …"
     ]
    },
    {
     "name": "stderr",
     "output_type": "stream",
     "text": [
      "$KLED.ST: possibly delisted; no price data found  (period=1d) (Yahoo error = \"No data found, symbol may be delisted\")\n"
     ]
    },
    {
     "name": "stdout",
     "output_type": "stream",
     "text": [
      " ✖ no price data (empty history)\n",
      "→ Processing LATOB.ST …"
     ]
    },
    {
     "name": "stderr",
     "output_type": "stream",
     "text": [
      "$LATOB.ST: possibly delisted; no price data found  (period=1d)\n"
     ]
    },
    {
     "name": "stdout",
     "output_type": "stream",
     "text": [
      " ✖ no price data (empty history)\n",
      "→ Processing LOOMB.ST …"
     ]
    },
    {
     "name": "stderr",
     "output_type": "stream",
     "text": [
      "$LOOMB.ST: possibly delisted; no price data found  (period=1d)\n"
     ]
    },
    {
     "name": "stdout",
     "output_type": "stream",
     "text": [
      " ✖ no price data (empty history)\n",
      "→ Processing LUNDB.ST …"
     ]
    },
    {
     "name": "stderr",
     "output_type": "stream",
     "text": [
      "$LUNDB.ST: possibly delisted; no price data found  (period=1d)\n"
     ]
    },
    {
     "name": "stdout",
     "output_type": "stream",
     "text": [
      " ✖ no price data (empty history)\n",
      "→ Processing MTGA.ST …"
     ]
    },
    {
     "name": "stderr",
     "output_type": "stream",
     "text": [
      "$MTGA.ST: possibly delisted; no price data found  (period=1d)\n"
     ]
    },
    {
     "name": "stdout",
     "output_type": "stream",
     "text": [
      " ✖ no price data (empty history)\n",
      "→ Processing MTGB.ST …"
     ]
    },
    {
     "name": "stderr",
     "output_type": "stream",
     "text": [
      "$MTGB.ST: possibly delisted; no price data found  (period=1d)\n"
     ]
    },
    {
     "name": "stdout",
     "output_type": "stream",
     "text": [
      " ✖ no price data (empty history)\n",
      "→ Processing NCCA.ST …"
     ]
    },
    {
     "name": "stderr",
     "output_type": "stream",
     "text": [
      "$NCCA.ST: possibly delisted; no price data found  (period=1d)\n"
     ]
    },
    {
     "name": "stdout",
     "output_type": "stream",
     "text": [
      " ✖ no price data (empty history)\n",
      "→ Processing NCCB.ST …"
     ]
    },
    {
     "name": "stderr",
     "output_type": "stream",
     "text": [
      "$NCCB.ST: possibly delisted; no price data found  (period=1d)\n"
     ]
    },
    {
     "name": "stdout",
     "output_type": "stream",
     "text": [
      " ✖ no price data (empty history)\n",
      "→ Processing PEABB.ST …"
     ]
    },
    {
     "name": "stderr",
     "output_type": "stream",
     "text": [
      "$PEABB.ST: possibly delisted; no price data found  (period=1d)\n"
     ]
    },
    {
     "name": "stdout",
     "output_type": "stream",
     "text": [
      " ✖ no price data (empty history)\n",
      "→ Processing RATOB.ST …"
     ]
    },
    {
     "name": "stderr",
     "output_type": "stream",
     "text": [
      "$RATOB.ST: possibly delisted; no price data found  (period=1d)\n"
     ]
    },
    {
     "name": "stdout",
     "output_type": "stream",
     "text": [
      " ✖ no price data (empty history)\n",
      "→ Processing SAABB.ST …"
     ]
    },
    {
     "name": "stderr",
     "output_type": "stream",
     "text": [
      "$SAABB.ST: possibly delisted; no price data found  (period=1d)\n"
     ]
    },
    {
     "name": "stdout",
     "output_type": "stream",
     "text": [
      " ✖ no price data (empty history)\n",
      "→ Processing SAS.ST …"
     ]
    },
    {
     "name": "stderr",
     "output_type": "stream",
     "text": [
      "$SAS.ST: possibly delisted; no price data found  (period=1d) (Yahoo error = \"No data found, symbol may be delisted\")\n"
     ]
    },
    {
     "name": "stdout",
     "output_type": "stream",
     "text": [
      " ✖ no price data (empty history)\n",
      "→ Processing SCAA.ST …"
     ]
    },
    {
     "name": "stderr",
     "output_type": "stream",
     "text": [
      "$SCAA.ST: possibly delisted; no price data found  (period=1d)\n"
     ]
    },
    {
     "name": "stdout",
     "output_type": "stream",
     "text": [
      " ✖ no price data (empty history)\n",
      "→ Processing SEBC.ST …"
     ]
    },
    {
     "name": "stderr",
     "output_type": "stream",
     "text": [
      "$SEBC.ST: possibly delisted; no price data found  (period=1d)\n"
     ]
    },
    {
     "name": "stdout",
     "output_type": "stream",
     "text": [
      " ✖ no price data (empty history)\n",
      "→ Processing SSABB.ST …"
     ]
    },
    {
     "name": "stderr",
     "output_type": "stream",
     "text": [
      "$SSABB.ST: possibly delisted; no price data found  (period=1d)\n"
     ]
    },
    {
     "name": "stdout",
     "output_type": "stream",
     "text": [
      " ✖ no price data (empty history)\n",
      "→ Processing TEL2A.ST …"
     ]
    },
    {
     "name": "stderr",
     "output_type": "stream",
     "text": [
      "$TEL2A.ST: possibly delisted; no price data found  (period=1d)\n"
     ]
    },
    {
     "name": "stdout",
     "output_type": "stream",
     "text": [
      " ✖ no price data (empty history)\n",
      "→ Processing TRELB.ST …"
     ]
    },
    {
     "name": "stderr",
     "output_type": "stream",
     "text": [
      "$TRELB.ST: possibly delisted; no price data found  (period=1d)\n"
     ]
    },
    {
     "name": "stdout",
     "output_type": "stream",
     "text": [
      " ✖ no price data (empty history)\n",
      "→ Processing VOLVA.ST …"
     ]
    },
    {
     "name": "stderr",
     "output_type": "stream",
     "text": [
      "$VOLVA.ST: possibly delisted; no price data found  (period=1d)\n"
     ]
    },
    {
     "name": "stdout",
     "output_type": "stream",
     "text": [
      " ✖ no price data (empty history)\n",
      "→ Processing ADDTB.ST …"
     ]
    },
    {
     "name": "stderr",
     "output_type": "stream",
     "text": [
      "$ADDTB.ST: possibly delisted; no price data found  (period=1d)\n"
     ]
    },
    {
     "name": "stdout",
     "output_type": "stream",
     "text": [
      " ✖ no price data (empty history)\n",
      "→ Processing AFB.ST …"
     ]
    },
    {
     "name": "stderr",
     "output_type": "stream",
     "text": [
      "$AFB.ST: possibly delisted; no price data found  (period=1d)\n"
     ]
    },
    {
     "name": "stdout",
     "output_type": "stream",
     "text": [
      " ✖ no price data (empty history)\n",
      "→ Processing ALIVSDB.ST …"
     ]
    },
    {
     "name": "stderr",
     "output_type": "stream",
     "text": [
      "$ALIVSDB.ST: possibly delisted; no price data found  (period=1d) (Yahoo error = \"No data found, symbol may be delisted\")\n"
     ]
    },
    {
     "name": "stdout",
     "output_type": "stream",
     "text": [
      " ✖ no price data (empty history)\n",
      "→ Processing ANODB.ST …"
     ]
    },
    {
     "name": "stderr",
     "output_type": "stream",
     "text": [
      "$ANODB.ST: possibly delisted; no price data found  (period=1d)\n"
     ]
    },
    {
     "name": "stdout",
     "output_type": "stream",
     "text": [
      " ✖ no price data (empty history)\n",
      "→ Processing ATREA.ST …"
     ]
    },
    {
     "name": "stderr",
     "output_type": "stream",
     "text": [
      "$ATREA.ST: possibly delisted; no price data found  (period=1d) (Yahoo error = \"No data found, symbol may be delisted\")\n"
     ]
    },
    {
     "name": "stdout",
     "output_type": "stream",
     "text": [
      " ✖ no price data (empty history)\n",
      "→ Processing AVANZ.ST …"
     ]
    },
    {
     "name": "stderr",
     "output_type": "stream",
     "text": [
      "$AVANZ.ST: possibly delisted; no price data found  (period=1d) (Yahoo error = \"No data found, symbol may be delisted\")\n"
     ]
    },
    {
     "name": "stdout",
     "output_type": "stream",
     "text": [
      " ✖ no price data (empty history)\n",
      "→ Processing BALDB.ST …"
     ]
    },
    {
     "name": "stderr",
     "output_type": "stream",
     "text": [
      "$BALDB.ST: possibly delisted; no price data found  (period=1d)\n"
     ]
    },
    {
     "name": "stdout",
     "output_type": "stream",
     "text": [
      " ✖ no price data (empty history)\n",
      "→ Processing BERGB.ST …"
     ]
    },
    {
     "name": "stderr",
     "output_type": "stream",
     "text": [
      "$BERGB.ST: possibly delisted; no price data found  (period=1d)\n"
     ]
    },
    {
     "name": "stdout",
     "output_type": "stream",
     "text": [
      " ✖ no price data (empty history)\n",
      "→ Processing BEIAB.ST …"
     ]
    },
    {
     "name": "stderr",
     "output_type": "stream",
     "text": [
      "$BEIAB.ST: possibly delisted; no price data found  (period=1d)\n"
     ]
    },
    {
     "name": "stdout",
     "output_type": "stream",
     "text": [
      " ✖ no price data (empty history)\n",
      "→ Processing BEIJB.ST …"
     ]
    },
    {
     "name": "stderr",
     "output_type": "stream",
     "text": [
      "$BEIJB.ST: possibly delisted; no price data found  (period=1d)\n"
     ]
    },
    {
     "name": "stdout",
     "output_type": "stream",
     "text": [
      " ✖ no price data (empty history)\n",
      "→ Processing BELE.ST …"
     ]
    },
    {
     "name": "stderr",
     "output_type": "stream",
     "text": [
      "$BELE.ST: possibly delisted; no price data found  (period=1d) (Yahoo error = \"No data found, symbol may be delisted\")\n"
     ]
    },
    {
     "name": "stdout",
     "output_type": "stream",
     "text": [
      " ✖ no price data (empty history)\n",
      "→ Processing BETSB.ST …"
     ]
    },
    {
     "name": "stderr",
     "output_type": "stream",
     "text": [
      "$BETSB.ST: possibly delisted; no price data found  (period=1d)\n"
     ]
    },
    {
     "name": "stdout",
     "output_type": "stream",
     "text": [
      " ✖ no price data (empty history)\n",
      "→ Processing BILIA.ST …"
     ]
    },
    {
     "name": "stderr",
     "output_type": "stream",
     "text": [
      "$BILIA.ST: possibly delisted; no price data found  (period=1d)\n"
     ]
    },
    {
     "name": "stdout",
     "output_type": "stream",
     "text": [
      " ✖ no price data (empty history)\n",
      "→ Processing BIOGB.ST …"
     ]
    },
    {
     "name": "stderr",
     "output_type": "stream",
     "text": [
      "$BIOGB.ST: possibly delisted; no price data found  (period=1d)\n"
     ]
    },
    {
     "name": "stdout",
     "output_type": "stream",
     "text": [
      " ✖ no price data (empty history)\n",
      "→ Processing BOLJ.ST …"
     ]
    },
    {
     "name": "stderr",
     "output_type": "stream",
     "text": [
      "$BOLJ.ST: possibly delisted; no price data found  (period=1d) (Yahoo error = \"No data found, symbol may be delisted\")\n"
     ]
    },
    {
     "name": "stdout",
     "output_type": "stream",
     "text": [
      " ✖ no price data (empty history)\n",
      "→ Processing BRGB.ST …"
     ]
    },
    {
     "name": "stderr",
     "output_type": "stream",
     "text": [
      "$BRGB.ST: possibly delisted; no price data found  (period=1d)\n"
     ]
    },
    {
     "name": "stdout",
     "output_type": "stream",
     "text": [
      " ✖ no price data (empty history)\n",
      "→ Processing BRINB.ST …"
     ]
    },
    {
     "name": "stderr",
     "output_type": "stream",
     "text": [
      "$BRINB.ST: possibly delisted; no price data found  (period=1d)\n"
     ]
    },
    {
     "name": "stdout",
     "output_type": "stream",
     "text": [
      " ✖ no price data (empty history)\n",
      "→ Processing BTSB.ST …"
     ]
    },
    {
     "name": "stderr",
     "output_type": "stream",
     "text": [
      "$BTSB.ST: possibly delisted; no price data found  (period=1d)\n"
     ]
    },
    {
     "name": "stdout",
     "output_type": "stream",
     "text": [
      " ✖ no price data (empty history)\n",
      "→ Processing CCORB.ST …"
     ]
    },
    {
     "name": "stderr",
     "output_type": "stream",
     "text": [
      "$CCORB.ST: possibly delisted; no price data found  (period=1d)\n"
     ]
    },
    {
     "name": "stdout",
     "output_type": "stream",
     "text": [
      " ✖ no price data (empty history)\n",
      "→ Processing QLRO.ST …"
     ]
    },
    {
     "name": "stderr",
     "output_type": "stream",
     "text": [
      "$QLRO.ST: possibly delisted; no price data found  (period=1d) (Yahoo error = \"No data found, symbol may be delisted\")\n"
     ]
    },
    {
     "name": "stdout",
     "output_type": "stream",
     "text": [
      " ✖ no price data (empty history)\n",
      "→ Processing CLASB.ST …"
     ]
    },
    {
     "name": "stderr",
     "output_type": "stream",
     "text": [
      "$CLASB.ST: possibly delisted; no price data found  (period=1d)\n"
     ]
    },
    {
     "name": "stdout",
     "output_type": "stream",
     "text": [
      " ✖ no price data (empty history)\n",
      "→ Processing CLOEB.ST …"
     ]
    },
    {
     "name": "stderr",
     "output_type": "stream",
     "text": [
      "$CLOEB.ST: possibly delisted; no price data found  (period=1d) (Yahoo error = \"No data found, symbol may be delisted\")\n"
     ]
    },
    {
     "name": "stdout",
     "output_type": "stream",
     "text": [
      " ✖ no price data (empty history)\n",
      "→ Processing CONIC.ST …"
     ]
    },
    {
     "name": "stderr",
     "output_type": "stream",
     "text": [
      "$CONIC.ST: possibly delisted; no price data found  (period=1d) (Yahoo error = \"No data found, symbol may be delisted\")\n"
     ]
    },
    {
     "name": "stdout",
     "output_type": "stream",
     "text": [
      " ✖ no price data (empty history)\n",
      "→ Processing CONSB.ST …"
     ]
    },
    {
     "name": "stderr",
     "output_type": "stream",
     "text": [
      "$CONSB.ST: possibly delisted; no price data found  (period=1d)\n"
     ]
    },
    {
     "name": "stdout",
     "output_type": "stream",
     "text": [
      " ✖ no price data (empty history)\n",
      "→ Processing COREA.ST …"
     ]
    },
    {
     "name": "stderr",
     "output_type": "stream",
     "text": [
      "$COREA.ST: possibly delisted; no price data found  (period=1d)\n"
     ]
    },
    {
     "name": "stdout",
     "output_type": "stream",
     "text": [
      " ✖ no price data (empty history)\n",
      "→ Processing CTTS.ST …"
     ]
    },
    {
     "name": "stderr",
     "output_type": "stream",
     "text": [
      "$CTTS.ST: possibly delisted; no price data found  (period=1d) (Yahoo error = \"No data found, symbol may be delisted\")\n"
     ]
    },
    {
     "name": "stdout",
     "output_type": "stream",
     "text": [
      " ✖ no price data (empty history)\n",
      "→ Processing CVTEC.ST …"
     ]
    },
    {
     "name": "stderr",
     "output_type": "stream",
     "text": [
      "$CVTEC.ST: possibly delisted; no price data found  (period=1d) (Yahoo error = \"No data found, symbol may be delisted\")\n"
     ]
    },
    {
     "name": "stdout",
     "output_type": "stream",
     "text": [
      " ✖ no price data (empty history)\n",
      "→ Processing DEDIC.ST …"
     ]
    },
    {
     "name": "stderr",
     "output_type": "stream",
     "text": [
      "$DEDIC.ST: possibly delisted; no price data found  (period=1d) (Yahoo error = \"No data found, symbol may be delisted\")\n"
     ]
    },
    {
     "name": "stdout",
     "output_type": "stream",
     "text": [
      " ✖ no price data (empty history)\n",
      "→ Processing DURCB.ST …"
     ]
    },
    {
     "name": "stderr",
     "output_type": "stream",
     "text": [
      "$DURCB.ST: possibly delisted; no price data found  (period=1d)\n"
     ]
    },
    {
     "name": "stdout",
     "output_type": "stream",
     "text": [
      " ✖ no price data (empty history)\n",
      "→ Processing EAST9.ST …"
     ]
    },
    {
     "name": "stderr",
     "output_type": "stream",
     "text": [
      "$EAST9.ST: possibly delisted; no price data found  (period=1d) (Yahoo error = \"No data found, symbol may be delisted\")\n"
     ]
    },
    {
     "name": "stdout",
     "output_type": "stream",
     "text": [
      " ✖ no price data (empty history)\n",
      "→ Processing ELANB.ST …"
     ]
    },
    {
     "name": "stderr",
     "output_type": "stream",
     "text": [
      "$ELANB.ST: possibly delisted; no price data found  (period=1d)\n"
     ]
    },
    {
     "name": "stdout",
     "output_type": "stream",
     "text": [
      " ✖ no price data (empty history)\n",
      "→ Processing ELEC.ST …"
     ]
    },
    {
     "name": "stderr",
     "output_type": "stream",
     "text": [
      "$ELEC.ST: possibly delisted; no price data found  (period=1d) (Yahoo error = \"No data found, symbol may be delisted\")\n"
     ]
    },
    {
     "name": "stdout",
     "output_type": "stream",
     "text": [
      " ✖ no price data (empty history)\n",
      "→ Processing ELOSSB.ST …"
     ]
    },
    {
     "name": "stderr",
     "output_type": "stream",
     "text": [
      "$ELOSSB.ST: possibly delisted; no price data found  (period=1d) (Yahoo error = \"No data found, symbol may be delisted\")\n"
     ]
    },
    {
     "name": "stdout",
     "output_type": "stream",
     "text": [
      " ✖ no price data (empty history)\n",
      "→ Processing ELUXA.ST …"
     ]
    },
    {
     "name": "stderr",
     "output_type": "stream",
     "text": [
      "$ELUXA.ST: possibly delisted; no price data found  (period=1d)\n"
     ]
    },
    {
     "name": "stdout",
     "output_type": "stream",
     "text": [
      " ✖ no price data (empty history)\n",
      "→ Processing ETRN.ST …"
     ]
    },
    {
     "name": "stderr",
     "output_type": "stream",
     "text": [
      "$ETRN.ST: possibly delisted; no price data found  (period=1d) (Yahoo error = \"No data found, symbol may be delisted\")\n"
     ]
    },
    {
     "name": "stdout",
     "output_type": "stream",
     "text": [
      " ✖ no price data (empty history)\n",
      "→ Processing FEEL.ST …"
     ]
    },
    {
     "name": "stderr",
     "output_type": "stream",
     "text": [
      "$FEEL.ST: possibly delisted; no price data found  (period=1d) (Yahoo error = \"No data found, symbol may be delisted\")\n"
     ]
    },
    {
     "name": "stdout",
     "output_type": "stream",
     "text": [
      " ✖ no price data (empty history)\n",
      "→ Processing FINGB.ST …"
     ]
    },
    {
     "name": "stderr",
     "output_type": "stream",
     "text": [
      "$FINGB.ST: possibly delisted; no price data found  (period=1d)\n"
     ]
    },
    {
     "name": "stdout",
     "output_type": "stream",
     "text": [
      " ✖ no price data (empty history)\n",
      "→ Processing FPAR.ST …"
     ]
    },
    {
     "name": "stderr",
     "output_type": "stream",
     "text": [
      "$FPAR.ST: possibly delisted; no price data found  (period=1d) (Yahoo error = \"No data found, symbol may be delisted\")\n"
     ]
    },
    {
     "name": "stdout",
     "output_type": "stream",
     "text": [
      " ✖ no price data (empty history)\n",
      "→ Processing GHP.ST …"
     ]
    },
    {
     "name": "stderr",
     "output_type": "stream",
     "text": [
      "$GHP.ST: possibly delisted; no price data found  (period=1d) (Yahoo error = \"No data found, symbol may be delisted\")\n"
     ]
    },
    {
     "name": "stdout",
     "output_type": "stream",
     "text": [
      " ✖ no price data (empty history)\n",
      "→ Processing GUNN.ST …"
     ]
    },
    {
     "name": "stderr",
     "output_type": "stream",
     "text": [
      "$GUNN.ST: possibly delisted; no price data found  (period=1d) (Yahoo error = \"No data found, symbol may be delisted\")\n"
     ]
    },
    {
     "name": "stdout",
     "output_type": "stream",
     "text": [
      " ✖ no price data (empty history)\n",
      "→ Processing HEBAB.ST …"
     ]
    },
    {
     "name": "stderr",
     "output_type": "stream",
     "text": [
      "$HEBAB.ST: possibly delisted; no price data found  (period=1d)\n"
     ]
    },
    {
     "name": "stdout",
     "output_type": "stream",
     "text": [
      " ✖ no price data (empty history)\n",
      "→ Processing HIQ.ST …"
     ]
    },
    {
     "name": "stderr",
     "output_type": "stream",
     "text": [
      "$HIQ.ST: possibly delisted; no price data found  (period=1d) (Yahoo error = \"No data found, symbol may be delisted\")\n"
     ]
    },
    {
     "name": "stdout",
     "output_type": "stream",
     "text": [
      " ✖ no price data (empty history)\n",
      "→ Processing HLDX.ST …"
     ]
    },
    {
     "name": "stderr",
     "output_type": "stream",
     "text": [
      "$HLDX.ST: possibly delisted; no price data found  (period=1d) (Yahoo error = \"No data found, symbol may be delisted\")\n"
     ]
    },
    {
     "name": "stdout",
     "output_type": "stream",
     "text": [
      " ✖ no price data (empty history)\n",
      "→ Processing HMSN.ST …"
     ]
    },
    {
     "name": "stderr",
     "output_type": "stream",
     "text": [
      "$HMSN.ST: possibly delisted; no price data found  (period=1d) (Yahoo error = \"No data found, symbol may be delisted\")\n"
     ]
    },
    {
     "name": "stdout",
     "output_type": "stream",
     "text": [
      " ✖ no price data (empty history)\n",
      "→ Processing HOLMA.ST …"
     ]
    },
    {
     "name": "stderr",
     "output_type": "stream",
     "text": [
      "$HOLMA.ST: possibly delisted; no price data found  (period=1d)\n"
     ]
    },
    {
     "name": "stdout",
     "output_type": "stream",
     "text": [
      " ✖ no price data (empty history)\n",
      "→ Processing HPOLB.ST …"
     ]
    },
    {
     "name": "stderr",
     "output_type": "stream",
     "text": [
      "$HPOLB.ST: possibly delisted; no price data found  (period=1d)\n"
     ]
    },
    {
     "name": "stdout",
     "output_type": "stream",
     "text": [
      " ✖ no price data (empty history)\n",
      "→ Processing HUFVC.ST …"
     ]
    },
    {
     "name": "stderr",
     "output_type": "stream",
     "text": [
      "$HUFVC.ST: possibly delisted; no price data found  (period=1d)\n"
     ]
    },
    {
     "name": "stdout",
     "output_type": "stream",
     "text": [
      " ✖ no price data (empty history)\n",
      "→ Processing IARB.ST …"
     ]
    },
    {
     "name": "stderr",
     "output_type": "stream",
     "text": [
      "$IARB.ST: possibly delisted; no price data found  (period=1d)\n"
     ]
    },
    {
     "name": "stdout",
     "output_type": "stream",
     "text": [
      " ✖ no price data (empty history)\n",
      "→ Processing INDUC.ST …"
     ]
    },
    {
     "name": "stderr",
     "output_type": "stream",
     "text": [
      "$INDUC.ST: possibly delisted; no price data found  (period=1d)\n"
     ]
    },
    {
     "name": "stdout",
     "output_type": "stream",
     "text": [
      " ✖ no price data (empty history)\n",
      "→ Processing ICT.ST …"
     ]
    },
    {
     "name": "stderr",
     "output_type": "stream",
     "text": [
      "$ICT.ST: possibly delisted; no price data found  (period=1d) (Yahoo error = \"No data found, symbol may be delisted\")\n"
     ]
    },
    {
     "name": "stdout",
     "output_type": "stream",
     "text": [
      " ✖ no price data (empty history)\n",
      "→ Processing ISY.ST …"
     ]
    },
    {
     "name": "stderr",
     "output_type": "stream",
     "text": [
      "$ISY.ST: possibly delisted; no price data found  (period=1d) (Yahoo error = \"No data found, symbol may be delisted\")\n"
     ]
    },
    {
     "name": "stdout",
     "output_type": "stream",
     "text": [
      " ✖ no price data (empty history)\n",
      "→ Processing ITABB.ST …"
     ]
    },
    {
     "name": "stderr",
     "output_type": "stream",
     "text": [
      "$ITABB.ST: possibly delisted; no price data found  (period=1d)\n"
     ]
    },
    {
     "name": "stdout",
     "output_type": "stream",
     "text": [
      " ✖ no price data (empty history)\n",
      "→ Processing KABEB.ST …"
     ]
    },
    {
     "name": "stderr",
     "output_type": "stream",
     "text": [
      "$KABEB.ST: possibly delisted; no price data found  (period=1d)\n"
     ]
    },
    {
     "name": "stdout",
     "output_type": "stream",
     "text": [
      " ✖ no price data (empty history)\n",
      "→ Processing KAHL.ST …"
     ]
    },
    {
     "name": "stderr",
     "output_type": "stream",
     "text": [
      "$KAHL.ST: possibly delisted; no price data found  (period=1d) (Yahoo error = \"No data found, symbol may be delisted\")\n"
     ]
    },
    {
     "name": "stdout",
     "output_type": "stream",
     "text": [
      " ✖ no price data (empty history)\n",
      "→ Processing KARO.ST …"
     ]
    },
    {
     "name": "stderr",
     "output_type": "stream",
     "text": [
      "$KARO.ST: possibly delisted; no price data found  (period=1d) (Yahoo error = \"No data found, symbol may be delisted\")\n"
     ]
    },
    {
     "name": "stdout",
     "output_type": "stream",
     "text": [
      " ✖ no price data (empty history)\n",
      "→ Processing KLOVA.ST …"
     ]
    },
    {
     "name": "stderr",
     "output_type": "stream",
     "text": [
      "$KLOVA.ST: possibly delisted; no price data found  (period=1d)\n"
     ]
    },
    {
     "name": "stdout",
     "output_type": "stream",
     "text": [
      " ✖ no price data (empty history)\n",
      "→ Processing LAGRB.ST …"
     ]
    },
    {
     "name": "stderr",
     "output_type": "stream",
     "text": [
      "$LAGRB.ST: possibly delisted; no price data found  (period=1d)\n"
     ]
    },
    {
     "name": "stdout",
     "output_type": "stream",
     "text": [
      " ✖ no price data (empty history)\n",
      "→ Processing LAMMB.ST …"
     ]
    },
    {
     "name": "stderr",
     "output_type": "stream",
     "text": [
      "$LAMMB.ST: possibly delisted; no price data found  (period=1d)\n"
     ]
    },
    {
     "name": "stdout",
     "output_type": "stream",
     "text": [
      " ✖ no price data (empty history)\n",
      "→ Processing ATRLJB.ST …"
     ]
    },
    {
     "name": "stderr",
     "output_type": "stream",
     "text": [
      "$ATRLJB.ST: possibly delisted; no price data found  (period=1d)\n"
     ]
    },
    {
     "name": "stdout",
     "output_type": "stream",
     "text": [
      " ✖ no price data (empty history)\n",
      "→ Processing MBPH.ST …"
     ]
    },
    {
     "name": "stderr",
     "output_type": "stream",
     "text": [
      "$MBPH.ST: possibly delisted; no price data found  (period=1d) (Yahoo error = \"No data found, symbol may be delisted\")\n"
     ]
    },
    {
     "name": "stdout",
     "output_type": "stream",
     "text": [
      " ✖ no price data (empty history)\n",
      "→ Processing MEABB.ST …"
     ]
    },
    {
     "name": "stderr",
     "output_type": "stream",
     "text": [
      "$MEABB.ST: possibly delisted; no price data found  (period=1d)\n"
     ]
    },
    {
     "name": "stdout",
     "output_type": "stream",
     "text": [
      " ✖ no price data (empty history)\n",
      "→ Processing TIGOSDB.ST …"
     ]
    },
    {
     "name": "stderr",
     "output_type": "stream",
     "text": [
      "$TIGOSDB.ST: possibly delisted; no price data found  (period=1d) (Yahoo error = \"No data found, symbol may be delisted\")\n"
     ]
    },
    {
     "name": "stdout",
     "output_type": "stream",
     "text": [
      " ✖ no price data (empty history)\n",
      "→ Processing MIDWA.ST …"
     ]
    },
    {
     "name": "stderr",
     "output_type": "stream",
     "text": [
      "$MIDWA.ST: possibly delisted; no price data found  (period=1d)\n"
     ]
    },
    {
     "name": "stdout",
     "output_type": "stream",
     "text": [
      " ✖ no price data (empty history)\n",
      "→ Processing MIDWB.ST …"
     ]
    },
    {
     "name": "stderr",
     "output_type": "stream",
     "text": [
      "$MIDWB.ST: possibly delisted; no price data found  (period=1d)\n"
     ]
    },
    {
     "name": "stdout",
     "output_type": "stream",
     "text": [
      " ✖ no price data (empty history)\n",
      "→ Processing MQH.ST …"
     ]
    },
    {
     "name": "stderr",
     "output_type": "stream",
     "text": [
      "$MQH.ST: possibly delisted; no price data found  (period=1d) (Yahoo error = \"No data found, symbol may be delisted\")\n"
     ]
    },
    {
     "name": "stdout",
     "output_type": "stream",
     "text": [
      " ✖ no price data (empty history)\n",
      "→ Processing MSABB.ST …"
     ]
    },
    {
     "name": "stderr",
     "output_type": "stream",
     "text": [
      "$MSABB.ST: possibly delisted; no price data found  (period=1d)\n"
     ]
    },
    {
     "name": "stdout",
     "output_type": "stream",
     "text": [
      " ✖ no price data (empty history)\n",
      "→ Processing EMPIRB.ST …"
     ]
    },
    {
     "name": "stderr",
     "output_type": "stream",
     "text": [
      "$EMPIRB.ST: possibly delisted; no price data found  (period=1d)\n"
     ]
    },
    {
     "name": "stdout",
     "output_type": "stream",
     "text": [
      " ✖ no price data (empty history)\n",
      "→ Processing MSONA.ST …"
     ]
    },
    {
     "name": "stderr",
     "output_type": "stream",
     "text": [
      "$MSONA.ST: possibly delisted; no price data found  (period=1d)\n"
     ]
    },
    {
     "name": "stdout",
     "output_type": "stream",
     "text": [
      " ✖ no price data (empty history)\n",
      "→ Processing MSONB.ST …"
     ]
    },
    {
     "name": "stderr",
     "output_type": "stream",
     "text": [
      "$MSONB.ST: possibly delisted; no price data found  (period=1d)\n"
     ]
    },
    {
     "name": "stdout",
     "output_type": "stream",
     "text": [
      " ✖ no price data (empty history)\n",
      "→ Processing MULQ.ST …"
     ]
    },
    {
     "name": "stderr",
     "output_type": "stream",
     "text": [
      "$MULQ.ST: possibly delisted; no price data found  (period=1d) (Yahoo error = \"No data found, symbol may be delisted\")\n"
     ]
    },
    {
     "name": "stdout",
     "output_type": "stream",
     "text": [
      " ✖ no price data (empty history)\n",
      "→ Processing MVIRB.ST …"
     ]
    },
    {
     "name": "stderr",
     "output_type": "stream",
     "text": [
      "$MVIRB.ST: possibly delisted; no price data found  (period=1d)\n"
     ]
    },
    {
     "name": "stdout",
     "output_type": "stream",
     "text": [
      " ✖ no price data (empty history)\n",
      "→ Processing NETB.ST …"
     ]
    },
    {
     "name": "stderr",
     "output_type": "stream",
     "text": [
      "$NETB.ST: possibly delisted; no price data found  (period=1d)\n"
     ]
    },
    {
     "name": "stdout",
     "output_type": "stream",
     "text": [
      " ✖ no price data (empty history)\n",
      "→ Processing NETIB.ST …"
     ]
    },
    {
     "name": "stderr",
     "output_type": "stream",
     "text": [
      "$NETIB.ST: possibly delisted; no price data found  (period=1d)\n"
     ]
    },
    {
     "name": "stdout",
     "output_type": "stream",
     "text": [
      " ✖ no price data (empty history)\n",
      "→ Processing NEWAB.ST …"
     ]
    },
    {
     "name": "stderr",
     "output_type": "stream",
     "text": [
      "$NEWAB.ST: possibly delisted; no price data found  (period=1d)\n"
     ]
    },
    {
     "name": "stdout",
     "output_type": "stream",
     "text": [
      " ✖ no price data (empty history)\n",
      "→ Processing NIBEB.ST …"
     ]
    },
    {
     "name": "stderr",
     "output_type": "stream",
     "text": [
      "$NIBEB.ST: possibly delisted; no price data found  (period=1d)\n"
     ]
    },
    {
     "name": "stdout",
     "output_type": "stream",
     "text": [
      " ✖ no price data (empty history)\n",
      "→ Processing NOLAB.ST …"
     ]
    },
    {
     "name": "stderr",
     "output_type": "stream",
     "text": [
      "$NOLAB.ST: possibly delisted; no price data found  (period=1d)\n"
     ]
    },
    {
     "name": "stdout",
     "output_type": "stream",
     "text": [
      " ✖ no price data (empty history)\n",
      "→ Processing STRAX.ST …"
     ]
    },
    {
     "name": "stderr",
     "output_type": "stream",
     "text": [
      "$STRAX.ST: possibly delisted; no price data found  (period=1d)\n"
     ]
    },
    {
     "name": "stdout",
     "output_type": "stream",
     "text": [
      " ✖ no price data (empty history)\n",
      "→ Processing NTEKB.ST …"
     ]
    },
    {
     "name": "stderr",
     "output_type": "stream",
     "text": [
      "$NTEKB.ST: possibly delisted; no price data found  (period=1d)\n"
     ]
    },
    {
     "name": "stdout",
     "output_type": "stream",
     "text": [
      " ✖ no price data (empty history)\n",
      "→ Processing OASM.ST …"
     ]
    },
    {
     "name": "stderr",
     "output_type": "stream",
     "text": [
      "$OASM.ST: possibly delisted; no price data found  (period=1d) (Yahoo error = \"No data found, symbol may be delisted\")\n"
     ]
    },
    {
     "name": "stdout",
     "output_type": "stream",
     "text": [
      " ✖ no price data (empty history)\n",
      "→ Processing ODD.ST …"
     ]
    },
    {
     "name": "stderr",
     "output_type": "stream",
     "text": [
      "$ODD.ST: possibly delisted; no price data found  (period=1d) (Yahoo error = \"No data found, symbol may be delisted\")\n"
     ]
    },
    {
     "name": "stdout",
     "output_type": "stream",
     "text": [
      " ✖ no price data (empty history)\n",
      "→ Processing OEMB.ST …"
     ]
    },
    {
     "name": "stderr",
     "output_type": "stream",
     "text": [
      "$OEMB.ST: possibly delisted; no price data found  (period=1d)\n"
     ]
    },
    {
     "name": "stdout",
     "output_type": "stream",
     "text": [
      " ✖ no price data (empty history)\n",
      "→ Processing TRENT.ST …"
     ]
    },
    {
     "name": "stderr",
     "output_type": "stream",
     "text": [
      "$TRENT.ST: possibly delisted; no price data found  (period=1d) (Yahoo error = \"No data found, symbol may be delisted\")\n"
     ]
    },
    {
     "name": "stdout",
     "output_type": "stream",
     "text": [
      " ✖ no price data (empty history)\n",
      "→ Processing ORTIA.ST …"
     ]
    },
    {
     "name": "stderr",
     "output_type": "stream",
     "text": [
      "$ORTIA.ST: possibly delisted; no price data found  (period=1d)\n"
     ]
    },
    {
     "name": "stdout",
     "output_type": "stream",
     "text": [
      " ✖ no price data (empty history)\n",
      "→ Processing ORTIB.ST …"
     ]
    },
    {
     "name": "stderr",
     "output_type": "stream",
     "text": [
      "$ORTIB.ST: possibly delisted; no price data found  (period=1d)\n"
     ]
    },
    {
     "name": "stdout",
     "output_type": "stream",
     "text": [
      " ✖ no price data (empty history)\n",
      "→ Processing POOLB.ST …"
     ]
    },
    {
     "name": "stderr",
     "output_type": "stream",
     "text": [
      "$POOLB.ST: possibly delisted; no price data found  (period=1d)\n"
     ]
    },
    {
     "name": "stdout",
     "output_type": "stream",
     "text": [
      " ✖ no price data (empty history)\n",
      "→ Processing PREVB.ST …"
     ]
    },
    {
     "name": "stderr",
     "output_type": "stream",
     "text": [
      "$PREVB.ST: possibly delisted; no price data found  (period=1d)\n"
     ]
    },
    {
     "name": "stdout",
     "output_type": "stream",
     "text": [
      " ✖ no price data (empty history)\n",
      "→ Processing PRICB.ST …"
     ]
    },
    {
     "name": "stderr",
     "output_type": "stream",
     "text": [
      "$PRICB.ST: possibly delisted; no price data found  (period=1d)\n"
     ]
    },
    {
     "name": "stdout",
     "output_type": "stream",
     "text": [
      " ✖ no price data (empty history)\n",
      "→ Processing PROB.ST …"
     ]
    },
    {
     "name": "stderr",
     "output_type": "stream",
     "text": [
      "$PROB.ST: possibly delisted; no price data found  (period=1d) (Yahoo error = \"No data found, symbol may be delisted\")\n"
     ]
    },
    {
     "name": "stdout",
     "output_type": "stream",
     "text": [
      " ✖ no price data (empty history)\n",
      "→ Processing PROFB.ST …"
     ]
    },
    {
     "name": "stderr",
     "output_type": "stream",
     "text": [
      "$PROFB.ST: possibly delisted; no price data found  (period=1d)\n"
     ]
    },
    {
     "name": "stdout",
     "output_type": "stream",
     "text": [
      " ✖ no price data (empty history)\n",
      "→ Processing VSSABB.ST …"
     ]
    },
    {
     "name": "stderr",
     "output_type": "stream",
     "text": [
      "$VSSABB.ST: possibly delisted; no price data found  (period=1d)\n"
     ]
    },
    {
     "name": "stdout",
     "output_type": "stream",
     "text": [
      " ✖ no price data (empty history)\n",
      "→ Processing RATOA.ST …"
     ]
    },
    {
     "name": "stderr",
     "output_type": "stream",
     "text": [
      "$RATOA.ST: possibly delisted; no price data found  (period=1d)\n"
     ]
    },
    {
     "name": "stdout",
     "output_type": "stream",
     "text": [
      " ✖ no price data (empty history)\n",
      "→ Processing RAYB.ST …"
     ]
    },
    {
     "name": "stderr",
     "output_type": "stream",
     "text": [
      "$RAYB.ST: possibly delisted; no price data found  (period=1d)\n"
     ]
    },
    {
     "name": "stdout",
     "output_type": "stream",
     "text": [
      " ✖ no price data (empty history)\n",
      "→ Processing REJLB.ST …"
     ]
    },
    {
     "name": "stderr",
     "output_type": "stream",
     "text": [
      "$REJLB.ST: possibly delisted; no price data found  (period=1d)\n"
     ]
    },
    {
     "name": "stdout",
     "output_type": "stream",
     "text": [
      " ✖ no price data (empty history)\n",
      "→ Processing RNBS.ST …"
     ]
    },
    {
     "name": "stderr",
     "output_type": "stream",
     "text": [
      "$RNBS.ST: possibly delisted; no price data found  (period=1d) (Yahoo error = \"No data found, symbol may be delisted\")\n"
     ]
    },
    {
     "name": "stdout",
     "output_type": "stream",
     "text": [
      " ✖ no price data (empty history)\n",
      "→ Processing SAGAA.ST …"
     ]
    },
    {
     "name": "stderr",
     "output_type": "stream",
     "text": [
      "$SAGAA.ST: possibly delisted; no price data found  (period=1d)\n"
     ]
    },
    {
     "name": "stdout",
     "output_type": "stream",
     "text": [
      " ✖ no price data (empty history)\n",
      "→ Processing SECTB.ST …"
     ]
    },
    {
     "name": "stderr",
     "output_type": "stream",
     "text": [
      "$SECTB.ST: possibly delisted; no price data found  (period=1d)\n"
     ]
    },
    {
     "name": "stdout",
     "output_type": "stream",
     "text": [
      " ✖ no price data (empty history)\n",
      "→ Processing SEMC.ST …"
     ]
    },
    {
     "name": "stderr",
     "output_type": "stream",
     "text": [
      "$SEMC.ST: possibly delisted; no price data found  (period=1d) (Yahoo error = \"No data found, symbol may be delisted\")\n"
     ]
    },
    {
     "name": "stdout",
     "output_type": "stream",
     "text": [
      " ✖ no price data (empty history)\n",
      "→ Processing SHBB.ST …"
     ]
    },
    {
     "name": "stderr",
     "output_type": "stream",
     "text": [
      "$SHBB.ST: possibly delisted; no price data found  (period=1d)\n"
     ]
    },
    {
     "name": "stdout",
     "output_type": "stream",
     "text": [
      " ✖ no price data (empty history)\n",
      "→ Processing SKFA.ST …"
     ]
    },
    {
     "name": "stderr",
     "output_type": "stream",
     "text": [
      "$SKFA.ST: possibly delisted; no price data found  (period=1d)\n"
     ]
    },
    {
     "name": "stdout",
     "output_type": "stream",
     "text": [
      " ✖ no price data (empty history)\n",
      "→ Processing SKISB.ST …"
     ]
    },
    {
     "name": "stderr",
     "output_type": "stream",
     "text": [
      "$SKISB.ST: possibly delisted; no price data found  (period=1d)\n"
     ]
    },
    {
     "name": "stdout",
     "output_type": "stream",
     "text": [
      " ✖ no price data (empty history)\n",
      "→ Processing SMF.ST …"
     ]
    },
    {
     "name": "stderr",
     "output_type": "stream",
     "text": [
      "$SMF.ST: possibly delisted; no price data found  (period=1d) (Yahoo error = \"No data found, symbol may be delisted\")\n"
     ]
    },
    {
     "name": "stdout",
     "output_type": "stream",
     "text": [
      " ✖ no price data (empty history)\n",
      "→ Processing SOBIV.ST …"
     ]
    },
    {
     "name": "stderr",
     "output_type": "stream",
     "text": [
      "$SOBIV.ST: possibly delisted; no price data found  (period=1d) (Yahoo error = \"No data found, symbol may be delisted\")\n"
     ]
    },
    {
     "name": "stdout",
     "output_type": "stream",
     "text": [
      " ✖ no price data (empty history)\n",
      "→ Processing SOFB.ST …"
     ]
    },
    {
     "name": "stderr",
     "output_type": "stream",
     "text": [
      "$SOFB.ST: possibly delisted; no price data found  (period=1d)\n"
     ]
    },
    {
     "name": "stdout",
     "output_type": "stream",
     "text": [
      " ✖ no price data (empty history)\n",
      "→ Processing STEA.ST …"
     ]
    },
    {
     "name": "stderr",
     "output_type": "stream",
     "text": [
      "$STEA.ST: possibly delisted; no price data found  (period=1d)\n"
     ]
    },
    {
     "name": "stdout",
     "output_type": "stream",
     "text": [
      " ✖ no price data (empty history)\n",
      "→ Processing STER.ST …"
     ]
    },
    {
     "name": "stderr",
     "output_type": "stream",
     "text": [
      "$STER.ST: possibly delisted; no price data found  (period=1d)\n"
     ]
    },
    {
     "name": "stdout",
     "output_type": "stream",
     "text": [
      " ✖ no price data (empty history)\n",
      "→ Processing SVEDB.ST …"
     ]
    },
    {
     "name": "stderr",
     "output_type": "stream",
     "text": [
      "$SVEDB.ST: possibly delisted; no price data found  (period=1d)\n"
     ]
    },
    {
     "name": "stdout",
     "output_type": "stream",
     "text": [
      " ✖ no price data (empty history)\n",
      "→ Processing SWECA.ST …"
     ]
    },
    {
     "name": "stderr",
     "output_type": "stream",
     "text": [
      "$SWECA.ST: possibly delisted; no price data found  (period=1d)\n"
     ]
    },
    {
     "name": "stdout",
     "output_type": "stream",
     "text": [
      " ✖ no price data (empty history)\n",
      "→ Processing SWECB.ST …"
     ]
    },
    {
     "name": "stderr",
     "output_type": "stream",
     "text": [
      "$SWECB.ST: possibly delisted; no price data found  (period=1d)\n"
     ]
    },
    {
     "name": "stdout",
     "output_type": "stream",
     "text": [
      " ✖ no price data (empty history)\n",
      "→ Processing SWOLB.ST …"
     ]
    },
    {
     "name": "stderr",
     "output_type": "stream",
     "text": [
      "$SWOLB.ST: possibly delisted; no price data found  (period=1d)\n"
     ]
    },
    {
     "name": "stdout",
     "output_type": "stream",
     "text": [
      " ✖ no price data (empty history)\n",
      "→ Processing AGROM.ST …"
     ]
    },
    {
     "name": "stderr",
     "output_type": "stream",
     "text": [
      "$AGROM.ST: possibly delisted; no price data found  (period=1d) (Yahoo error = \"No data found, symbol may be delisted\")\n"
     ]
    },
    {
     "name": "stdout",
     "output_type": "stream",
     "text": [
      " ✖ no price data (empty history)\n",
      "→ Processing TRACB.ST …"
     ]
    },
    {
     "name": "stderr",
     "output_type": "stream",
     "text": [
      "$TRACB.ST: possibly delisted; no price data found  (period=1d)\n"
     ]
    },
    {
     "name": "stdout",
     "output_type": "stream",
     "text": [
      " ✖ no price data (empty history)\n",
      "→ Processing KINDSDB.ST …"
     ]
    },
    {
     "name": "stderr",
     "output_type": "stream",
     "text": [
      "$KINDSDB.ST: possibly delisted; no price data found  (period=1d) (Yahoo error = \"No data found, symbol may be delisted\")\n"
     ]
    },
    {
     "name": "stdout",
     "output_type": "stream",
     "text": [
      " ✖ no price data (empty history)\n",
      "→ Processing VBGB.ST …"
     ]
    },
    {
     "name": "stderr",
     "output_type": "stream",
     "text": [
      "$VBGB.ST: possibly delisted; no price data found  (period=1d)\n"
     ]
    },
    {
     "name": "stdout",
     "output_type": "stream",
     "text": [
      " ✖ no price data (empty history)\n",
      "→ Processing VITB.ST …"
     ]
    },
    {
     "name": "stderr",
     "output_type": "stream",
     "text": [
      "$VITB.ST: possibly delisted; no price data found  (period=1d)\n"
     ]
    },
    {
     "name": "stdout",
     "output_type": "stream",
     "text": [
      " ✖ no price data (empty history)\n",
      "→ Processing VNVSDB.ST …"
     ]
    },
    {
     "name": "stderr",
     "output_type": "stream",
     "text": [
      "$VNVSDB.ST: possibly delisted; no price data found  (period=1d)\n"
     ]
    },
    {
     "name": "stdout",
     "output_type": "stream",
     "text": [
      " ✖ no price data (empty history)\n",
      "→ Processing VRGB.ST …"
     ]
    },
    {
     "name": "stderr",
     "output_type": "stream",
     "text": [
      "$VRGB.ST: possibly delisted; no price data found  (period=1d)\n"
     ]
    },
    {
     "name": "stdout",
     "output_type": "stream",
     "text": [
      " ✖ no price data (empty history)\n",
      "→ Processing WALLB.ST …"
     ]
    },
    {
     "name": "stderr",
     "output_type": "stream",
     "text": [
      "$WALLB.ST: possibly delisted; no price data found  (period=1d)\n"
     ]
    },
    {
     "name": "stdout",
     "output_type": "stream",
     "text": [
      " ✖ no price data (empty history)\n",
      "→ Processing XANOB.ST …"
     ]
    },
    {
     "name": "stderr",
     "output_type": "stream",
     "text": [
      "$XANOB.ST: possibly delisted; no price data found  (period=1d)\n"
     ]
    },
    {
     "name": "stdout",
     "output_type": "stream",
     "text": [
      " ✖ no price data (empty history)\n",
      "→ Processing PFE.ST …"
     ]
    },
    {
     "name": "stderr",
     "output_type": "stream",
     "text": [
      "$PFE.ST: possibly delisted; no price data found  (period=1d) (Yahoo error = \"No data found, symbol may be delisted\")\n"
     ]
    },
    {
     "name": "stdout",
     "output_type": "stream",
     "text": [
      " ✖ no price data (empty history)\n",
      "→ Processing ENDO.ST …"
     ]
    },
    {
     "name": "stderr",
     "output_type": "stream",
     "text": [
      "$ENDO.ST: possibly delisted; no price data found  (period=1d) (Yahoo error = \"No data found, symbol may be delisted\")\n"
     ]
    },
    {
     "name": "stdout",
     "output_type": "stream",
     "text": [
      " ✖ no price data (empty history)\n",
      "→ Processing SAGAB.ST …"
     ]
    },
    {
     "name": "stderr",
     "output_type": "stream",
     "text": [
      "$SAGAB.ST: possibly delisted; no price data found  (period=1d) (Yahoo error = \"No data found, symbol may be delisted\")\n"
     ]
    },
    {
     "name": "stdout",
     "output_type": "stream",
     "text": [
      " ✖ no price data (empty history)\n",
      "→ Processing MERTA.ST …"
     ]
    },
    {
     "name": "stderr",
     "output_type": "stream",
     "text": [
      "$MERTA.ST: possibly delisted; no price data found  (period=1d) (Yahoo error = \"No data found, symbol may be delisted\")\n"
     ]
    },
    {
     "name": "stdout",
     "output_type": "stream",
     "text": [
      " ✖ no price data (empty history)\n",
      "→ Processing TETY.ST …"
     ]
    },
    {
     "name": "stderr",
     "output_type": "stream",
     "text": [
      "$TETY.ST: possibly delisted; no price data found  (period=1d) (Yahoo error = \"No data found, symbol may be delisted\")\n"
     ]
    },
    {
     "name": "stdout",
     "output_type": "stream",
     "text": [
      " ✖ no price data (empty history)\n",
      "→ Processing NVP.ST …"
     ]
    },
    {
     "name": "stderr",
     "output_type": "stream",
     "text": [
      "$NVP.ST: possibly delisted; no price data found  (period=1d) (Yahoo error = \"No data found, symbol may be delisted\")\n"
     ]
    },
    {
     "name": "stdout",
     "output_type": "stream",
     "text": [
      " ✖ no price data (empty history)\n",
      "→ Processing WILABT.ST …"
     ]
    },
    {
     "name": "stderr",
     "output_type": "stream",
     "text": [
      "$WILABT.ST: possibly delisted; no price data found  (period=1d) (Yahoo error = \"No data found, symbol may be delisted\")\n"
     ]
    },
    {
     "name": "stdout",
     "output_type": "stream",
     "text": [
      " ✖ no price data (empty history)\n",
      "→ Processing KANC.ST …"
     ]
    },
    {
     "name": "stderr",
     "output_type": "stream",
     "text": [
      "$KANC.ST: possibly delisted; no price data found  (period=1d) (Yahoo error = \"No data found, symbol may be delisted\")\n"
     ]
    },
    {
     "name": "stdout",
     "output_type": "stream",
     "text": [
      " ✖ no price data (empty history)\n",
      "→ Processing ITALSDB.ST …"
     ]
    },
    {
     "name": "stderr",
     "output_type": "stream",
     "text": [
      "$ITALSDB.ST: possibly delisted; no price data found  (period=1d) (Yahoo error = \"No data found, symbol may be delisted\")\n"
     ]
    },
    {
     "name": "stdout",
     "output_type": "stream",
     "text": [
      " ✖ no price data (empty history)\n",
      "→ Processing ADVENI.ST …"
     ]
    },
    {
     "name": "stderr",
     "output_type": "stream",
     "text": [
      "$ADVENI.ST: possibly delisted; no price data found  (period=1d) (Yahoo error = \"No data found, symbol may be delisted\")\n"
     ]
    },
    {
     "name": "stdout",
     "output_type": "stream",
     "text": [
      " ✖ no price data (empty history)\n",
      "→ Processing AKANOK.ST …"
     ]
    },
    {
     "name": "stderr",
     "output_type": "stream",
     "text": [
      "$AKANOK.ST: possibly delisted; no price data found  (period=1d) (Yahoo error = \"No data found, symbol may be delisted\")\n"
     ]
    },
    {
     "name": "stdout",
     "output_type": "stream",
     "text": [
      " ✖ no price data (empty history)\n",
      "→ Processing PAPI.ST …"
     ]
    },
    {
     "name": "stderr",
     "output_type": "stream",
     "text": [
      "$PAPI.ST: possibly delisted; no price data found  (period=1d) (Yahoo error = \"No data found, symbol may be delisted\")\n"
     ]
    },
    {
     "name": "stdout",
     "output_type": "stream",
     "text": [
      " ✖ no price data (empty history)\n",
      "→ Processing SSONOK.ST …"
     ]
    },
    {
     "name": "stderr",
     "output_type": "stream",
     "text": [
      "$SSONOK.ST: possibly delisted; no price data found  (period=1d) (Yahoo error = \"No data found, symbol may be delisted\")\n"
     ]
    },
    {
     "name": "stdout",
     "output_type": "stream",
     "text": [
      " ✖ no price data (empty history)\n",
      "→ Processing GRANG.ST …"
     ]
    },
    {
     "name": "stderr",
     "output_type": "stream",
     "text": [
      "$GRANG.ST: possibly delisted; no price data found  (period=1d) (Yahoo error = \"No data found, symbol may be delisted\")\n"
     ]
    },
    {
     "name": "stdout",
     "output_type": "stream",
     "text": [
      " ✖ no price data (empty history)\n",
      "→ Processing GABAT.ST …"
     ]
    },
    {
     "name": "stderr",
     "output_type": "stream",
     "text": [
      "$GABAT.ST: possibly delisted; no price data found  (period=1d) (Yahoo error = \"No data found, symbol may be delisted\")\n"
     ]
    },
    {
     "name": "stdout",
     "output_type": "stream",
     "text": [
      " ✖ no price data (empty history)\n",
      "→ Processing SEAL.ST …"
     ]
    },
    {
     "name": "stderr",
     "output_type": "stream",
     "text": [
      "$SEAL.ST: possibly delisted; no price data found  (period=1d) (Yahoo error = \"No data found, symbol may be delisted\")\n"
     ]
    },
    {
     "name": "stdout",
     "output_type": "stream",
     "text": [
      " ✖ no price data (empty history)\n",
      "→ Processing FOLLI.ST …"
     ]
    },
    {
     "name": "stderr",
     "output_type": "stream",
     "text": [
      "$FOLLI.ST: possibly delisted; no price data found  (period=1d) (Yahoo error = \"No data found, symbol may be delisted\")\n"
     ]
    },
    {
     "name": "stdout",
     "output_type": "stream",
     "text": [
      " ✖ no price data (empty history)\n",
      "→ Processing BAYNE.ST …"
     ]
    },
    {
     "name": "stderr",
     "output_type": "stream",
     "text": [
      "$BAYNE.ST: possibly delisted; no price data found  (period=1d) (Yahoo error = \"No data found, symbol may be delisted\")\n"
     ]
    },
    {
     "name": "stdout",
     "output_type": "stream",
     "text": [
      " ✖ no price data (empty history)\n",
      "→ Processing SBBB.ST …"
     ]
    },
    {
     "name": "stderr",
     "output_type": "stream",
     "text": [
      "$SBBB.ST: possibly delisted; no price data found  (period=1d)\n"
     ]
    },
    {
     "name": "stdout",
     "output_type": "stream",
     "text": [
      " ✖ no price data (empty history)\n",
      "→ Processing ROOT.ST …"
     ]
    },
    {
     "name": "stderr",
     "output_type": "stream",
     "text": [
      "$ROOT.ST: possibly delisted; no price data found  (period=1d) (Yahoo error = \"No data found, symbol may be delisted\")\n"
     ]
    },
    {
     "name": "stdout",
     "output_type": "stream",
     "text": [
      " ✖ no price data (empty history)\n",
      "→ Processing NXTMS.ST …"
     ]
    },
    {
     "name": "stderr",
     "output_type": "stream",
     "text": [
      "$NXTMS.ST: possibly delisted; no price data found  (period=1d) (Yahoo error = \"No data found, symbol may be delisted\")\n"
     ]
    },
    {
     "name": "stdout",
     "output_type": "stream",
     "text": [
      " ✖ no price data (empty history)\n",
      "→ Processing VERI.ST …"
     ]
    },
    {
     "name": "stderr",
     "output_type": "stream",
     "text": [
      "$VERI.ST: possibly delisted; no price data found  (period=1d) (Yahoo error = \"No data found, symbol may be delisted\")\n"
     ]
    },
    {
     "name": "stdout",
     "output_type": "stream",
     "text": [
      " ✖ no price data (empty history)\n",
      "→ Processing LUNG.ST …"
     ]
    },
    {
     "name": "stderr",
     "output_type": "stream",
     "text": [
      "$LUNG.ST: possibly delisted; no price data found  (period=1d) (Yahoo error = \"No data found, symbol may be delisted\")\n"
     ]
    },
    {
     "name": "stdout",
     "output_type": "stream",
     "text": [
      " ✖ no price data (empty history)\n",
      "→ Processing NEWTON.ST …"
     ]
    },
    {
     "name": "stderr",
     "output_type": "stream",
     "text": [
      "$NEWTON.ST: possibly delisted; no price data found  (period=1d) (Yahoo error = \"No data found, symbol may be delisted\")\n"
     ]
    },
    {
     "name": "stdout",
     "output_type": "stream",
     "text": [
      " ✖ no price data (empty history)\n",
      "→ Processing SAPIAB.ST …"
     ]
    },
    {
     "name": "stderr",
     "output_type": "stream",
     "text": [
      "$SAPIAB.ST: possibly delisted; no price data found  (period=1d) (Yahoo error = \"No data found, symbol may be delisted\")\n"
     ]
    },
    {
     "name": "stdout",
     "output_type": "stream",
     "text": [
      " ✖ no price data (empty history)\n",
      "→ Processing TORSAB.ST …"
     ]
    },
    {
     "name": "stderr",
     "output_type": "stream",
     "text": [
      "$TORSAB.ST: possibly delisted; no price data found  (period=1d) (Yahoo error = \"No data found, symbol may be delisted\")\n"
     ]
    },
    {
     "name": "stdout",
     "output_type": "stream",
     "text": [
      " ✖ no price data (empty history)\n",
      "→ Processing KARE.ST …"
     ]
    },
    {
     "name": "stderr",
     "output_type": "stream",
     "text": [
      "$KARE.ST: possibly delisted; no price data found  (period=1d) (Yahoo error = \"No data found, symbol may be delisted\")\n"
     ]
    },
    {
     "name": "stdout",
     "output_type": "stream",
     "text": [
      " ✖ no price data (empty history)\n",
      "→ Processing LEXIN.ST …"
     ]
    },
    {
     "name": "stderr",
     "output_type": "stream",
     "text": [
      "$LEXIN.ST: possibly delisted; no price data found  (period=1d) (Yahoo error = \"No data found, symbol may be delisted\")\n"
     ]
    },
    {
     "name": "stdout",
     "output_type": "stream",
     "text": [
      " ✖ no price data (empty history)\n",
      "→ Processing COPPB.ST …"
     ]
    },
    {
     "name": "stderr",
     "output_type": "stream",
     "text": [
      "$COPPB.ST: possibly delisted; no price data found  (period=1d)\n"
     ]
    },
    {
     "name": "stdout",
     "output_type": "stream",
     "text": [
      " ✖ no price data (empty history)\n",
      "→ Processing EMOTR.ST …"
     ]
    },
    {
     "name": "stderr",
     "output_type": "stream",
     "text": [
      "$EMOTR.ST: possibly delisted; no price data found  (period=1d) (Yahoo error = \"No data found, symbol may be delisted\")\n"
     ]
    },
    {
     "name": "stdout",
     "output_type": "stream",
     "text": [
      " ✖ no price data (empty history)\n",
      "→ Processing ACRIN.ST …"
     ]
    },
    {
     "name": "stderr",
     "output_type": "stream",
     "text": [
      "$ACRIN.ST: possibly delisted; no price data found  (period=1d) (Yahoo error = \"No data found, symbol may be delisted\")\n"
     ]
    },
    {
     "name": "stdout",
     "output_type": "stream",
     "text": [
      " ✖ no price data (empty history)\n",
      "→ Processing EVOG.ST …"
     ]
    },
    {
     "name": "stderr",
     "output_type": "stream",
     "text": [
      "$EVOG.ST: possibly delisted; no price data found  (period=1d) (Yahoo error = \"No data found, symbol may be delisted\")\n"
     ]
    },
    {
     "name": "stdout",
     "output_type": "stream",
     "text": [
      " ✖ no price data (empty history)\n",
      "→ Processing NANONOK.ST …"
     ]
    },
    {
     "name": "stderr",
     "output_type": "stream",
     "text": [
      "$NANONOK.ST: possibly delisted; no price data found  (period=1d) (Yahoo error = \"No data found, symbol may be delisted\")\n"
     ]
    },
    {
     "name": "stdout",
     "output_type": "stream",
     "text": [
      " ✖ no price data (empty history)\n",
      "→ Processing BACTIB.ST …"
     ]
    },
    {
     "name": "stderr",
     "output_type": "stream",
     "text": [
      "$BACTIB.ST: possibly delisted; no price data found  (period=1d)\n"
     ]
    },
    {
     "name": "stdout",
     "output_type": "stream",
     "text": [
      " ✖ no price data (empty history)\n",
      "→ Processing BESQ.ST …"
     ]
    },
    {
     "name": "stderr",
     "output_type": "stream",
     "text": [
      "$BESQ.ST: possibly delisted; no price data found  (period=1d) (Yahoo error = \"No data found, symbol may be delisted\")\n"
     ]
    },
    {
     "name": "stdout",
     "output_type": "stream",
     "text": [
      " ✖ no price data (empty history)\n",
      "→ Processing CLINEB.ST …"
     ]
    },
    {
     "name": "stderr",
     "output_type": "stream",
     "text": [
      "$CLINEB.ST: possibly delisted; no price data found  (period=1d) (Yahoo error = \"No data found, symbol may be delisted\")\n"
     ]
    },
    {
     "name": "stdout",
     "output_type": "stream",
     "text": [
      " ✖ no price data (empty history)\n",
      "→ Processing EPISB.ST …"
     ]
    },
    {
     "name": "stderr",
     "output_type": "stream",
     "text": [
      "$EPISB.ST: possibly delisted; no price data found  (period=1d)\n"
     ]
    },
    {
     "name": "stdout",
     "output_type": "stream",
     "text": [
      " ✖ no price data (empty history)\n",
      "→ Processing FEOIB.ST …"
     ]
    },
    {
     "name": "stderr",
     "output_type": "stream",
     "text": [
      "$FEOIB.ST: possibly delisted; no price data found  (period=1d) (Yahoo error = \"No data found, symbol may be delisted\")\n"
     ]
    },
    {
     "name": "stdout",
     "output_type": "stream",
     "text": [
      " ✖ no price data (empty history)\n",
      "→ Processing HEMF.ST …"
     ]
    },
    {
     "name": "stderr",
     "output_type": "stream",
     "text": [
      "$HEMF.ST: possibly delisted; no price data found  (period=1d) (Yahoo error = \"No data found, symbol may be delisted\")\n"
     ]
    },
    {
     "name": "stdout",
     "output_type": "stream",
     "text": [
      " ✖ no price data (empty history)\n",
      "→ Processing IVISYS.ST …"
     ]
    },
    {
     "name": "stderr",
     "output_type": "stream",
     "text": [
      "$IVISYS.ST: possibly delisted; no price data found  (period=1d) (Yahoo error = \"No data found, symbol may be delisted\")\n"
     ]
    },
    {
     "name": "stdout",
     "output_type": "stream",
     "text": [
      " ✖ no price data (empty history)\n",
      "→ Processing LIFCOB.ST …"
     ]
    },
    {
     "name": "stderr",
     "output_type": "stream",
     "text": [
      "$LIFCOB.ST: possibly delisted; no price data found  (period=1d)\n"
     ]
    },
    {
     "name": "stdout",
     "output_type": "stream",
     "text": [
      " ✖ no price data (empty history)\n",
      "→ Processing JOSE.ST …"
     ]
    },
    {
     "name": "stderr",
     "output_type": "stream",
     "text": [
      "$JOSE.ST: possibly delisted; no price data found  (period=1d) (Yahoo error = \"No data found, symbol may be delisted\")\n"
     ]
    },
    {
     "name": "stdout",
     "output_type": "stream",
     "text": [
      " ✖ no price data (empty history)\n",
      "→ Processing OP.ST …"
     ]
    },
    {
     "name": "stderr",
     "output_type": "stream",
     "text": [
      "$OP.ST: possibly delisted; no price data found  (period=1d) (Yahoo error = \"No data found, symbol may be delisted\")\n"
     ]
    },
    {
     "name": "stdout",
     "output_type": "stream",
     "text": [
      " ✖ no price data (empty history)\n",
      "→ Processing OPUS.ST …"
     ]
    },
    {
     "name": "stderr",
     "output_type": "stream",
     "text": [
      "$OPUS.ST: possibly delisted; no price data found  (period=1d) (Yahoo error = \"No data found, symbol may be delisted\")\n"
     ]
    },
    {
     "name": "stdout",
     "output_type": "stream",
     "text": [
      " ✖ no price data (empty history)\n",
      "→ Processing PLAZB.ST …"
     ]
    },
    {
     "name": "stderr",
     "output_type": "stream",
     "text": [
      "$PLAZB.ST: possibly delisted; no price data found  (period=1d)\n"
     ]
    },
    {
     "name": "stdout",
     "output_type": "stream",
     "text": [
      " ✖ no price data (empty history)\n",
      "→ Processing RECIB.ST …"
     ]
    },
    {
     "name": "stderr",
     "output_type": "stream",
     "text": [
      "$RECIB.ST: possibly delisted; no price data found  (period=1d)\n"
     ]
    },
    {
     "name": "stdout",
     "output_type": "stream",
     "text": [
      " ✖ no price data (empty history)\n",
      "→ Processing VICPA.ST …"
     ]
    },
    {
     "name": "stderr",
     "output_type": "stream",
     "text": [
      "$VICPA.ST: possibly delisted; no price data found  (period=1d)\n"
     ]
    },
    {
     "name": "stdout",
     "output_type": "stream",
     "text": [
      " ✖ no price data (empty history)\n",
      "→ Processing VICPB.ST …"
     ]
    },
    {
     "name": "stderr",
     "output_type": "stream",
     "text": [
      "$VICPB.ST: possibly delisted; no price data found  (period=1d)\n"
     ]
    },
    {
     "name": "stdout",
     "output_type": "stream",
     "text": [
      " ✖ no price data (empty history)\n",
      "→ Processing DEFLB.ST …"
     ]
    },
    {
     "name": "stderr",
     "output_type": "stream",
     "text": [
      "$DEFLB.ST: possibly delisted; no price data found  (period=1d) (Yahoo error = \"No data found, symbol may be delisted\")\n"
     ]
    },
    {
     "name": "stdout",
     "output_type": "stream",
     "text": [
      " ✖ no price data (empty history)\n",
      "→ Processing SALTB.ST …"
     ]
    },
    {
     "name": "stderr",
     "output_type": "stream",
     "text": [
      "$SALTB.ST: possibly delisted; no price data found  (period=1d) (Yahoo error = \"No data found, symbol may be delisted\")\n"
     ]
    },
    {
     "name": "stdout",
     "output_type": "stream",
     "text": [
      " ✖ no price data (empty history)\n",
      "→ Processing HEMB.ST …"
     ]
    },
    {
     "name": "stderr",
     "output_type": "stream",
     "text": [
      "$HEMB.ST: possibly delisted; no price data found  (period=1d) (Yahoo error = \"No data found, symbol may be delisted\")\n"
     ]
    },
    {
     "name": "stdout",
     "output_type": "stream",
     "text": [
      " ✖ no price data (empty history)\n",
      "→ Processing VSDYNB.ST …"
     ]
    },
    {
     "name": "stderr",
     "output_type": "stream",
     "text": [
      "$VSDYNB.ST: possibly delisted; no price data found  (period=1d) (Yahoo error = \"No data found, symbol may be delisted\")\n"
     ]
    },
    {
     "name": "stdout",
     "output_type": "stream",
     "text": [
      " ✖ no price data (empty history)\n",
      "→ Processing SPOR.ST …"
     ]
    },
    {
     "name": "stderr",
     "output_type": "stream",
     "text": [
      "$SPOR.ST: possibly delisted; no price data found  (period=1d) (Yahoo error = \"No data found, symbol may be delisted\")\n"
     ]
    },
    {
     "name": "stdout",
     "output_type": "stream",
     "text": [
      " ✖ no price data (empty history)\n",
      "→ Processing MULTINOK.ST …"
     ]
    },
    {
     "name": "stderr",
     "output_type": "stream",
     "text": [
      "$MULTINOK.ST: possibly delisted; no price data found  (period=1d) (Yahoo error = \"No data found, symbol may be delisted\")\n"
     ]
    },
    {
     "name": "stdout",
     "output_type": "stream",
     "text": [
      " ✖ no price data (empty history)\n",
      "→ Processing PHLOGB.ST …"
     ]
    },
    {
     "name": "stderr",
     "output_type": "stream",
     "text": [
      "$PHLOGB.ST: possibly delisted; no price data found  (period=1d) (Yahoo error = \"No data found, symbol may be delisted\")\n"
     ]
    },
    {
     "name": "stdout",
     "output_type": "stream",
     "text": [
      " ✖ no price data (empty history)\n",
      "→ Processing FGG.ST …"
     ]
    },
    {
     "name": "stderr",
     "output_type": "stream",
     "text": [
      "$FGG.ST: possibly delisted; no price data found  (period=1d) (Yahoo error = \"No data found, symbol may be delisted\")\n"
     ]
    },
    {
     "name": "stdout",
     "output_type": "stream",
     "text": [
      " ✖ no price data (empty history)\n",
      "→ Processing SCHANOK.ST …"
     ]
    },
    {
     "name": "stderr",
     "output_type": "stream",
     "text": [
      "$SCHANOK.ST: possibly delisted; no price data found  (period=1d) (Yahoo error = \"No data found, symbol may be delisted\")\n"
     ]
    },
    {
     "name": "stdout",
     "output_type": "stream",
     "text": [
      " ✖ no price data (empty history)\n",
      "→ Processing EPRNOK.ST …"
     ]
    },
    {
     "name": "stderr",
     "output_type": "stream",
     "text": [
      "$EPRNOK.ST: possibly delisted; no price data found  (period=1d) (Yahoo error = \"No data found, symbol may be delisted\")\n"
     ]
    },
    {
     "name": "stdout",
     "output_type": "stream",
     "text": [
      " ✖ no price data (empty history)\n",
      "→ Processing HOVD.ST …"
     ]
    },
    {
     "name": "stderr",
     "output_type": "stream",
     "text": [
      "$HOVD.ST: possibly delisted; no price data found  (period=1d) (Yahoo error = \"No data found, symbol may be delisted\")\n"
     ]
    },
    {
     "name": "stdout",
     "output_type": "stream",
     "text": [
      " ✖ no price data (empty history)\n",
      "→ Processing INISSB.ST …"
     ]
    },
    {
     "name": "stderr",
     "output_type": "stream",
     "text": [
      "$INISSB.ST: possibly delisted; no price data found  (period=1d) (Yahoo error = \"No data found, symbol may be delisted\")\n"
     ]
    },
    {
     "name": "stdout",
     "output_type": "stream",
     "text": [
      " ✖ no price data (empty history)\n",
      "→ Processing NILB.ST …"
     ]
    },
    {
     "name": "stderr",
     "output_type": "stream",
     "text": [
      "$NILB.ST: possibly delisted; no price data found  (period=1d)\n"
     ]
    },
    {
     "name": "stdout",
     "output_type": "stream",
     "text": [
      " ✖ no price data (empty history)\n",
      "→ Processing BATTM.ST …"
     ]
    },
    {
     "name": "stderr",
     "output_type": "stream",
     "text": [
      "$BATTM.ST: possibly delisted; no price data found  (period=1d) (Yahoo error = \"No data found, symbol may be delisted\")\n"
     ]
    },
    {
     "name": "stdout",
     "output_type": "stream",
     "text": [
      " ✖ no price data (empty history)\n",
      "→ Processing PRIME.ST …"
     ]
    },
    {
     "name": "stderr",
     "output_type": "stream",
     "text": [
      "$PRIME.ST: possibly delisted; no price data found  (period=1d) (Yahoo error = \"No data found, symbol may be delisted\")\n"
     ]
    },
    {
     "name": "stdout",
     "output_type": "stream",
     "text": [
      " ✖ no price data (empty history)\n",
      "→ Processing SCHBNOK.ST …"
     ]
    },
    {
     "name": "stderr",
     "output_type": "stream",
     "text": [
      "$SCHBNOK.ST: possibly delisted; no price data found  (period=1d) (Yahoo error = \"No data found, symbol may be delisted\")\n"
     ]
    },
    {
     "name": "stdout",
     "output_type": "stream",
     "text": [
      " ✖ no price data (empty history)\n",
      "→ Processing STZEA.ST …"
     ]
    },
    {
     "name": "stderr",
     "output_type": "stream",
     "text": [
      "$STZEA.ST: possibly delisted; no price data found  (period=1d) (Yahoo error = \"No data found, symbol may be delisted\")\n"
     ]
    },
    {
     "name": "stdout",
     "output_type": "stream",
     "text": [
      " ✖ no price data (empty history)\n",
      "→ Processing STZEB.ST …"
     ]
    },
    {
     "name": "stderr",
     "output_type": "stream",
     "text": [
      "$STZEB.ST: possibly delisted; no price data found  (period=1d) (Yahoo error = \"No data found, symbol may be delisted\")\n"
     ]
    },
    {
     "name": "stdout",
     "output_type": "stream",
     "text": [
      " ✖ no price data (empty history)\n",
      "→ Processing CRADB.ST …"
     ]
    },
    {
     "name": "stderr",
     "output_type": "stream",
     "text": [
      "$CRADB.ST: possibly delisted; no price data found  (period=1d)\n"
     ]
    },
    {
     "name": "stdout",
     "output_type": "stream",
     "text": [
      " ✖ no price data (empty history)\n",
      "→ Processing NOBINA.ST …"
     ]
    },
    {
     "name": "stderr",
     "output_type": "stream",
     "text": [
      "$NOBINA.ST: possibly delisted; no price data found  (period=1d) (Yahoo error = \"No data found, symbol may be delisted\")\n"
     ]
    },
    {
     "name": "stdout",
     "output_type": "stream",
     "text": [
      " ✖ no price data (empty history)\n",
      "→ Processing ORIFL.ST …"
     ]
    },
    {
     "name": "stderr",
     "output_type": "stream",
     "text": [
      "$ORIFL.ST: possibly delisted; no price data found  (period=1d) (Yahoo error = \"No data found, symbol may be delisted\")\n"
     ]
    },
    {
     "name": "stdout",
     "output_type": "stream",
     "text": [
      " ✖ no price data (empty history)\n",
      "→ Processing PANDXB.ST …"
     ]
    },
    {
     "name": "stderr",
     "output_type": "stream",
     "text": [
      "$PANDXB.ST: possibly delisted; no price data found  (period=1d) (Yahoo error = \"No data found, symbol may be delisted\")\n"
     ]
    },
    {
     "name": "stdout",
     "output_type": "stream",
     "text": [
      " ✖ no price data (empty history)\n",
      "→ Processing COLLE.ST …"
     ]
    },
    {
     "name": "stderr",
     "output_type": "stream",
     "text": [
      "$COLLE.ST: possibly delisted; no price data found  (period=1d) (Yahoo error = \"No data found, symbol may be delisted\")\n"
     ]
    },
    {
     "name": "stdout",
     "output_type": "stream",
     "text": [
      " ✖ no price data (empty history)\n",
      "→ Processing EOLUB.ST …"
     ]
    },
    {
     "name": "stderr",
     "output_type": "stream",
     "text": [
      "$EOLUB.ST: possibly delisted; no price data found  (period=1d)\n"
     ]
    },
    {
     "name": "stdout",
     "output_type": "stream",
     "text": [
      " ✖ no price data (empty history)\n",
      "→ Processing KLOVB.ST …"
     ]
    },
    {
     "name": "stderr",
     "output_type": "stream",
     "text": [
      "$KLOVB.ST: possibly delisted; no price data found  (period=1d) (Yahoo error = \"No data found, symbol may be delisted\")\n"
     ]
    },
    {
     "name": "stdout",
     "output_type": "stream",
     "text": [
      " ✖ no price data (empty history)\n",
      "→ Processing AHM1S.ST …"
     ]
    },
    {
     "name": "stderr",
     "output_type": "stream",
     "text": [
      "$AHM1S.ST: possibly delisted; no price data found  (period=1d) (Yahoo error = \"No data found, symbol may be delisted\")\n"
     ]
    },
    {
     "name": "stdout",
     "output_type": "stream",
     "text": [
      " ✖ no price data (empty history)\n",
      "→ Processing PRCOB.ST …"
     ]
    },
    {
     "name": "stderr",
     "output_type": "stream",
     "text": [
      "$PRCOB.ST: possibly delisted; no price data found  (period=1d)\n"
     ]
    },
    {
     "name": "stdout",
     "output_type": "stream",
     "text": [
      " ✖ no price data (empty history)\n",
      "→ Processing SLOTTA.ST …"
     ]
    },
    {
     "name": "stderr",
     "output_type": "stream",
     "text": [
      "$SLOTTA.ST: possibly delisted; no price data found  (period=1d) (Yahoo error = \"No data found, symbol may be delisted\")\n"
     ]
    },
    {
     "name": "stdout",
     "output_type": "stream",
     "text": [
      " ✖ no price data (empty history)\n",
      "→ Processing SLOTTB.ST …"
     ]
    },
    {
     "name": "stderr",
     "output_type": "stream",
     "text": [
      "$SLOTTB.ST: possibly delisted; no price data found  (period=1d) (Yahoo error = \"No data found, symbol may be delisted\")\n"
     ]
    },
    {
     "name": "stdout",
     "output_type": "stream",
     "text": [
      " ✖ no price data (empty history)\n",
      "→ Processing VISE.ST …"
     ]
    },
    {
     "name": "stderr",
     "output_type": "stream",
     "text": [
      "$VISE.ST: possibly delisted; no price data found  (period=1d) (Yahoo error = \"No data found, symbol may be delisted\")\n"
     ]
    },
    {
     "name": "stdout",
     "output_type": "stream",
     "text": [
      " ✖ no price data (empty history)\n",
      "→ Processing SPEQT.ST …"
     ]
    },
    {
     "name": "stderr",
     "output_type": "stream",
     "text": [
      "$SPEQT.ST: possibly delisted; no price data found  (period=1d) (Yahoo error = \"No data found, symbol may be delisted\")\n"
     ]
    },
    {
     "name": "stdout",
     "output_type": "stream",
     "text": [
      " ✖ no price data (empty history)\n",
      "→ Processing ADDVA.ST …"
     ]
    },
    {
     "name": "stderr",
     "output_type": "stream",
     "text": [
      "$ADDVA.ST: possibly delisted; no price data found  (period=1d)\n"
     ]
    },
    {
     "name": "stdout",
     "output_type": "stream",
     "text": [
      " ✖ no price data (empty history)\n",
      "→ Processing ADDVB.ST …"
     ]
    },
    {
     "name": "stderr",
     "output_type": "stream",
     "text": [
      "$ADDVB.ST: possibly delisted; no price data found  (period=1d)\n"
     ]
    },
    {
     "name": "stdout",
     "output_type": "stream",
     "text": [
      " ✖ no price data (empty history)\n",
      "→ Processing AGESB.ST …"
     ]
    },
    {
     "name": "stderr",
     "output_type": "stream",
     "text": [
      "$AGESB.ST: possibly delisted; no price data found  (period=1d) (Yahoo error = \"No data found, symbol may be delisted\")\n"
     ]
    },
    {
     "name": "stdout",
     "output_type": "stream",
     "text": [
      " ✖ no price data (empty history)\n",
      "→ Processing AJAB.ST …"
     ]
    },
    {
     "name": "stderr",
     "output_type": "stream",
     "text": [
      "$AJAB.ST: possibly delisted; no price data found  (period=1d)\n"
     ]
    },
    {
     "name": "stdout",
     "output_type": "stream",
     "text": [
      " ✖ no price data (empty history)\n",
      "→ Processing ALMT.ST …"
     ]
    },
    {
     "name": "stderr",
     "output_type": "stream",
     "text": [
      "$ALMT.ST: possibly delisted; no price data found  (period=1d) (Yahoo error = \"No data found, symbol may be delisted\")\n"
     ]
    },
    {
     "name": "stdout",
     "output_type": "stream",
     "text": [
      " ✖ no price data (empty history)\n",
      "→ Processing AMAST.ST …"
     ]
    },
    {
     "name": "stderr",
     "output_type": "stream",
     "text": [
      "$AMAST.ST: possibly delisted; no price data found  (period=1d) (Yahoo error = \"No data found, symbol may be delisted\")\n"
     ]
    },
    {
     "name": "stdout",
     "output_type": "stream",
     "text": [
      " ✖ no price data (empty history)\n",
      "→ Processing AURIM.ST …"
     ]
    },
    {
     "name": "stderr",
     "output_type": "stream",
     "text": [
      "$AURIM.ST: possibly delisted; no price data found  (period=1d) (Yahoo error = \"No data found, symbol may be delisted\")\n"
     ]
    },
    {
     "name": "stdout",
     "output_type": "stream",
     "text": [
      " ✖ no price data (empty history)\n",
      "→ Processing AVTCHB.ST …"
     ]
    },
    {
     "name": "stderr",
     "output_type": "stream",
     "text": [
      "$AVTCHB.ST: possibly delisted; no price data found  (period=1d) (Yahoo error = \"No data found, symbol may be delisted\")\n"
     ]
    },
    {
     "name": "stdout",
     "output_type": "stream",
     "text": [
      " ✖ no price data (empty history)\n",
      "→ Processing AXIC.ST …"
     ]
    },
    {
     "name": "stderr",
     "output_type": "stream",
     "text": [
      "$AXIC.ST: possibly delisted; no price data found  (period=1d) (Yahoo error = \"No data found, symbol may be delisted\")\n"
     ]
    },
    {
     "name": "stdout",
     "output_type": "stream",
     "text": [
      " ✖ no price data (empty history)\n",
      "→ Processing BIMOB.ST …"
     ]
    },
    {
     "name": "stderr",
     "output_type": "stream",
     "text": [
      "$BIMOB.ST: possibly delisted; no price data found  (period=1d) (Yahoo error = \"No data found, symbol may be delisted\")\n"
     ]
    },
    {
     "name": "stdout",
     "output_type": "stream",
     "text": [
      " ✖ no price data (empty history)\n",
      "→ Processing BRIG.ST …"
     ]
    },
    {
     "name": "stderr",
     "output_type": "stream",
     "text": [
      "$BRIG.ST: possibly delisted; no price data found  (period=1d) (Yahoo error = \"No data found, symbol may be delisted\")\n"
     ]
    },
    {
     "name": "stdout",
     "output_type": "stream",
     "text": [
      " ✖ no price data (empty history)\n",
      "→ Processing CAPAC.ST …"
     ]
    },
    {
     "name": "stderr",
     "output_type": "stream",
     "text": [
      "$CAPAC.ST: possibly delisted; no price data found  (period=1d) (Yahoo error = \"No data found, symbol may be delisted\")\n"
     ]
    },
    {
     "name": "stdout",
     "output_type": "stream",
     "text": [
      " ✖ no price data (empty history)\n",
      "→ Processing CATA.ST …"
     ]
    },
    {
     "name": "stderr",
     "output_type": "stream",
     "text": [
      "$CATA.ST: possibly delisted; no price data found  (period=1d) (Yahoo error = \"No data found, symbol may be delisted\")\n"
     ]
    },
    {
     "name": "stdout",
     "output_type": "stream",
     "text": [
      " ✖ no price data (empty history)\n",
      "→ Processing CATB.ST …"
     ]
    },
    {
     "name": "stderr",
     "output_type": "stream",
     "text": [
      "$CATB.ST: possibly delisted; no price data found  (period=1d)\n"
     ]
    },
    {
     "name": "stdout",
     "output_type": "stream",
     "text": [
      " ✖ no price data (empty history)\n",
      "→ Processing CBTTB.ST …"
     ]
    },
    {
     "name": "stderr",
     "output_type": "stream",
     "text": [
      "$CBTTB.ST: possibly delisted; no price data found  (period=1d)\n"
     ]
    },
    {
     "name": "stdout",
     "output_type": "stream",
     "text": [
      " ✖ no price data (empty history)\n",
      "→ Processing CIB.ST …"
     ]
    },
    {
     "name": "stderr",
     "output_type": "stream",
     "text": [
      "$CIB.ST: possibly delisted; no price data found  (period=1d) (Yahoo error = \"No data found, symbol may be delisted\")\n"
     ]
    },
    {
     "name": "stdout",
     "output_type": "stream",
     "text": [
      " ✖ no price data (empty history)\n",
      "→ Processing CLAVI.ST …"
     ]
    },
    {
     "name": "stderr",
     "output_type": "stream",
     "text": [
      "$CLAVI.ST: possibly delisted; no price data found  (period=1d) (Yahoo error = \"No data found, symbol may be delisted\")\n"
     ]
    },
    {
     "name": "stdout",
     "output_type": "stream",
     "text": [
      " ✖ no price data (empty history)\n",
      "→ Processing COEN.ST …"
     ]
    },
    {
     "name": "stderr",
     "output_type": "stream",
     "text": [
      "$COEN.ST: possibly delisted; no price data found  (period=1d) (Yahoo error = \"No data found, symbol may be delisted\")\n"
     ]
    },
    {
     "name": "stdout",
     "output_type": "stream",
     "text": [
      " ✖ no price data (empty history)\n",
      "→ Processing CONF.ST …"
     ]
    },
    {
     "name": "stderr",
     "output_type": "stream",
     "text": [
      "$CONF.ST: possibly delisted; no price data found  (period=1d) (Yahoo error = \"No data found, symbol may be delisted\")\n"
     ]
    },
    {
     "name": "stdout",
     "output_type": "stream",
     "text": [
      " ✖ no price data (empty history)\n",
      "→ Processing DELARK.ST …"
     ]
    },
    {
     "name": "stderr",
     "output_type": "stream",
     "text": [
      "$DELARK.ST: possibly delisted; no price data found  (period=1d) (Yahoo error = \"No data found, symbol may be delisted\")\n"
     ]
    },
    {
     "name": "stdout",
     "output_type": "stream",
     "text": [
      " ✖ no price data (empty history)\n",
      "→ Processing DISTIT.ST …"
     ]
    },
    {
     "name": "stderr",
     "output_type": "stream",
     "text": [
      "$DISTIT.ST: possibly delisted; no price data found  (period=1d) (Yahoo error = \"No data found, symbol may be delisted\")\n"
     ]
    },
    {
     "name": "stdout",
     "output_type": "stream",
     "text": [
      " ✖ no price data (empty history)\n",
      "→ Processing DMYDB.ST …"
     ]
    },
    {
     "name": "stderr",
     "output_type": "stream",
     "text": [
      "$DMYDB.ST: possibly delisted; no price data found  (period=1d) (Yahoo error = \"No data found, symbol may be delisted\")\n"
     ]
    },
    {
     "name": "stdout",
     "output_type": "stream",
     "text": [
      " ✖ no price data (empty history)\n",
      "→ Processing DOMEN.ST …"
     ]
    },
    {
     "name": "stderr",
     "output_type": "stream",
     "text": [
      "$DOMEN.ST: possibly delisted; no price data found  (period=1d) (Yahoo error = \"No data found, symbol may be delisted\")\n"
     ]
    },
    {
     "name": "stdout",
     "output_type": "stream",
     "text": [
      " ✖ no price data (empty history)\n",
      "→ Processing ELLE.ST …"
     ]
    },
    {
     "name": "stderr",
     "output_type": "stream",
     "text": [
      "$ELLE.ST: possibly delisted; no price data found  (period=1d) (Yahoo error = \"No data found, symbol may be delisted\")\n"
     ]
    },
    {
     "name": "stdout",
     "output_type": "stream",
     "text": [
      " ✖ no price data (empty history)\n",
      "→ Processing FFLY.ST …"
     ]
    },
    {
     "name": "stderr",
     "output_type": "stream",
     "text": [
      "$FFLY.ST: possibly delisted; no price data found  (period=1d) (Yahoo error = \"No data found, symbol may be delisted\")\n"
     ]
    },
    {
     "name": "stdout",
     "output_type": "stream",
     "text": [
      " ✖ no price data (empty history)\n",
      "→ Processing GENOB.ST …"
     ]
    },
    {
     "name": "stderr",
     "output_type": "stream",
     "text": [
      "$GENOB.ST: possibly delisted; no price data found  (period=1d) (Yahoo error = \"No data found, symbol may be delisted\")\n"
     ]
    },
    {
     "name": "stdout",
     "output_type": "stream",
     "text": [
      " ✖ no price data (empty history)\n",
      "→ Processing GHUSB.ST …"
     ]
    },
    {
     "name": "stderr",
     "output_type": "stream",
     "text": [
      "$GHUSB.ST: possibly delisted; no price data found  (period=1d) (Yahoo error = \"No data found, symbol may be delisted\")\n"
     ]
    },
    {
     "name": "stdout",
     "output_type": "stream",
     "text": [
      " ✖ no price data (empty history)\n",
      "→ Processing HIFAB.ST …"
     ]
    },
    {
     "name": "stderr",
     "output_type": "stream",
     "text": [
      "$HIFAB.ST: possibly delisted; no price data found  (period=1d)\n"
     ]
    },
    {
     "name": "stdout",
     "output_type": "stream",
     "text": [
      " ✖ no price data (empty history)\n",
      "→ Processing IMMUN.ST …"
     ]
    },
    {
     "name": "stderr",
     "output_type": "stream",
     "text": [
      "$IMMUN.ST: possibly delisted; no price data found  (period=1d) (Yahoo error = \"No data found, symbol may be delisted\")\n"
     ]
    },
    {
     "name": "stdout",
     "output_type": "stream",
     "text": [
      " ✖ no price data (empty history)\n",
      "→ Processing NBZG.ST …"
     ]
    },
    {
     "name": "stderr",
     "output_type": "stream",
     "text": [
      "$NBZG.ST: possibly delisted; no price data found  (period=1d) (Yahoo error = \"No data found, symbol may be delisted\")\n"
     ]
    },
    {
     "name": "stdout",
     "output_type": "stream",
     "text": [
      " ✖ no price data (empty history)\n",
      "→ Processing JLTM.ST …"
     ]
    },
    {
     "name": "stderr",
     "output_type": "stream",
     "text": [
      "$JLTM.ST: possibly delisted; no price data found  (period=1d) (Yahoo error = \"No data found, symbol may be delisted\")\n"
     ]
    },
    {
     "name": "stdout",
     "output_type": "stream",
     "text": [
      " ✖ no price data (empty history)\n",
      "→ Processing KOPY.ST …"
     ]
    },
    {
     "name": "stderr",
     "output_type": "stream",
     "text": [
      "$KOPY.ST: possibly delisted; no price data found  (period=1d) (Yahoo error = \"No data found, symbol may be delisted\")\n"
     ]
    },
    {
     "name": "stdout",
     "output_type": "stream",
     "text": [
      " ✖ no price data (empty history)\n",
      "→ Processing LLSWB.ST …"
     ]
    },
    {
     "name": "stderr",
     "output_type": "stream",
     "text": [
      "$LLSWB.ST: possibly delisted; no price data found  (period=1d)\n"
     ]
    },
    {
     "name": "stdout",
     "output_type": "stream",
     "text": [
      " ✖ no price data (empty history)\n",
      "→ Processing MACKB.ST …"
     ]
    },
    {
     "name": "stderr",
     "output_type": "stream",
     "text": [
      "$MACKB.ST: possibly delisted; no price data found  (period=1d) (Yahoo error = \"No data found, symbol may be delisted\")\n"
     ]
    },
    {
     "name": "stdout",
     "output_type": "stream",
     "text": [
      " ✖ no price data (empty history)\n",
      "→ Processing MAGNO.ST …"
     ]
    },
    {
     "name": "stderr",
     "output_type": "stream",
     "text": [
      "$MAGNO.ST: possibly delisted; no price data found  (period=1d) (Yahoo error = \"No data found, symbol may be delisted\")\n"
     ]
    },
    {
     "name": "stdout",
     "output_type": "stream",
     "text": [
      " ✖ no price data (empty history)\n",
      "→ Processing MANGS.ST …"
     ]
    },
    {
     "name": "stderr",
     "output_type": "stream",
     "text": [
      "$MANGS.ST: possibly delisted; no price data found  (period=1d) (Yahoo error = \"No data found, symbol may be delisted\")\n"
     ]
    },
    {
     "name": "stdout",
     "output_type": "stream",
     "text": [
      " ✖ no price data (empty history)\n",
      "→ Processing MEDCAP.ST …"
     ]
    },
    {
     "name": "stderr",
     "output_type": "stream",
     "text": [
      "$MEDCAP.ST: possibly delisted; no price data found  (period=1d) (Yahoo error = \"No data found, symbol may be delisted\")\n"
     ]
    },
    {
     "name": "stdout",
     "output_type": "stream",
     "text": [
      " ✖ no price data (empty history)\n",
      "→ Processing MEEK.ST …"
     ]
    },
    {
     "name": "stderr",
     "output_type": "stream",
     "text": [
      "$MEEK.ST: possibly delisted; no price data found  (period=1d) (Yahoo error = \"No data found, symbol may be delisted\")\n"
     ]
    },
    {
     "name": "stdout",
     "output_type": "stream",
     "text": [
      " ✖ no price data (empty history)\n",
      "→ Processing IRIST.ST …"
     ]
    },
    {
     "name": "stderr",
     "output_type": "stream",
     "text": [
      "$IRIST.ST: possibly delisted; no price data found  (period=1d) (Yahoo error = \"No data found, symbol may be delisted\")\n"
     ]
    },
    {
     "name": "stdout",
     "output_type": "stream",
     "text": [
      " ✖ no price data (empty history)\n",
      "→ Processing MISE.ST …"
     ]
    },
    {
     "name": "stderr",
     "output_type": "stream",
     "text": [
      "$MISE.ST: possibly delisted; no price data found  (period=1d) (Yahoo error = \"No data found, symbol may be delisted\")\n"
     ]
    },
    {
     "name": "stdout",
     "output_type": "stream",
     "text": [
      " ✖ no price data (empty history)\n",
      "→ Processing MYFC.ST …"
     ]
    },
    {
     "name": "stderr",
     "output_type": "stream",
     "text": [
      "$MYFC.ST: possibly delisted; no price data found  (period=1d) (Yahoo error = \"No data found, symbol may be delisted\")\n"
     ]
    },
    {
     "name": "stdout",
     "output_type": "stream",
     "text": [
      " ✖ no price data (empty history)\n",
      "→ Processing NISCH.ST …"
     ]
    },
    {
     "name": "stderr",
     "output_type": "stream",
     "text": [
      "$NISCH.ST: possibly delisted; no price data found  (period=1d) (Yahoo error = \"No data found, symbol may be delisted\")\n"
     ]
    },
    {
     "name": "stdout",
     "output_type": "stream",
     "text": [
      " ✖ no price data (empty history)\n",
      "→ Processing NLABA.ST …"
     ]
    },
    {
     "name": "stderr",
     "output_type": "stream",
     "text": [
      "$NLABA.ST: possibly delisted; no price data found  (period=1d) (Yahoo error = \"No data found, symbol may be delisted\")\n"
     ]
    },
    {
     "name": "stdout",
     "output_type": "stream",
     "text": [
      " ✖ no price data (empty history)\n",
      "→ Processing CLEME.ST …"
     ]
    },
    {
     "name": "stderr",
     "output_type": "stream",
     "text": [
      "$CLEME.ST: possibly delisted; no price data found  (period=1d) (Yahoo error = \"No data found, symbol may be delisted\")\n"
     ]
    },
    {
     "name": "stdout",
     "output_type": "stream",
     "text": [
      " ✖ no price data (empty history)\n",
      "→ Processing NWND.ST …"
     ]
    },
    {
     "name": "stderr",
     "output_type": "stream",
     "text": [
      "$NWND.ST: possibly delisted; no price data found  (period=1d) (Yahoo error = \"No data found, symbol may be delisted\")\n"
     ]
    },
    {
     "name": "stdout",
     "output_type": "stream",
     "text": [
      " ✖ no price data (empty history)\n",
      "→ Processing PALSB.ST …"
     ]
    },
    {
     "name": "stderr",
     "output_type": "stream",
     "text": [
      "$PALSB.ST: possibly delisted; no price data found  (period=1d) (Yahoo error = \"No data found, symbol may be delisted\")\n"
     ]
    },
    {
     "name": "stdout",
     "output_type": "stream",
     "text": [
      " ✖ no price data (empty history)\n",
      "→ Processing PCOMB.ST …"
     ]
    },
    {
     "name": "stderr",
     "output_type": "stream",
     "text": [
      "$PCOMB.ST: possibly delisted; no price data found  (period=1d) (Yahoo error = \"No data found, symbol may be delisted\")\n"
     ]
    },
    {
     "name": "stdout",
     "output_type": "stream",
     "text": [
      " ✖ no price data (empty history)\n",
      "→ Processing SAXGR.ST …"
     ]
    },
    {
     "name": "stderr",
     "output_type": "stream",
     "text": [
      "$SAXGR.ST: possibly delisted; no price data found  (period=1d) (Yahoo error = \"No data found, symbol may be delisted\")\n"
     ]
    },
    {
     "name": "stdout",
     "output_type": "stream",
     "text": [
      " ✖ no price data (empty history)\n",
      "→ Processing PLED.ST …"
     ]
    },
    {
     "name": "stderr",
     "output_type": "stream",
     "text": [
      "$PLED.ST: possibly delisted; no price data found  (period=1d) (Yahoo error = \"No data found, symbol may be delisted\")\n"
     ]
    },
    {
     "name": "stdout",
     "output_type": "stream",
     "text": [
      " ✖ no price data (empty history)\n",
      "→ Processing SAVOS.ST …"
     ]
    },
    {
     "name": "stderr",
     "output_type": "stream",
     "text": [
      "$SAVOS.ST: possibly delisted; no price data found  (period=1d) (Yahoo error = \"No data found, symbol may be delisted\")\n"
     ]
    },
    {
     "name": "stdout",
     "output_type": "stream",
     "text": [
      " ✖ no price data (empty history)\n",
      "→ Processing SCENS.ST …"
     ]
    },
    {
     "name": "stderr",
     "output_type": "stream",
     "text": [
      "$SCENS.ST: possibly delisted; no price data found  (period=1d) (Yahoo error = \"No data found, symbol may be delisted\")\n"
     ]
    },
    {
     "name": "stdout",
     "output_type": "stream",
     "text": [
      " ✖ no price data (empty history)\n",
      "→ Processing SEABB.ST …"
     ]
    },
    {
     "name": "stderr",
     "output_type": "stream",
     "text": [
      "$SEABB.ST: possibly delisted; no price data found  (period=1d) (Yahoo error = \"No data found, symbol may be delisted\")\n"
     ]
    },
    {
     "name": "stdout",
     "output_type": "stream",
     "text": [
      " ✖ no price data (empty history)\n",
      "→ Processing SJRB.ST …"
     ]
    },
    {
     "name": "stderr",
     "output_type": "stream",
     "text": [
      "$SJRB.ST: possibly delisted; no price data found  (period=1d)\n"
     ]
    },
    {
     "name": "stdout",
     "output_type": "stream",
     "text": [
      " ✖ no price data (empty history)\n",
      "→ Processing ALLGB.ST …"
     ]
    },
    {
     "name": "stderr",
     "output_type": "stream",
     "text": [
      "$ALLGB.ST: possibly delisted; no price data found  (period=1d)\n"
     ]
    },
    {
     "name": "stdout",
     "output_type": "stream",
     "text": [
      " ✖ no price data (empty history)\n",
      "→ Processing SNMP.ST …"
     ]
    },
    {
     "name": "stderr",
     "output_type": "stream",
     "text": [
      "$SNMP.ST: possibly delisted; no price data found  (period=1d) (Yahoo error = \"No data found, symbol may be delisted\")\n"
     ]
    },
    {
     "name": "stdout",
     "output_type": "stream",
     "text": [
      " ✖ no price data (empty history)\n",
      "→ Processing STEFB.ST …"
     ]
    },
    {
     "name": "stderr",
     "output_type": "stream",
     "text": [
      "$STEFB.ST: possibly delisted; no price data found  (period=1d)\n"
     ]
    },
    {
     "name": "stdout",
     "output_type": "stream",
     "text": [
      " ✖ no price data (empty history)\n",
      "→ Processing STLL.ST …"
     ]
    },
    {
     "name": "stderr",
     "output_type": "stream",
     "text": [
      "$STLL.ST: possibly delisted; no price data found  (period=1d) (Yahoo error = \"No data found, symbol may be delisted\")\n"
     ]
    },
    {
     "name": "stdout",
     "output_type": "stream",
     "text": [
      " ✖ no price data (empty history)\n",
      "→ Processing STORYB.ST …"
     ]
    },
    {
     "name": "stderr",
     "output_type": "stream",
     "text": [
      "$STORYB.ST: possibly delisted; no price data found  (period=1d) (Yahoo error = \"No data found, symbol may be delisted\")\n"
     ]
    },
    {
     "name": "stdout",
     "output_type": "stream",
     "text": [
      " ✖ no price data (empty history)\n",
      "→ Processing TAGMB.ST …"
     ]
    },
    {
     "name": "stderr",
     "output_type": "stream",
     "text": [
      "$TAGMB.ST: possibly delisted; no price data found  (period=1d)\n"
     ]
    },
    {
     "name": "stdout",
     "output_type": "stream",
     "text": [
      " ✖ no price data (empty history)\n",
      "→ Processing TEONE.ST …"
     ]
    },
    {
     "name": "stderr",
     "output_type": "stream",
     "text": [
      "$TEONE.ST: possibly delisted; no price data found  (period=1d) (Yahoo error = \"No data found, symbol may be delisted\")\n"
     ]
    },
    {
     "name": "stdout",
     "output_type": "stream",
     "text": [
      " ✖ no price data (empty history)\n",
      "→ Processing UTG1.ST …"
     ]
    },
    {
     "name": "stderr",
     "output_type": "stream",
     "text": [
      "$UTG1.ST: possibly delisted; no price data found  (period=1d) (Yahoo error = \"No data found, symbol may be delisted\")\n"
     ]
    },
    {
     "name": "stdout",
     "output_type": "stream",
     "text": [
      " ✖ no price data (empty history)\n",
      "→ Processing VEMFSDB.ST …"
     ]
    },
    {
     "name": "stderr",
     "output_type": "stream",
     "text": [
      "$VEMFSDB.ST: possibly delisted; no price data found  (period=1d) (Yahoo error = \"No data found, symbol may be delisted\")\n"
     ]
    },
    {
     "name": "stdout",
     "output_type": "stream",
     "text": [
      " ✖ no price data (empty history)\n",
      "→ Processing WESC.ST …"
     ]
    },
    {
     "name": "stderr",
     "output_type": "stream",
     "text": [
      "$WESC.ST: possibly delisted; no price data found  (period=1d) (Yahoo error = \"No data found, symbol may be delisted\")\n"
     ]
    },
    {
     "name": "stdout",
     "output_type": "stream",
     "text": [
      " ✖ no price data (empty history)\n",
      "→ Processing WIFOG.ST …"
     ]
    },
    {
     "name": "stderr",
     "output_type": "stream",
     "text": [
      "$WIFOG.ST: possibly delisted; no price data found  (period=1d) (Yahoo error = \"No data found, symbol may be delisted\")\n"
     ]
    },
    {
     "name": "stdout",
     "output_type": "stream",
     "text": [
      " ✖ no price data (empty history)\n",
      "→ Processing ZETA.ST …"
     ]
    },
    {
     "name": "stderr",
     "output_type": "stream",
     "text": [
      "$ZETA.ST: possibly delisted; no price data found  (period=1d) (Yahoo error = \"No data found, symbol may be delisted\")\n"
     ]
    },
    {
     "name": "stdout",
     "output_type": "stream",
     "text": [
      " ✖ no price data (empty history)\n",
      "→ Processing ZZB.ST …"
     ]
    },
    {
     "name": "stderr",
     "output_type": "stream",
     "text": [
      "$ZZB.ST: possibly delisted; no price data found  (period=1d) (Yahoo error = \"No data found, symbol may be delisted\")\n"
     ]
    },
    {
     "name": "stdout",
     "output_type": "stream",
     "text": [
      " ✖ no price data (empty history)\n",
      "→ Processing OV.ST …"
     ]
    },
    {
     "name": "stderr",
     "output_type": "stream",
     "text": [
      "$OV.ST: possibly delisted; no price data found  (period=1d) (Yahoo error = \"No data found, symbol may be delisted\")\n"
     ]
    },
    {
     "name": "stdout",
     "output_type": "stream",
     "text": [
      " ✖ no price data (empty history)\n",
      "→ Processing AAPB.ST …"
     ]
    },
    {
     "name": "stderr",
     "output_type": "stream",
     "text": [
      "$AAPB.ST: possibly delisted; no price data found  (period=1d)\n"
     ]
    },
    {
     "name": "stdout",
     "output_type": "stream",
     "text": [
      " ✖ no price data (empty history)\n",
      "→ Processing HAMLET.ST …"
     ]
    },
    {
     "name": "stderr",
     "output_type": "stream",
     "text": [
      "$HAMLET.ST: possibly delisted; no price data found  (period=1d) (Yahoo error = \"No data found, symbol may be delisted\")\n"
     ]
    },
    {
     "name": "stdout",
     "output_type": "stream",
     "text": [
      " ✖ no price data (empty history)\n",
      "→ Processing KIDNOK.ST …"
     ]
    },
    {
     "name": "stderr",
     "output_type": "stream",
     "text": [
      "$KIDNOK.ST: possibly delisted; no price data found  (period=1d) (Yahoo error = \"No data found, symbol may be delisted\")\n"
     ]
    },
    {
     "name": "stdout",
     "output_type": "stream",
     "text": [
      " ✖ no price data (empty history)\n",
      "→ Processing PEXAB.ST …"
     ]
    },
    {
     "name": "stderr",
     "output_type": "stream",
     "text": [
      "$PEXAB.ST: possibly delisted; no price data found  (period=1d) (Yahoo error = \"No data found, symbol may be delisted\")\n"
     ]
    },
    {
     "name": "stdout",
     "output_type": "stream",
     "text": [
      " ✖ no price data (empty history)\n",
      "→ Processing SBANKNOK.ST …"
     ]
    },
    {
     "name": "stderr",
     "output_type": "stream",
     "text": [
      "$SBANKNOK.ST: possibly delisted; no price data found  (period=1d) (Yahoo error = \"No data found, symbol may be delisted\")\n"
     ]
    },
    {
     "name": "stdout",
     "output_type": "stream",
     "text": [
      " ✖ no price data (empty history)\n",
      "→ Processing AHA.ST …"
     ]
    },
    {
     "name": "stderr",
     "output_type": "stream",
     "text": [
      "$AHA.ST: possibly delisted; no price data found  (period=1d) (Yahoo error = \"No data found, symbol may be delisted\")\n"
     ]
    },
    {
     "name": "stdout",
     "output_type": "stream",
     "text": [
      " ✖ no price data (empty history)\n",
      "→ Processing DOMETIC.ST …"
     ]
    },
    {
     "name": "stderr",
     "output_type": "stream",
     "text": [
      "$DOMETIC.ST: possibly delisted; no price data found  (period=1d) (Yahoo error = \"No data found, symbol may be delisted\")\n"
     ]
    },
    {
     "name": "stdout",
     "output_type": "stream",
     "text": [
      " ✖ no price data (empty history)\n",
      "→ Processing MOXI.ST …"
     ]
    },
    {
     "name": "stderr",
     "output_type": "stream",
     "text": [
      "$MOXI.ST: possibly delisted; no price data found  (period=1d) (Yahoo error = \"No data found, symbol may be delisted\")\n"
     ]
    },
    {
     "name": "stdout",
     "output_type": "stream",
     "text": [
      " ✖ no price data (empty history)\n",
      "→ Processing WAYSH.ST …"
     ]
    },
    {
     "name": "stderr",
     "output_type": "stream",
     "text": [
      "$WAYSH.ST: possibly delisted; no price data found  (period=1d) (Yahoo error = \"No data found, symbol may be delisted\")\n"
     ]
    },
    {
     "name": "stdout",
     "output_type": "stream",
     "text": [
      " ✖ no price data (empty history)\n",
      "→ Processing ACMED.ST …"
     ]
    },
    {
     "name": "stderr",
     "output_type": "stream",
     "text": [
      "$ACMED.ST: possibly delisted; no price data found  (period=1d) (Yahoo error = \"No data found, symbol may be delisted\")\n"
     ]
    },
    {
     "name": "stdout",
     "output_type": "stream",
     "text": [
      " ✖ no price data (empty history)\n",
      "→ Processing ATTE.ST …"
     ]
    },
    {
     "name": "stderr",
     "output_type": "stream",
     "text": [
      "$ATTE.ST: possibly delisted; no price data found  (period=1d) (Yahoo error = \"No data found, symbol may be delisted\")\n"
     ]
    },
    {
     "name": "stdout",
     "output_type": "stream",
     "text": [
      " ✖ no price data (empty history)\n",
      "→ Processing GAMIGNOK.ST …"
     ]
    },
    {
     "name": "stderr",
     "output_type": "stream",
     "text": [
      "$GAMIGNOK.ST: possibly delisted; no price data found  (period=1d) (Yahoo error = \"No data found, symbol may be delisted\")\n"
     ]
    },
    {
     "name": "stdout",
     "output_type": "stream",
     "text": [
      " ✖ no price data (empty history)\n",
      "→ Processing SFRG.ST …"
     ]
    },
    {
     "name": "stderr",
     "output_type": "stream",
     "text": [
      "$SFRG.ST: possibly delisted; no price data found  (period=1d) (Yahoo error = \"No data found, symbol may be delisted\")\n"
     ]
    },
    {
     "name": "stdout",
     "output_type": "stream",
     "text": [
      " ✖ no price data (empty history)\n",
      "→ Processing SHOTE.ST …"
     ]
    },
    {
     "name": "stderr",
     "output_type": "stream",
     "text": [
      "$SHOTE.ST: possibly delisted; no price data found  (period=1d) (Yahoo error = \"No data found, symbol may be delisted\")\n"
     ]
    },
    {
     "name": "stdout",
     "output_type": "stream",
     "text": [
      " ✖ no price data (empty history)\n",
      "→ Processing TCTE.ST …"
     ]
    },
    {
     "name": "stderr",
     "output_type": "stream",
     "text": [
      "$TCTE.ST: possibly delisted; no price data found  (period=1d) (Yahoo error = \"No data found, symbol may be delisted\")\n"
     ]
    },
    {
     "name": "stdout",
     "output_type": "stream",
     "text": [
      " ✖ no price data (empty history)\n",
      "→ Processing VICOR.ST …"
     ]
    },
    {
     "name": "stderr",
     "output_type": "stream",
     "text": [
      "$VICOR.ST: possibly delisted; no price data found  (period=1d) (Yahoo error = \"No data found, symbol may be delisted\")\n"
     ]
    },
    {
     "name": "stdout",
     "output_type": "stream",
     "text": [
      " ✖ no price data (empty history)\n",
      "→ Processing ZENZIPB.ST …"
     ]
    },
    {
     "name": "stderr",
     "output_type": "stream",
     "text": [
      "$ZENZIPB.ST: possibly delisted; no price data found  (period=1d) (Yahoo error = \"No data found, symbol may be delisted\")\n"
     ]
    },
    {
     "name": "stdout",
     "output_type": "stream",
     "text": [
      " ✖ no price data (empty history)\n",
      "→ Processing IMINT.ST …"
     ]
    },
    {
     "name": "stderr",
     "output_type": "stream",
     "text": [
      "$IMINT.ST: possibly delisted; no price data found  (period=1d) (Yahoo error = \"No data found, symbol may be delisted\")\n"
     ]
    },
    {
     "name": "stdout",
     "output_type": "stream",
     "text": [
      " ✖ no price data (empty history)\n",
      "→ Processing NUEVOL.ST …"
     ]
    },
    {
     "name": "stderr",
     "output_type": "stream",
     "text": [
      "$NUEVOL.ST: possibly delisted; no price data found  (period=1d) (Yahoo error = \"No data found, symbol may be delisted\")\n"
     ]
    },
    {
     "name": "stdout",
     "output_type": "stream",
     "text": [
      " ✖ no price data (empty history)\n",
      "→ Processing PHLYNOK.ST …"
     ]
    },
    {
     "name": "stderr",
     "output_type": "stream",
     "text": [
      "$PHLYNOK.ST: possibly delisted; no price data found  (period=1d) (Yahoo error = \"No data found, symbol may be delisted\")\n"
     ]
    },
    {
     "name": "stdout",
     "output_type": "stream",
     "text": [
      " ✖ no price data (empty history)\n",
      "→ Processing QUICK.ST …"
     ]
    },
    {
     "name": "stderr",
     "output_type": "stream",
     "text": [
      "$QUICK.ST: possibly delisted; no price data found  (period=1d) (Yahoo error = \"No data found, symbol may be delisted\")\n"
     ]
    },
    {
     "name": "stdout",
     "output_type": "stream",
     "text": [
      " ✖ no price data (empty history)\n",
      "→ Processing SPIRA.ST …"
     ]
    },
    {
     "name": "stderr",
     "output_type": "stream",
     "text": [
      "$SPIRA.ST: possibly delisted; no price data found  (period=1d) (Yahoo error = \"No data found, symbol may be delisted\")\n"
     ]
    },
    {
     "name": "stdout",
     "output_type": "stream",
     "text": [
      " ✖ no price data (empty history)\n",
      "→ Processing TOLE.ST …"
     ]
    },
    {
     "name": "stderr",
     "output_type": "stream",
     "text": [
      "$TOLE.ST: possibly delisted; no price data found  (period=1d) (Yahoo error = \"No data found, symbol may be delisted\")\n"
     ]
    },
    {
     "name": "stdout",
     "output_type": "stream",
     "text": [
      " ✖ no price data (empty history)\n",
      "→ Processing VISTINNOK.ST …"
     ]
    },
    {
     "name": "stderr",
     "output_type": "stream",
     "text": [
      "$VISTINNOK.ST: possibly delisted; no price data found  (period=1d) (Yahoo error = \"No data found, symbol may be delisted\")\n"
     ]
    },
    {
     "name": "stdout",
     "output_type": "stream",
     "text": [
      " ✖ no price data (empty history)\n",
      "→ Processing AXACNOK.ST …"
     ]
    },
    {
     "name": "stderr",
     "output_type": "stream",
     "text": [
      "$AXACNOK.ST: possibly delisted; no price data found  (period=1d) (Yahoo error = \"No data found, symbol may be delisted\")\n"
     ]
    },
    {
     "name": "stdout",
     "output_type": "stream",
     "text": [
      " ✖ no price data (empty history)\n",
      "→ Processing NRCNOK.ST …"
     ]
    },
    {
     "name": "stderr",
     "output_type": "stream",
     "text": [
      "$NRCNOK.ST: possibly delisted; no price data found  (period=1d) (Yahoo error = \"No data found, symbol may be delisted\")\n"
     ]
    },
    {
     "name": "stdout",
     "output_type": "stream",
     "text": [
      " ✖ no price data (empty history)\n",
      "→ Processing PRIMEPREFB.ST …"
     ]
    },
    {
     "name": "stderr",
     "output_type": "stream",
     "text": [
      "$PRIMEPREFB.ST: possibly delisted; no price data found  (period=1d) (Yahoo error = \"No data found, symbol may be delisted\")\n"
     ]
    },
    {
     "name": "stdout",
     "output_type": "stream",
     "text": [
      " ✖ no price data (empty history)\n",
      "→ Processing RBASE.ST …"
     ]
    },
    {
     "name": "stderr",
     "output_type": "stream",
     "text": [
      "$RBASE.ST: possibly delisted; no price data found  (period=1d) (Yahoo error = \"No data found, symbol may be delisted\")\n"
     ]
    },
    {
     "name": "stdout",
     "output_type": "stream",
     "text": [
      " ✖ no price data (empty history)\n",
      "→ Processing CATME.ST …"
     ]
    },
    {
     "name": "stderr",
     "output_type": "stream",
     "text": [
      "$CATME.ST: possibly delisted; no price data found  (period=1d) (Yahoo error = \"No data found, symbol may be delisted\")\n"
     ]
    },
    {
     "name": "stdout",
     "output_type": "stream",
     "text": [
      " ✖ no price data (empty history)\n",
      "→ Processing SCCB.ST …"
     ]
    },
    {
     "name": "stderr",
     "output_type": "stream",
     "text": [
      "$SCCB.ST: possibly delisted; no price data found  (period=1d) (Yahoo error = \"No data found, symbol may be delisted\")\n"
     ]
    },
    {
     "name": "stdout",
     "output_type": "stream",
     "text": [
      " ✖ no price data (empty history)\n",
      "→ Processing ALIFB.ST …"
     ]
    },
    {
     "name": "stderr",
     "output_type": "stream",
     "text": [
      "$ALIFB.ST: possibly delisted; no price data found  (period=1d)\n"
     ]
    },
    {
     "name": "stdout",
     "output_type": "stream",
     "text": [
      " ✖ no price data (empty history)\n",
      "→ Processing EVERYA.ST …"
     ]
    },
    {
     "name": "stderr",
     "output_type": "stream",
     "text": [
      "$EVERYA.ST: possibly delisted; no price data found  (period=1d) (Yahoo error = \"No data found, symbol may be delisted\")\n"
     ]
    },
    {
     "name": "stdout",
     "output_type": "stream",
     "text": [
      " ✖ no price data (empty history)\n",
      "→ Processing FRONOK.ST …"
     ]
    },
    {
     "name": "stderr",
     "output_type": "stream",
     "text": [
      "$FRONOK.ST: possibly delisted; no price data found  (period=1d) (Yahoo error = \"No data found, symbol may be delisted\")\n"
     ]
    },
    {
     "name": "stdout",
     "output_type": "stream",
     "text": [
      " ✖ no price data (empty history)\n",
      "→ Processing HUMAN.ST …"
     ]
    },
    {
     "name": "stderr",
     "output_type": "stream",
     "text": [
      "$HUMAN.ST: possibly delisted; no price data found  (period=1d) (Yahoo error = \"No data found, symbol may be delisted\")\n"
     ]
    },
    {
     "name": "stdout",
     "output_type": "stream",
     "text": [
      " ✖ no price data (empty history)\n",
      "→ Processing IMSW.ST …"
     ]
    },
    {
     "name": "stderr",
     "output_type": "stream",
     "text": [
      "$IMSW.ST: possibly delisted; no price data found  (period=1d) (Yahoo error = \"No data found, symbol may be delisted\")\n"
     ]
    },
    {
     "name": "stdout",
     "output_type": "stream",
     "text": [
      " ✖ no price data (empty history)\n",
      "→ Processing LEOV.ST …"
     ]
    },
    {
     "name": "stderr",
     "output_type": "stream",
     "text": [
      "$LEOV.ST: possibly delisted; no price data found  (period=1d) (Yahoo error = \"No data found, symbol may be delisted\")\n"
     ]
    },
    {
     "name": "stdout",
     "output_type": "stream",
     "text": [
      " ✖ no price data (empty history)\n",
      "→ Processing RHOVAC.ST …"
     ]
    },
    {
     "name": "stderr",
     "output_type": "stream",
     "text": [
      "$RHOVAC.ST: possibly delisted; no price data found  (period=1d) (Yahoo error = \"No data found, symbol may be delisted\")\n"
     ]
    },
    {
     "name": "stdout",
     "output_type": "stream",
     "text": [
      " ✖ no price data (empty history)\n",
      "→ Processing LOUDS.ST …"
     ]
    },
    {
     "name": "stderr",
     "output_type": "stream",
     "text": [
      "$LOUDS.ST: possibly delisted; no price data found  (period=1d) (Yahoo error = \"No data found, symbol may be delisted\")\n"
     ]
    },
    {
     "name": "stdout",
     "output_type": "stream",
     "text": [
      " ✖ no price data (empty history)\n",
      "→ Processing IBTB.ST …"
     ]
    },
    {
     "name": "stderr",
     "output_type": "stream",
     "text": [
      "$IBTB.ST: possibly delisted; no price data found  (period=1d) (Yahoo error = \"No data found, symbol may be delisted\")\n"
     ]
    },
    {
     "name": "stdout",
     "output_type": "stream",
     "text": [
      " ✖ no price data (empty history)\n",
      "→ Processing SIMRISB.ST …"
     ]
    },
    {
     "name": "stderr",
     "output_type": "stream",
     "text": [
      "$SIMRISB.ST: possibly delisted; no price data found  (period=1d) (Yahoo error = \"No data found, symbol may be delisted\")\n"
     ]
    },
    {
     "name": "stdout",
     "output_type": "stream",
     "text": [
      " ✖ no price data (empty history)\n",
      "→ Processing VADS.ST …"
     ]
    },
    {
     "name": "stderr",
     "output_type": "stream",
     "text": [
      "$VADS.ST: possibly delisted; no price data found  (period=1d) (Yahoo error = \"No data found, symbol may be delisted\")\n"
     ]
    },
    {
     "name": "stdout",
     "output_type": "stream",
     "text": [
      " ✖ no price data (empty history)\n",
      "→ Processing BOSJO.ST …"
     ]
    },
    {
     "name": "stderr",
     "output_type": "stream",
     "text": [
      "$BOSJO.ST: possibly delisted; no price data found  (period=1d) (Yahoo error = \"No data found, symbol may be delisted\")\n"
     ]
    },
    {
     "name": "stdout",
     "output_type": "stream",
     "text": [
      " ✖ no price data (empty history)\n",
      "→ Processing NGSG.ST …"
     ]
    },
    {
     "name": "stderr",
     "output_type": "stream",
     "text": [
      "$NGSG.ST: possibly delisted; no price data found  (period=1d) (Yahoo error = \"No data found, symbol may be delisted\")\n"
     ]
    },
    {
     "name": "stdout",
     "output_type": "stream",
     "text": [
      " ✖ no price data (empty history)\n",
      "→ Processing TALKP.ST …"
     ]
    },
    {
     "name": "stderr",
     "output_type": "stream",
     "text": [
      "$TALKP.ST: possibly delisted; no price data found  (period=1d) (Yahoo error = \"No data found, symbol may be delisted\")\n"
     ]
    },
    {
     "name": "stdout",
     "output_type": "stream",
     "text": [
      " ✖ no price data (empty history)\n",
      "→ Processing CYXO.ST …"
     ]
    },
    {
     "name": "stderr",
     "output_type": "stream",
     "text": [
      "$CYXO.ST: possibly delisted; no price data found  (period=1d) (Yahoo error = \"No data found, symbol may be delisted\")\n"
     ]
    },
    {
     "name": "stdout",
     "output_type": "stream",
     "text": [
      " ✖ no price data (empty history)\n",
      "→ Processing LITIU.ST …"
     ]
    },
    {
     "name": "stderr",
     "output_type": "stream",
     "text": [
      "$LITIU.ST: possibly delisted; no price data found  (period=1d) (Yahoo error = \"No data found, symbol may be delisted\")\n"
     ]
    },
    {
     "name": "stdout",
     "output_type": "stream",
     "text": [
      " ✖ no price data (empty history)\n",
      "→ Processing PDXI.ST …"
     ]
    },
    {
     "name": "stderr",
     "output_type": "stream",
     "text": [
      "$PDXI.ST: possibly delisted; no price data found  (period=1d) (Yahoo error = \"No data found, symbol may be delisted\")\n"
     ]
    },
    {
     "name": "stdout",
     "output_type": "stream",
     "text": [
      " ✖ no price data (empty history)\n",
      "→ Processing BONAVA.ST …"
     ]
    },
    {
     "name": "stderr",
     "output_type": "stream",
     "text": [
      "$BONAVA.ST: possibly delisted; no price data found  (period=1d)\n"
     ]
    },
    {
     "name": "stdout",
     "output_type": "stream",
     "text": [
      " ✖ no price data (empty history)\n",
      "→ Processing BONAVB.ST …"
     ]
    },
    {
     "name": "stderr",
     "output_type": "stream",
     "text": [
      "$BONAVB.ST: possibly delisted; no price data found  (period=1d) (Yahoo error = \"No data found, symbol may be delisted\")\n"
     ]
    },
    {
     "name": "stdout",
     "output_type": "stream",
     "text": [
      " ✖ no price data (empty history)\n",
      "→ Processing PIEZO.ST …"
     ]
    },
    {
     "name": "stderr",
     "output_type": "stream",
     "text": [
      "$PIEZO.ST: possibly delisted; no price data found  (period=1d) (Yahoo error = \"No data found, symbol may be delisted\")\n"
     ]
    },
    {
     "name": "stdout",
     "output_type": "stream",
     "text": [
      " ✖ no price data (empty history)\n",
      "→ Processing B2HNOK.ST …"
     ]
    },
    {
     "name": "stderr",
     "output_type": "stream",
     "text": [
      "$B2HNOK.ST: possibly delisted; no price data found  (period=1d) (Yahoo error = \"No data found, symbol may be delisted\")\n"
     ]
    },
    {
     "name": "stdout",
     "output_type": "stream",
     "text": [
      " ✖ no price data (empty history)\n",
      "→ Processing ACADE.ST …"
     ]
    },
    {
     "name": "stderr",
     "output_type": "stream",
     "text": [
      "$ACADE.ST: possibly delisted; no price data found  (period=1d) (Yahoo error = \"No data found, symbol may be delisted\")\n"
     ]
    },
    {
     "name": "stdout",
     "output_type": "stream",
     "text": [
      " ✖ no price data (empty history)\n",
      "→ Processing AVMNOK.ST …"
     ]
    },
    {
     "name": "stderr",
     "output_type": "stream",
     "text": [
      "$AVMNOK.ST: possibly delisted; no price data found  (period=1d) (Yahoo error = \"No data found, symbol may be delisted\")\n"
     ]
    },
    {
     "name": "stdout",
     "output_type": "stream",
     "text": [
      " ✖ no price data (empty history)\n",
      "→ Processing NWGH.ST …"
     ]
    },
    {
     "name": "stderr",
     "output_type": "stream",
     "text": [
      "$NWGH.ST: possibly delisted; no price data found  (period=1d) (Yahoo error = \"No data found, symbol may be delisted\")\n"
     ]
    },
    {
     "name": "stdout",
     "output_type": "stream",
     "text": [
      " ✖ no price data (empty history)\n",
      "→ Processing REDWPH.ST …"
     ]
    },
    {
     "name": "stderr",
     "output_type": "stream",
     "text": [
      "$REDWPH.ST: possibly delisted; no price data found  (period=1d) (Yahoo error = \"No data found, symbol may be delisted\")\n"
     ]
    },
    {
     "name": "stdout",
     "output_type": "stream",
     "text": [
      " ✖ no price data (empty history)\n",
      "→ Processing ABSLC.ST …"
     ]
    },
    {
     "name": "stderr",
     "output_type": "stream",
     "text": [
      "$ABSLC.ST: possibly delisted; no price data found  (period=1d) (Yahoo error = \"No data found, symbol may be delisted\")\n"
     ]
    },
    {
     "name": "stdout",
     "output_type": "stream",
     "text": [
      " ✖ no price data (empty history)\n",
      "→ Processing ALELIO.ST …"
     ]
    },
    {
     "name": "stderr",
     "output_type": "stream",
     "text": [
      "$ALELIO.ST: possibly delisted; no price data found  (period=1d)\n"
     ]
    },
    {
     "name": "stdout",
     "output_type": "stream",
     "text": [
      " ✖ no price data (empty history)\n",
      "→ Processing CRNOSB.ST …"
     ]
    },
    {
     "name": "stderr",
     "output_type": "stream",
     "text": [
      "$CRNOSB.ST: possibly delisted; no price data found  (period=1d) (Yahoo error = \"No data found, symbol may be delisted\")\n"
     ]
    },
    {
     "name": "stdout",
     "output_type": "stream",
     "text": [
      " ✖ no price data (empty history)\n",
      "→ Processing MAXFP.ST …"
     ]
    },
    {
     "name": "stderr",
     "output_type": "stream",
     "text": [
      "$MAXFP.ST: possibly delisted; no price data found  (period=1d) (Yahoo error = \"No data found, symbol may be delisted\")\n"
     ]
    },
    {
     "name": "stdout",
     "output_type": "stream",
     "text": [
      " ✖ no price data (empty history)\n",
      "→ Processing NOFINOK.ST …"
     ]
    },
    {
     "name": "stderr",
     "output_type": "stream",
     "text": [
      "$NOFINOK.ST: possibly delisted; no price data found  (period=1d) (Yahoo error = \"No data found, symbol may be delisted\")\n"
     ]
    },
    {
     "name": "stdout",
     "output_type": "stream",
     "text": [
      " ✖ no price data (empty history)\n",
      "→ Processing SRTMG.ST …"
     ]
    },
    {
     "name": "stderr",
     "output_type": "stream",
     "text": [
      "$SRTMG.ST: possibly delisted; no price data found  (period=1d) (Yahoo error = \"No data found, symbol may be delisted\")\n"
     ]
    },
    {
     "name": "stdout",
     "output_type": "stream",
     "text": [
      " ✖ no price data (empty history)\n",
      "→ Processing TRENOK.ST …"
     ]
    },
    {
     "name": "stderr",
     "output_type": "stream",
     "text": [
      "$TRENOK.ST: possibly delisted; no price data found  (period=1d) (Yahoo error = \"No data found, symbol may be delisted\")\n"
     ]
    },
    {
     "name": "stdout",
     "output_type": "stream",
     "text": [
      " ✖ no price data (empty history)\n",
      "→ Processing MAHAA.ST …"
     ]
    },
    {
     "name": "stderr",
     "output_type": "stream",
     "text": [
      "$MAHAA.ST: possibly delisted; no price data found  (period=1d)\n"
     ]
    },
    {
     "name": "stdout",
     "output_type": "stream",
     "text": [
      " ✖ no price data (empty history)\n",
      "→ Processing PENCON.ST …"
     ]
    },
    {
     "name": "stderr",
     "output_type": "stream",
     "text": [
      "$PENCON.ST: possibly delisted; no price data found  (period=1d) (Yahoo error = \"No data found, symbol may be delisted\")\n"
     ]
    },
    {
     "name": "stdout",
     "output_type": "stream",
     "text": [
      " ✖ no price data (empty history)\n",
      "→ Processing TECHNOK.ST …"
     ]
    },
    {
     "name": "stderr",
     "output_type": "stream",
     "text": [
      "$TECHNOK.ST: possibly delisted; no price data found  (period=1d) (Yahoo error = \"No data found, symbol may be delisted\")\n"
     ]
    },
    {
     "name": "stdout",
     "output_type": "stream",
     "text": [
      " ✖ no price data (empty history)\n",
      "→ Processing OPTIFR.ST …"
     ]
    },
    {
     "name": "stderr",
     "output_type": "stream",
     "text": [
      "$OPTIFR.ST: possibly delisted; no price data found  (period=1d) (Yahoo error = \"No data found, symbol may be delisted\")\n"
     ]
    },
    {
     "name": "stdout",
     "output_type": "stream",
     "text": [
      " ✖ no price data (empty history)\n",
      "→ Processing AIKB.ST …"
     ]
    },
    {
     "name": "stderr",
     "output_type": "stream",
     "text": [
      "$AIKB.ST: possibly delisted; no price data found  (period=1d) (Yahoo error = \"No data found, symbol may be delisted\")\n"
     ]
    },
    {
     "name": "stdout",
     "output_type": "stream",
     "text": [
      " ✖ no price data (empty history)\n",
      "→ Processing ARBONA.ST …"
     ]
    },
    {
     "name": "stderr",
     "output_type": "stream",
     "text": [
      "$ARBONA.ST: possibly delisted; no price data found  (period=1d) (Yahoo error = \"No data found, symbol may be delisted\")\n"
     ]
    },
    {
     "name": "stdout",
     "output_type": "stream",
     "text": [
      " ✖ no price data (empty history)\n",
      "→ Processing ARBONB.ST …"
     ]
    },
    {
     "name": "stderr",
     "output_type": "stream",
     "text": [
      "$ARBONB.ST: possibly delisted; no price data found  (period=1d) (Yahoo error = \"No data found, symbol may be delisted\")\n"
     ]
    },
    {
     "name": "stdout",
     "output_type": "stream",
     "text": [
      " ✖ no price data (empty history)\n",
      "→ Processing BRIOX.ST …"
     ]
    },
    {
     "name": "stderr",
     "output_type": "stream",
     "text": [
      "$BRIOX.ST: possibly delisted; no price data found  (period=1d) (Yahoo error = \"No data found, symbol may be delisted\")\n"
     ]
    },
    {
     "name": "stdout",
     "output_type": "stream",
     "text": [
      " ✖ no price data (empty history)\n",
      "→ Processing CRWEN.ST …"
     ]
    },
    {
     "name": "stderr",
     "output_type": "stream",
     "text": [
      "$CRWEN.ST: possibly delisted; no price data found  (period=1d) (Yahoo error = \"No data found, symbol may be delisted\")\n"
     ]
    },
    {
     "name": "stdout",
     "output_type": "stream",
     "text": [
      " ✖ no price data (empty history)\n",
      "→ Processing DIVIB.ST …"
     ]
    },
    {
     "name": "stderr",
     "output_type": "stream",
     "text": [
      "$DIVIB.ST: possibly delisted; no price data found  (period=1d) (Yahoo error = \"No data found, symbol may be delisted\")\n"
     ]
    },
    {
     "name": "stdout",
     "output_type": "stream",
     "text": [
      " ✖ no price data (empty history)\n",
      "→ Processing DIVIKV1B.ST …"
     ]
    },
    {
     "name": "stderr",
     "output_type": "stream",
     "text": [
      "$DIVIKV1B.ST: possibly delisted; no price data found  (period=1d) (Yahoo error = \"No data found, symbol may be delisted\")\n"
     ]
    },
    {
     "name": "stdout",
     "output_type": "stream",
     "text": [
      " ✖ no price data (empty history)\n",
      "→ Processing ETIN.ST …"
     ]
    },
    {
     "name": "stderr",
     "output_type": "stream",
     "text": [
      "$ETIN.ST: possibly delisted; no price data found  (period=1d) (Yahoo error = \"No data found, symbol may be delisted\")\n"
     ]
    },
    {
     "name": "stdout",
     "output_type": "stream",
     "text": [
      " ✖ no price data (empty history)\n",
      "→ Processing FRNTB.ST …"
     ]
    },
    {
     "name": "stderr",
     "output_type": "stream",
     "text": [
      "$FRNTB.ST: possibly delisted; no price data found  (period=1d) (Yahoo error = \"No data found, symbol may be delisted\")\n"
     ]
    },
    {
     "name": "stdout",
     "output_type": "stream",
     "text": [
      " ✖ no price data (empty history)\n",
      "→ Processing GTABB.ST …"
     ]
    },
    {
     "name": "stderr",
     "output_type": "stream",
     "text": [
      "$GTABB.ST: possibly delisted; no price data found  (period=1d) (Yahoo error = \"No data found, symbol may be delisted\")\n"
     ]
    },
    {
     "name": "stdout",
     "output_type": "stream",
     "text": [
      " ✖ no price data (empty history)\n",
      "→ Processing GTGS.ST …"
     ]
    },
    {
     "name": "stderr",
     "output_type": "stream",
     "text": [
      "$GTGS.ST: possibly delisted; no price data found  (period=1d) (Yahoo error = \"No data found, symbol may be delisted\")\n"
     ]
    },
    {
     "name": "stdout",
     "output_type": "stream",
     "text": [
      " ✖ no price data (empty history)\n",
      "→ Processing GUGEO.ST …"
     ]
    },
    {
     "name": "stderr",
     "output_type": "stream",
     "text": [
      "$GUGEO.ST: possibly delisted; no price data found  (period=1d) (Yahoo error = \"No data found, symbol may be delisted\")\n"
     ]
    },
    {
     "name": "stdout",
     "output_type": "stream",
     "text": [
      " ✖ no price data (empty history)\n",
      "→ Processing IMSOLB.ST …"
     ]
    },
    {
     "name": "stderr",
     "output_type": "stream",
     "text": [
      "$IMSOLB.ST: possibly delisted; no price data found  (period=1d) (Yahoo error = \"No data found, symbol may be delisted\")\n"
     ]
    },
    {
     "name": "stdout",
     "output_type": "stream",
     "text": [
      " ✖ no price data (empty history)\n",
      "→ Processing SUST.ST …"
     ]
    },
    {
     "name": "stderr",
     "output_type": "stream",
     "text": [
      "$SUST.ST: possibly delisted; no price data found  (period=1d) (Yahoo error = \"No data found, symbol may be delisted\")\n"
     ]
    },
    {
     "name": "stdout",
     "output_type": "stream",
     "text": [
      " ✖ no price data (empty history)\n",
      "→ Processing KOBR.ST …"
     ]
    },
    {
     "name": "stderr",
     "output_type": "stream",
     "text": [
      "$KOBR.ST: possibly delisted; no price data found  (period=1d) (Yahoo error = \"No data found, symbol may be delisted\")\n"
     ]
    },
    {
     "name": "stdout",
     "output_type": "stream",
     "text": [
      " ✖ no price data (empty history)\n",
      "→ Processing LCTE.ST …"
     ]
    },
    {
     "name": "stderr",
     "output_type": "stream",
     "text": [
      "$LCTE.ST: possibly delisted; no price data found  (period=1d) (Yahoo error = \"No data found, symbol may be delisted\")\n"
     ]
    },
    {
     "name": "stdout",
     "output_type": "stream",
     "text": [
      " ✖ no price data (empty history)\n",
      "→ Processing LIFEB.ST …"
     ]
    },
    {
     "name": "stderr",
     "output_type": "stream",
     "text": [
      "$LIFEB.ST: possibly delisted; no price data found  (period=1d) (Yahoo error = \"No data found, symbol may be delisted\")\n"
     ]
    },
    {
     "name": "stdout",
     "output_type": "stream",
     "text": [
      " ✖ no price data (empty history)\n",
      "→ Processing MEDNA.ST …"
     ]
    },
    {
     "name": "stderr",
     "output_type": "stream",
     "text": [
      "$MEDNA.ST: possibly delisted; no price data found  (period=1d) (Yahoo error = \"No data found, symbol may be delisted\")\n"
     ]
    },
    {
     "name": "stdout",
     "output_type": "stream",
     "text": [
      " ✖ no price data (empty history)\n",
      "→ Processing METV.ST …"
     ]
    },
    {
     "name": "stderr",
     "output_type": "stream",
     "text": [
      "$METV.ST: possibly delisted; no price data found  (period=1d) (Yahoo error = \"No data found, symbol may be delisted\")\n"
     ]
    },
    {
     "name": "stdout",
     "output_type": "stream",
     "text": [
      " ✖ no price data (empty history)\n",
      "→ Processing MEGRP.ST …"
     ]
    },
    {
     "name": "stderr",
     "output_type": "stream",
     "text": [
      "$MEGRP.ST: possibly delisted; no price data found  (period=1d) (Yahoo error = \"No data found, symbol may be delisted\")\n"
     ]
    },
    {
     "name": "stdout",
     "output_type": "stream",
     "text": [
      " ✖ no price data (empty history)\n",
      "→ Processing MVVB.ST …"
     ]
    },
    {
     "name": "stderr",
     "output_type": "stream",
     "text": [
      "$MVVB.ST: possibly delisted; no price data found  (period=1d) (Yahoo error = \"No data found, symbol may be delisted\")\n"
     ]
    },
    {
     "name": "stdout",
     "output_type": "stream",
     "text": [
      " ✖ no price data (empty history)\n",
      "→ Processing OBDUB.ST …"
     ]
    },
    {
     "name": "stderr",
     "output_type": "stream",
     "text": [
      "$OBDUB.ST: possibly delisted; no price data found  (period=1d) (Yahoo error = \"No data found, symbol may be delisted\")\n"
     ]
    },
    {
     "name": "stdout",
     "output_type": "stream",
     "text": [
      " ✖ no price data (empty history)\n",
      "→ Processing PNVA.ST …"
     ]
    },
    {
     "name": "stderr",
     "output_type": "stream",
     "text": [
      "$PNVA.ST: possibly delisted; no price data found  (period=1d) (Yahoo error = \"No data found, symbol may be delisted\")\n"
     ]
    },
    {
     "name": "stdout",
     "output_type": "stream",
     "text": [
      " ✖ no price data (empty history)\n",
      "→ Processing QUARTPREF.ST …"
     ]
    },
    {
     "name": "stderr",
     "output_type": "stream",
     "text": [
      "$QUARTPREF.ST: possibly delisted; no price data found  (period=1d) (Yahoo error = \"No data found, symbol may be delisted\")\n"
     ]
    },
    {
     "name": "stdout",
     "output_type": "stream",
     "text": [
      " ✖ no price data (empty history)\n",
      "→ Processing REALB.ST …"
     ]
    },
    {
     "name": "stderr",
     "output_type": "stream",
     "text": [
      "$REALB.ST: possibly delisted; no price data found  (period=1d)\n"
     ]
    },
    {
     "name": "stdout",
     "output_type": "stream",
     "text": [
      " ✖ no price data (empty history)\n",
      "→ Processing SBC.ST …"
     ]
    },
    {
     "name": "stderr",
     "output_type": "stream",
     "text": [
      "$SBC.ST: possibly delisted; no price data found  (period=1d) (Yahoo error = \"No data found, symbol may be delisted\")\n"
     ]
    },
    {
     "name": "stdout",
     "output_type": "stream",
     "text": [
      " ✖ no price data (empty history)\n",
      "→ Processing SOSIL.ST …"
     ]
    },
    {
     "name": "stderr",
     "output_type": "stream",
     "text": [
      "$SOSIL.ST: possibly delisted; no price data found  (period=1d) (Yahoo error = \"No data found, symbol may be delisted\")\n"
     ]
    },
    {
     "name": "stdout",
     "output_type": "stream",
     "text": [
      " ✖ no price data (empty history)\n",
      "→ Processing SWEMB.ST …"
     ]
    },
    {
     "name": "stderr",
     "output_type": "stream",
     "text": [
      "$SWEMB.ST: possibly delisted; no price data found  (period=1d) (Yahoo error = \"No data found, symbol may be delisted\")\n"
     ]
    },
    {
     "name": "stdout",
     "output_type": "stream",
     "text": [
      " ✖ no price data (empty history)\n",
      "→ Processing MLTR.ST …"
     ]
    },
    {
     "name": "stderr",
     "output_type": "stream",
     "text": [
      "$MLTR.ST: possibly delisted; no price data found  (period=1d) (Yahoo error = \"No data found, symbol may be delisted\")\n"
     ]
    },
    {
     "name": "stdout",
     "output_type": "stream",
     "text": [
      " ✖ no price data (empty history)\n",
      "→ Processing FIL.ST …"
     ]
    },
    {
     "name": "stderr",
     "output_type": "stream",
     "text": [
      "$FIL.ST: possibly delisted; no price data found  (period=1d) (Yahoo error = \"No data found, symbol may be delisted\")\n"
     ]
    },
    {
     "name": "stdout",
     "output_type": "stream",
     "text": [
      " ✖ no price data (empty history)\n",
      "→ Processing ENG.ST …"
     ]
    },
    {
     "name": "stderr",
     "output_type": "stream",
     "text": [
      "$ENG.ST: possibly delisted; no price data found  (period=1d) (Yahoo error = \"No data found, symbol may be delisted\")\n"
     ]
    },
    {
     "name": "stdout",
     "output_type": "stream",
     "text": [
      " ✖ no price data (empty history)\n",
      "→ Processing KLOVPREF.ST …"
     ]
    },
    {
     "name": "stderr",
     "output_type": "stream",
     "text": [
      "$KLOVPREF.ST: possibly delisted; no price data found  (period=1d) (Yahoo error = \"No data found, symbol may be delisted\")\n"
     ]
    },
    {
     "name": "stdout",
     "output_type": "stream",
     "text": [
      " ✖ no price data (empty history)\n",
      "→ Processing AKERBPNOK.ST …"
     ]
    },
    {
     "name": "stderr",
     "output_type": "stream",
     "text": [
      "$AKERBPNOK.ST: possibly delisted; no price data found  (period=1d) (Yahoo error = \"No data found, symbol may be delisted\")\n"
     ]
    },
    {
     "name": "stdout",
     "output_type": "stream",
     "text": [
      " ✖ no price data (empty history)\n",
      "→ Processing MALAR.ST …"
     ]
    },
    {
     "name": "stderr",
     "output_type": "stream",
     "text": [
      "$MALAR.ST: possibly delisted; no price data found  (period=1d) (Yahoo error = \"No data found, symbol may be delisted\")\n"
     ]
    },
    {
     "name": "stdout",
     "output_type": "stream",
     "text": [
      " ✖ no price data (empty history)\n",
      "→ Processing FRISQ.ST …"
     ]
    },
    {
     "name": "stderr",
     "output_type": "stream",
     "text": [
      "$FRISQ.ST: possibly delisted; no price data found  (period=1d) (Yahoo error = \"No data found, symbol may be delisted\")\n"
     ]
    },
    {
     "name": "stdout",
     "output_type": "stream",
     "text": [
      " ✖ no price data (empty history)\n",
      "→ Processing INDEX.ST …"
     ]
    },
    {
     "name": "stderr",
     "output_type": "stream",
     "text": [
      "$INDEX.ST: possibly delisted; no price data found  (period=1d) (Yahoo error = \"No data found, symbol may be delisted\")\n"
     ]
    },
    {
     "name": "stdout",
     "output_type": "stream",
     "text": [
      " ✖ no price data (empty history)\n",
      "→ Processing UMIDAB.ST …"
     ]
    },
    {
     "name": "stderr",
     "output_type": "stream",
     "text": [
      "$UMIDAB.ST: possibly delisted; no price data found  (period=1d) (Yahoo error = \"No data found, symbol may be delisted\")\n"
     ]
    },
    {
     "name": "stdout",
     "output_type": "stream",
     "text": [
      " ✖ no price data (empty history)\n",
      "→ Processing GAPX.ST …"
     ]
    },
    {
     "name": "stderr",
     "output_type": "stream",
     "text": [
      "$GAPX.ST: possibly delisted; no price data found  (period=1d) (Yahoo error = \"No data found, symbol may be delisted\")\n"
     ]
    },
    {
     "name": "stdout",
     "output_type": "stream",
     "text": [
      " ✖ no price data (empty history)\n",
      "→ Processing CLNKB.ST …"
     ]
    },
    {
     "name": "stderr",
     "output_type": "stream",
     "text": [
      "$CLNKB.ST: possibly delisted; no price data found  (period=1d) (Yahoo error = \"No data found, symbol may be delisted\")\n"
     ]
    },
    {
     "name": "stdout",
     "output_type": "stream",
     "text": [
      " ✖ no price data (empty history)\n",
      "→ Processing TOBIN.ST …"
     ]
    },
    {
     "name": "stderr",
     "output_type": "stream",
     "text": [
      "$TOBIN.ST: possibly delisted; no price data found  (period=1d) (Yahoo error = \"No data found, symbol may be delisted\")\n"
     ]
    },
    {
     "name": "stdout",
     "output_type": "stream",
     "text": [
      " ✖ no price data (empty history)\n",
      "→ Processing SAGAD.ST …"
     ]
    },
    {
     "name": "stderr",
     "output_type": "stream",
     "text": [
      "$SAGAD.ST: possibly delisted; no price data found  (period=1d) (Yahoo error = \"No data found, symbol may be delisted\")\n"
     ]
    },
    {
     "name": "stdout",
     "output_type": "stream",
     "text": [
      " ✖ no price data (empty history)\n",
      "→ Processing ZETAPREF.ST …"
     ]
    },
    {
     "name": "stderr",
     "output_type": "stream",
     "text": [
      "$ZETAPREF.ST: possibly delisted; no price data found  (period=1d) (Yahoo error = \"No data found, symbol may be delisted\")\n"
     ]
    },
    {
     "name": "stdout",
     "output_type": "stream",
     "text": [
      " ✖ no price data (empty history)\n",
      "→ Processing GAPWB.ST …"
     ]
    },
    {
     "name": "stderr",
     "output_type": "stream",
     "text": [
      "$GAPWB.ST: possibly delisted; no price data found  (period=1d)\n"
     ]
    },
    {
     "name": "stdout",
     "output_type": "stream",
     "text": [
      " ✖ no price data (empty history)\n",
      "→ Processing EMBRACB.ST …"
     ]
    },
    {
     "name": "stderr",
     "output_type": "stream",
     "text": [
      "$EMBRACB.ST: possibly delisted; no price data found  (period=1d) (Yahoo error = \"No data found, symbol may be delisted\")\n"
     ]
    },
    {
     "name": "stdout",
     "output_type": "stream",
     "text": [
      " ✖ no price data (empty history)\n",
      "→ Processing SRNKEB.ST …"
     ]
    },
    {
     "name": "stderr",
     "output_type": "stream",
     "text": [
      "$SRNKEB.ST: possibly delisted; no price data found  (period=1d)\n"
     ]
    },
    {
     "name": "stdout",
     "output_type": "stream",
     "text": [
      " ✖ no price data (empty history)\n",
      "→ Processing VOLOPREF.ST …"
     ]
    },
    {
     "name": "stderr",
     "output_type": "stream",
     "text": [
      "$VOLOPREF.ST: possibly delisted; no price data found  (period=1d) (Yahoo error = \"No data found, symbol may be delisted\")\n"
     ]
    },
    {
     "name": "stdout",
     "output_type": "stream",
     "text": [
      " ✖ no price data (empty history)\n",
      "→ Processing STRLNG.ST …"
     ]
    },
    {
     "name": "stderr",
     "output_type": "stream",
     "text": [
      "$STRLNG.ST: possibly delisted; no price data found  (period=1d) (Yahoo error = \"No data found, symbol may be delisted\")\n"
     ]
    },
    {
     "name": "stdout",
     "output_type": "stream",
     "text": [
      " ✖ no price data (empty history)\n",
      "→ Processing ADDERA.ST …"
     ]
    },
    {
     "name": "stderr",
     "output_type": "stream",
     "text": [
      "$ADDERA.ST: possibly delisted; no price data found  (period=1d) (Yahoo error = \"No data found, symbol may be delisted\")\n"
     ]
    },
    {
     "name": "stdout",
     "output_type": "stream",
     "text": [
      " ✖ no price data (empty history)\n",
      "→ Processing ARCUSNOK.ST …"
     ]
    },
    {
     "name": "stderr",
     "output_type": "stream",
     "text": [
      "$ARCUSNOK.ST: possibly delisted; no price data found  (period=1d) (Yahoo error = \"No data found, symbol may be delisted\")\n"
     ]
    },
    {
     "name": "stdout",
     "output_type": "stream",
     "text": [
      " ✖ no price data (empty history)\n",
      "→ Processing CMOTECB.ST …"
     ]
    },
    {
     "name": "stderr",
     "output_type": "stream",
     "text": [
      "$CMOTECB.ST: possibly delisted; no price data found  (period=1d) (Yahoo error = \"No data found, symbol may be delisted\")\n"
     ]
    },
    {
     "name": "stdout",
     "output_type": "stream",
     "text": [
      " ✖ no price data (empty history)\n",
      "→ Processing AACM.ST …"
     ]
    },
    {
     "name": "stderr",
     "output_type": "stream",
     "text": [
      "$AACM.ST: possibly delisted; no price data found  (period=1d) (Yahoo error = \"No data found, symbol may be delisted\")\n"
     ]
    },
    {
     "name": "stdout",
     "output_type": "stream",
     "text": [
      " ✖ no price data (empty history)\n",
      "→ Processing ABTNOK.ST …"
     ]
    },
    {
     "name": "stderr",
     "output_type": "stream",
     "text": [
      "$ABTNOK.ST: possibly delisted; no price data found  (period=1d) (Yahoo error = \"No data found, symbol may be delisted\")\n"
     ]
    },
    {
     "name": "stdout",
     "output_type": "stream",
     "text": [
      " ✖ no price data (empty history)\n",
      "→ Processing AEROG.ST …"
     ]
    },
    {
     "name": "stderr",
     "output_type": "stream",
     "text": [
      "$AEROG.ST: possibly delisted; no price data found  (period=1d) (Yahoo error = \"No data found, symbol may be delisted\")\n"
     ]
    },
    {
     "name": "stdout",
     "output_type": "stream",
     "text": [
      " ✖ no price data (empty history)\n",
      "→ Processing AFGNOK.ST …"
     ]
    },
    {
     "name": "stderr",
     "output_type": "stream",
     "text": [
      "$AFGNOK.ST: possibly delisted; no price data found  (period=1d) (Yahoo error = \"No data found, symbol may be delisted\")\n"
     ]
    },
    {
     "name": "stdout",
     "output_type": "stream",
     "text": [
      " ✖ no price data (empty history)\n",
      "→ Processing AKENOK.ST …"
     ]
    },
    {
     "name": "stderr",
     "output_type": "stream",
     "text": [
      "$AKENOK.ST: possibly delisted; no price data found  (period=1d) (Yahoo error = \"No data found, symbol may be delisted\")\n"
     ]
    },
    {
     "name": "stdout",
     "output_type": "stream",
     "text": [
      " ✖ no price data (empty history)\n",
      "→ Processing AKSONOK.ST …"
     ]
    },
    {
     "name": "stderr",
     "output_type": "stream",
     "text": [
      "$AKSONOK.ST: possibly delisted; no price data found  (period=1d) (Yahoo error = \"No data found, symbol may be delisted\")\n"
     ]
    },
    {
     "name": "stdout",
     "output_type": "stream",
     "text": [
      " ✖ no price data (empty history)\n",
      "→ Processing ALNGNOK.ST …"
     ]
    },
    {
     "name": "stderr",
     "output_type": "stream",
     "text": [
      "$ALNGNOK.ST: possibly delisted; no price data found  (period=1d) (Yahoo error = \"No data found, symbol may be delisted\")\n"
     ]
    },
    {
     "name": "stdout",
     "output_type": "stream",
     "text": [
      " ✖ no price data (empty history)\n",
      "→ Processing AMSCNOK.ST …"
     ]
    },
    {
     "name": "stderr",
     "output_type": "stream",
     "text": [
      "$AMSCNOK.ST: possibly delisted; no price data found  (period=1d) (Yahoo error = \"No data found, symbol may be delisted\")\n"
     ]
    },
    {
     "name": "stdout",
     "output_type": "stream",
     "text": [
      " ✖ no price data (empty history)\n",
      "→ Processing ARCHERNOK.ST …"
     ]
    },
    {
     "name": "stderr",
     "output_type": "stream",
     "text": [
      "$ARCHERNOK.ST: possibly delisted; no price data found  (period=1d) (Yahoo error = \"No data found, symbol may be delisted\")\n"
     ]
    },
    {
     "name": "stdout",
     "output_type": "stream",
     "text": [
      " ✖ no price data (empty history)\n",
      "→ Processing ASCNOK.ST …"
     ]
    },
    {
     "name": "stderr",
     "output_type": "stream",
     "text": [
      "$ASCNOK.ST: possibly delisted; no price data found  (period=1d) (Yahoo error = \"No data found, symbol may be delisted\")\n"
     ]
    },
    {
     "name": "stdout",
     "output_type": "stream",
     "text": [
      " ✖ no price data (empty history)\n",
      "→ Processing ASETEKNOK.ST …"
     ]
    },
    {
     "name": "stderr",
     "output_type": "stream",
     "text": [
      "$ASETEKNOK.ST: possibly delisted; no price data found  (period=1d) (Yahoo error = \"No data found, symbol may be delisted\")\n"
     ]
    },
    {
     "name": "stdout",
     "output_type": "stream",
     "text": [
      " ✖ no price data (empty history)\n",
      "→ Processing ATEANOK.ST …"
     ]
    },
    {
     "name": "stderr",
     "output_type": "stream",
     "text": [
      "$ATEANOK.ST: possibly delisted; no price data found  (period=1d) (Yahoo error = \"No data found, symbol may be delisted\")\n"
     ]
    },
    {
     "name": "stdout",
     "output_type": "stream",
     "text": [
      " ✖ no price data (empty history)\n",
      "→ Processing AUSSNOK.ST …"
     ]
    },
    {
     "name": "stderr",
     "output_type": "stream",
     "text": [
      "$AUSSNOK.ST: possibly delisted; no price data found  (period=1d) (Yahoo error = \"No data found, symbol may be delisted\")\n"
     ]
    },
    {
     "name": "stdout",
     "output_type": "stream",
     "text": [
      " ✖ no price data (empty history)\n",
      "→ Processing AVANCENOK.ST …"
     ]
    },
    {
     "name": "stderr",
     "output_type": "stream",
     "text": [
      "$AVANCENOK.ST: possibly delisted; no price data found  (period=1d) (Yahoo error = \"No data found, symbol may be delisted\")\n"
     ]
    },
    {
     "name": "stdout",
     "output_type": "stream",
     "text": [
      " ✖ no price data (empty history)\n",
      "→ Processing AWDRNOK.ST …"
     ]
    },
    {
     "name": "stderr",
     "output_type": "stream",
     "text": [
      "$AWDRNOK.ST: possibly delisted; no price data found  (period=1d) (Yahoo error = \"No data found, symbol may be delisted\")\n"
     ]
    },
    {
     "name": "stdout",
     "output_type": "stream",
     "text": [
      " ✖ no price data (empty history)\n",
      "→ Processing BAKKANOK.ST …"
     ]
    },
    {
     "name": "stderr",
     "output_type": "stream",
     "text": [
      "$BAKKANOK.ST: possibly delisted; no price data found  (period=1d) (Yahoo error = \"No data found, symbol may be delisted\")\n"
     ]
    },
    {
     "name": "stdout",
     "output_type": "stream",
     "text": [
      " ✖ no price data (empty history)\n",
      "→ Processing BONNOK.ST …"
     ]
    },
    {
     "name": "stderr",
     "output_type": "stream",
     "text": [
      "$BONNOK.ST: possibly delisted; no price data found  (period=1d) (Yahoo error = \"No data found, symbol may be delisted\")\n"
     ]
    },
    {
     "name": "stdout",
     "output_type": "stream",
     "text": [
      " ✖ no price data (empty history)\n",
      "→ Processing BRGDNOK.ST …"
     ]
    },
    {
     "name": "stderr",
     "output_type": "stream",
     "text": [
      "$BRGDNOK.ST: possibly delisted; no price data found  (period=1d) (Yahoo error = \"No data found, symbol may be delisted\")\n"
     ]
    },
    {
     "name": "stdout",
     "output_type": "stream",
     "text": [
      " ✖ no price data (empty history)\n",
      "→ Processing BWLPGNOK.ST …"
     ]
    },
    {
     "name": "stderr",
     "output_type": "stream",
     "text": [
      "$BWLPGNOK.ST: possibly delisted; no price data found  (period=1d) (Yahoo error = \"No data found, symbol may be delisted\")\n"
     ]
    },
    {
     "name": "stdout",
     "output_type": "stream",
     "text": [
      " ✖ no price data (empty history)\n",
      "→ Processing BWONOK.ST …"
     ]
    },
    {
     "name": "stderr",
     "output_type": "stream",
     "text": [
      "$BWONOK.ST: possibly delisted; no price data found  (period=1d) (Yahoo error = \"No data found, symbol may be delisted\")\n"
     ]
    },
    {
     "name": "stdout",
     "output_type": "stream",
     "text": [
      " ✖ no price data (empty history)\n",
      "→ Processing COREPREF.ST …"
     ]
    },
    {
     "name": "stderr",
     "output_type": "stream",
     "text": [
      "$COREPREF.ST: possibly delisted; no price data found  (period=1d) (Yahoo error = \"No data found, symbol may be delisted\")\n"
     ]
    },
    {
     "name": "stdout",
     "output_type": "stream",
     "text": [
      " ✖ no price data (empty history)\n",
      "→ Processing CREADA.ST …"
     ]
    },
    {
     "name": "stderr",
     "output_type": "stream",
     "text": [
      "$CREADA.ST: possibly delisted; no price data found  (period=1d) (Yahoo error = \"No data found, symbol may be delisted\")\n"
     ]
    },
    {
     "name": "stdout",
     "output_type": "stream",
     "text": [
      " ✖ no price data (empty history)\n",
      "→ Processing DNBNOK.ST …"
     ]
    },
    {
     "name": "stderr",
     "output_type": "stream",
     "text": [
      "$DNBNOK.ST: possibly delisted; no price data found  (period=1d) (Yahoo error = \"No data found, symbol may be delisted\")\n"
     ]
    },
    {
     "name": "stdout",
     "output_type": "stream",
     "text": [
      " ✖ no price data (empty history)\n",
      "→ Processing DNONOK.ST …"
     ]
    },
    {
     "name": "stderr",
     "output_type": "stream",
     "text": [
      "$DNONOK.ST: possibly delisted; no price data found  (period=1d) (Yahoo error = \"No data found, symbol may be delisted\")\n"
     ]
    },
    {
     "name": "stdout",
     "output_type": "stream",
     "text": [
      " ✖ no price data (empty history)\n",
      "→ Processing DOFNOK.ST …"
     ]
    },
    {
     "name": "stderr",
     "output_type": "stream",
     "text": [
      "$DOFNOK.ST: possibly delisted; no price data found  (period=1d) (Yahoo error = \"No data found, symbol may be delisted\")\n"
     ]
    },
    {
     "name": "stdout",
     "output_type": "stream",
     "text": [
      " ✖ no price data (empty history)\n",
      "→ Processing EDGEW.ST …"
     ]
    },
    {
     "name": "stderr",
     "output_type": "stream",
     "text": [
      "$EDGEW.ST: possibly delisted; no price data found  (period=1d) (Yahoo error = \"No data found, symbol may be delisted\")\n"
     ]
    },
    {
     "name": "stdout",
     "output_type": "stream",
     "text": [
      " ✖ no price data (empty history)\n",
      "→ Processing EMGSNOK.ST …"
     ]
    },
    {
     "name": "stderr",
     "output_type": "stream",
     "text": [
      "$EMGSNOK.ST: possibly delisted; no price data found  (period=1d) (Yahoo error = \"No data found, symbol may be delisted\")\n"
     ]
    },
    {
     "name": "stdout",
     "output_type": "stream",
     "text": [
      " ✖ no price data (empty history)\n",
      "→ Processing ENROPREF.ST …"
     ]
    },
    {
     "name": "stderr",
     "output_type": "stream",
     "text": [
      "$ENROPREF.ST: possibly delisted; no price data found  (period=1d) (Yahoo error = \"No data found, symbol may be delisted\")\n"
     ]
    },
    {
     "name": "stdout",
     "output_type": "stream",
     "text": [
      " ✖ no price data (empty history)\n",
      "→ Processing DDASANOK.ST …"
     ]
    },
    {
     "name": "stderr",
     "output_type": "stream",
     "text": [
      "$DDASANOK.ST: possibly delisted; no price data found  (period=1d) (Yahoo error = \"No data found, symbol may be delisted\")\n"
     ]
    },
    {
     "name": "stdout",
     "output_type": "stream",
     "text": [
      " ✖ no price data (empty history)\n",
      "→ Processing FPARPREF.ST …"
     ]
    },
    {
     "name": "stderr",
     "output_type": "stream",
     "text": [
      "$FPARPREF.ST: possibly delisted; no price data found  (period=1d) (Yahoo error = \"No data found, symbol may be delisted\")\n"
     ]
    },
    {
     "name": "stdout",
     "output_type": "stream",
     "text": [
      " ✖ no price data (empty history)\n",
      "→ Processing FUNCOMNOK.ST …"
     ]
    },
    {
     "name": "stderr",
     "output_type": "stream",
     "text": [
      "$FUNCOMNOK.ST: possibly delisted; no price data found  (period=1d) (Yahoo error = \"No data found, symbol may be delisted\")\n"
     ]
    },
    {
     "name": "stdout",
     "output_type": "stream",
     "text": [
      " ✖ no price data (empty history)\n",
      "→ Processing GJFNOK.ST …"
     ]
    },
    {
     "name": "stderr",
     "output_type": "stream",
     "text": [
      "$GJFNOK.ST: possibly delisted; no price data found  (period=1d) (Yahoo error = \"No data found, symbol may be delisted\")\n"
     ]
    },
    {
     "name": "stdout",
     "output_type": "stream",
     "text": [
      " ✖ no price data (empty history)\n",
      "→ Processing GOGLTNOK.ST …"
     ]
    },
    {
     "name": "stderr",
     "output_type": "stream",
     "text": [
      "$GOGLTNOK.ST: possibly delisted; no price data found  (period=1d) (Yahoo error = \"No data found, symbol may be delisted\")\n"
     ]
    },
    {
     "name": "stdout",
     "output_type": "stream",
     "text": [
      " ✖ no price data (empty history)\n",
      "→ Processing GSFNOK.ST …"
     ]
    },
    {
     "name": "stderr",
     "output_type": "stream",
     "text": [
      "$GSFNOK.ST: possibly delisted; no price data found  (period=1d) (Yahoo error = \"No data found, symbol may be delisted\")\n"
     ]
    },
    {
     "name": "stdout",
     "output_type": "stream",
     "text": [
      " ✖ no price data (empty history)\n",
      "→ Processing HAVB.ST …"
     ]
    },
    {
     "name": "stderr",
     "output_type": "stream",
     "text": [
      "$HAVB.ST: possibly delisted; no price data found  (period=1d)\n"
     ]
    },
    {
     "name": "stdout",
     "output_type": "stream",
     "text": [
      " ✖ no price data (empty history)\n",
      "→ Processing HAVINOK.ST …"
     ]
    },
    {
     "name": "stderr",
     "output_type": "stream",
     "text": [
      "$HAVINOK.ST: possibly delisted; no price data found  (period=1d) (Yahoo error = \"No data found, symbol may be delisted\")\n"
     ]
    },
    {
     "name": "stdout",
     "output_type": "stream",
     "text": [
      " ✖ no price data (empty history)\n",
      "→ Processing HEMFPREF.ST …"
     ]
    },
    {
     "name": "stderr",
     "output_type": "stream",
     "text": [
      "$HEMFPREF.ST: possibly delisted; no price data found  (period=1d) (Yahoo error = \"No data found, symbol may be delisted\")\n"
     ]
    },
    {
     "name": "stdout",
     "output_type": "stream",
     "text": [
      " ✖ no price data (empty history)\n",
      "→ Processing HEXNOK.ST …"
     ]
    },
    {
     "name": "stderr",
     "output_type": "stream",
     "text": [
      "$HEXNOK.ST: possibly delisted; no price data found  (period=1d) (Yahoo error = \"No data found, symbol may be delisted\")\n"
     ]
    },
    {
     "name": "stdout",
     "output_type": "stream",
     "text": [
      " ✖ no price data (empty history)\n",
      "→ Processing HLNGNOK.ST …"
     ]
    },
    {
     "name": "stderr",
     "output_type": "stream",
     "text": [
      "$HLNGNOK.ST: possibly delisted; no price data found  (period=1d) (Yahoo error = \"No data found, symbol may be delisted\")\n"
     ]
    },
    {
     "name": "stdout",
     "output_type": "stream",
     "text": [
      " ✖ no price data (empty history)\n",
      "→ Processing HYARDNOK.ST …"
     ]
    },
    {
     "name": "stderr",
     "output_type": "stream",
     "text": [
      "$HYARDNOK.ST: possibly delisted; no price data found  (period=1d) (Yahoo error = \"No data found, symbol may be delisted\")\n"
     ]
    },
    {
     "name": "stdout",
     "output_type": "stream",
     "text": [
      " ✖ no price data (empty history)\n",
      "→ Processing IDEXNOK.ST …"
     ]
    },
    {
     "name": "stderr",
     "output_type": "stream",
     "text": [
      "$IDEXNOK.ST: possibly delisted; no price data found  (period=1d) (Yahoo error = \"No data found, symbol may be delisted\")\n"
     ]
    },
    {
     "name": "stdout",
     "output_type": "stream",
     "text": [
      " ✖ no price data (empty history)\n",
      "→ Processing ELEMNOK.ST …"
     ]
    },
    {
     "name": "stderr",
     "output_type": "stream",
     "text": [
      "$ELEMNOK.ST: possibly delisted; no price data found  (period=1d) (Yahoo error = \"No data found, symbol may be delisted\")\n"
     ]
    },
    {
     "name": "stdout",
     "output_type": "stream",
     "text": [
      " ✖ no price data (empty history)\n",
      "→ Processing JINNOK.ST …"
     ]
    },
    {
     "name": "stderr",
     "output_type": "stream",
     "text": [
      "$JINNOK.ST: possibly delisted; no price data found  (period=1d) (Yahoo error = \"No data found, symbol may be delisted\")\n"
     ]
    },
    {
     "name": "stdout",
     "output_type": "stream",
     "text": [
      " ✖ no price data (empty history)\n",
      "→ Processing KITNOK.ST …"
     ]
    },
    {
     "name": "stderr",
     "output_type": "stream",
     "text": [
      "$KITNOK.ST: possibly delisted; no price data found  (period=1d) (Yahoo error = \"No data found, symbol may be delisted\")\n"
     ]
    },
    {
     "name": "stdout",
     "output_type": "stream",
     "text": [
      " ✖ no price data (empty history)\n",
      "→ Processing KOANOK.ST …"
     ]
    },
    {
     "name": "stderr",
     "output_type": "stream",
     "text": [
      "$KOANOK.ST: possibly delisted; no price data found  (period=1d) (Yahoo error = \"No data found, symbol may be delisted\")\n"
     ]
    },
    {
     "name": "stdout",
     "output_type": "stream",
     "text": [
      " ✖ no price data (empty history)\n",
      "→ Processing KOGNOK.ST …"
     ]
    },
    {
     "name": "stderr",
     "output_type": "stream",
     "text": [
      "$KOGNOK.ST: possibly delisted; no price data found  (period=1d) (Yahoo error = \"No data found, symbol may be delisted\")\n"
     ]
    },
    {
     "name": "stdout",
     "output_type": "stream",
     "text": [
      " ✖ no price data (empty history)\n",
      "→ Processing KVAERNOK.ST …"
     ]
    },
    {
     "name": "stderr",
     "output_type": "stream",
     "text": [
      "$KVAERNOK.ST: possibly delisted; no price data found  (period=1d) (Yahoo error = \"No data found, symbol may be delisted\")\n"
     ]
    },
    {
     "name": "stdout",
     "output_type": "stream",
     "text": [
      " ✖ no price data (empty history)\n",
      "→ Processing LSGNOK.ST …"
     ]
    },
    {
     "name": "stderr",
     "output_type": "stream",
     "text": [
      "$LSGNOK.ST: possibly delisted; no price data found  (period=1d) (Yahoo error = \"No data found, symbol may be delisted\")\n"
     ]
    },
    {
     "name": "stdout",
     "output_type": "stream",
     "text": [
      " ✖ no price data (empty history)\n",
      "→ Processing MOWINOK.ST …"
     ]
    },
    {
     "name": "stderr",
     "output_type": "stream",
     "text": [
      "$MOWINOK.ST: possibly delisted; no price data found  (period=1d) (Yahoo error = \"No data found, symbol may be delisted\")\n"
     ]
    },
    {
     "name": "stdout",
     "output_type": "stream",
     "text": [
      " ✖ no price data (empty history)\n",
      "→ Processing NASNOK.ST …"
     ]
    },
    {
     "name": "stderr",
     "output_type": "stream",
     "text": [
      "$NASNOK.ST: possibly delisted; no price data found  (period=1d) (Yahoo error = \"No data found, symbol may be delisted\")\n"
     ]
    },
    {
     "name": "stdout",
     "output_type": "stream",
     "text": [
      " ✖ no price data (empty history)\n",
      "→ Processing NAXS.ST … ✔ recorded\n",
      "→ Processing NELNOK.ST …"
     ]
    },
    {
     "name": "stderr",
     "output_type": "stream",
     "text": [
      "$NELNOK.ST: possibly delisted; no price data found  (period=1d) (Yahoo error = \"No data found, symbol may be delisted\")\n"
     ]
    },
    {
     "name": "stdout",
     "output_type": "stream",
     "text": [
      " ✖ no price data (empty history)\n",
      "→ Processing NEXTNOK.ST …"
     ]
    },
    {
     "name": "stderr",
     "output_type": "stream",
     "text": [
      "$NEXTNOK.ST: possibly delisted; no price data found  (period=1d) (Yahoo error = \"No data found, symbol may be delisted\")\n"
     ]
    },
    {
     "name": "stdout",
     "output_type": "stream",
     "text": [
      " ✖ no price data (empty history)\n",
      "→ Processing NHYNOK.ST …"
     ]
    },
    {
     "name": "stderr",
     "output_type": "stream",
     "text": [
      "$NHYNOK.ST: possibly delisted; no price data found  (period=1d) (Yahoo error = \"No data found, symbol may be delisted\")\n"
     ]
    },
    {
     "name": "stdout",
     "output_type": "stream",
     "text": [
      " ✖ no price data (empty history)\n",
      "→ Processing NODNOK.ST …"
     ]
    },
    {
     "name": "stderr",
     "output_type": "stream",
     "text": [
      "$NODNOK.ST: possibly delisted; no price data found  (period=1d) (Yahoo error = \"No data found, symbol may be delisted\")\n"
     ]
    },
    {
     "name": "stdout",
     "output_type": "stream",
     "text": [
      " ✖ no price data (empty history)\n",
      "→ Processing NOMNOK.ST …"
     ]
    },
    {
     "name": "stderr",
     "output_type": "stream",
     "text": [
      "$NOMNOK.ST: possibly delisted; no price data found  (period=1d) (Yahoo error = \"No data found, symbol may be delisted\")\n"
     ]
    },
    {
     "name": "stdout",
     "output_type": "stream",
     "text": [
      " ✖ no price data (empty history)\n",
      "→ Processing NPRONOK.ST …"
     ]
    },
    {
     "name": "stderr",
     "output_type": "stream",
     "text": [
      "$NPRONOK.ST: possibly delisted; no price data found  (period=1d) (Yahoo error = \"No data found, symbol may be delisted\")\n"
     ]
    },
    {
     "name": "stdout",
     "output_type": "stream",
     "text": [
      " ✖ no price data (empty history)\n",
      "→ Processing NRSNOK.ST …"
     ]
    },
    {
     "name": "stderr",
     "output_type": "stream",
     "text": [
      "$NRSNOK.ST: possibly delisted; no price data found  (period=1d) (Yahoo error = \"No data found, symbol may be delisted\")\n"
     ]
    },
    {
     "name": "stdout",
     "output_type": "stream",
     "text": [
      " ✖ no price data (empty history)\n",
      "→ Processing OCYNOK.ST …"
     ]
    },
    {
     "name": "stderr",
     "output_type": "stream",
     "text": [
      "$OCYNOK.ST: possibly delisted; no price data found  (period=1d) (Yahoo error = \"No data found, symbol may be delisted\")\n"
     ]
    },
    {
     "name": "stdout",
     "output_type": "stream",
     "text": [
      " ✖ no price data (empty history)\n",
      "→ Processing ODLNOK.ST …"
     ]
    },
    {
     "name": "stderr",
     "output_type": "stream",
     "text": [
      "$ODLNOK.ST: possibly delisted; no price data found  (period=1d) (Yahoo error = \"No data found, symbol may be delisted\")\n"
     ]
    },
    {
     "name": "stdout",
     "output_type": "stream",
     "text": [
      " ✖ no price data (empty history)\n",
      "→ Processing OLTNOK.ST …"
     ]
    },
    {
     "name": "stderr",
     "output_type": "stream",
     "text": [
      "$OLTNOK.ST: possibly delisted; no price data found  (period=1d) (Yahoo error = \"No data found, symbol may be delisted\")\n"
     ]
    },
    {
     "name": "stdout",
     "output_type": "stream",
     "text": [
      " ✖ no price data (empty history)\n",
      "→ Processing OTELLONOK.ST …"
     ]
    },
    {
     "name": "stderr",
     "output_type": "stream",
     "text": [
      "$OTELLONOK.ST: possibly delisted; no price data found  (period=1d) (Yahoo error = \"No data found, symbol may be delisted\")\n"
     ]
    },
    {
     "name": "stdout",
     "output_type": "stream",
     "text": [
      " ✖ no price data (empty history)\n",
      "→ Processing OPPREF.ST …"
     ]
    },
    {
     "name": "stderr",
     "output_type": "stream",
     "text": [
      "$OPPREF.ST: possibly delisted; no price data found  (period=1d) (Yahoo error = \"No data found, symbol may be delisted\")\n"
     ]
    },
    {
     "name": "stdout",
     "output_type": "stream",
     "text": [
      " ✖ no price data (empty history)\n",
      "→ Processing OPPREFB.ST …"
     ]
    },
    {
     "name": "stderr",
     "output_type": "stream",
     "text": [
      "$OPPREFB.ST: possibly delisted; no price data found  (period=1d) (Yahoo error = \"No data found, symbol may be delisted\")\n"
     ]
    },
    {
     "name": "stdout",
     "output_type": "stream",
     "text": [
      " ✖ no price data (empty history)\n",
      "→ Processing ORKNOK.ST …"
     ]
    },
    {
     "name": "stderr",
     "output_type": "stream",
     "text": [
      "$ORKNOK.ST: possibly delisted; no price data found  (period=1d) (Yahoo error = \"No data found, symbol may be delisted\")\n"
     ]
    },
    {
     "name": "stdout",
     "output_type": "stream",
     "text": [
      " ✖ no price data (empty history)\n",
      "→ Processing PGSNOK.ST …"
     ]
    },
    {
     "name": "stderr",
     "output_type": "stream",
     "text": [
      "$PGSNOK.ST: possibly delisted; no price data found  (period=1d) (Yahoo error = \"No data found, symbol may be delisted\")\n"
     ]
    },
    {
     "name": "stdout",
     "output_type": "stream",
     "text": [
      " ✖ no price data (empty history)\n",
      "→ Processing PHONOK.ST …"
     ]
    },
    {
     "name": "stderr",
     "output_type": "stream",
     "text": [
      "$PHONOK.ST: possibly delisted; no price data found  (period=1d) (Yahoo error = \"No data found, symbol may be delisted\")\n"
     ]
    },
    {
     "name": "stdout",
     "output_type": "stream",
     "text": [
      " ✖ no price data (empty history)\n",
      "→ Processing PLCSNOK.ST …"
     ]
    },
    {
     "name": "stderr",
     "output_type": "stream",
     "text": [
      "$PLCSNOK.ST: possibly delisted; no price data found  (period=1d) (Yahoo error = \"No data found, symbol may be delisted\")\n"
     ]
    },
    {
     "name": "stdout",
     "output_type": "stream",
     "text": [
      " ✖ no price data (empty history)\n",
      "→ Processing PROTCTNOK.ST …"
     ]
    },
    {
     "name": "stderr",
     "output_type": "stream",
     "text": [
      "$PROTCTNOK.ST: possibly delisted; no price data found  (period=1d) (Yahoo error = \"No data found, symbol may be delisted\")\n"
     ]
    },
    {
     "name": "stdout",
     "output_type": "stream",
     "text": [
      " ✖ no price data (empty history)\n",
      "→ Processing PRSNOK.ST …"
     ]
    },
    {
     "name": "stderr",
     "output_type": "stream",
     "text": [
      "$PRSNOK.ST: possibly delisted; no price data found  (period=1d) (Yahoo error = \"No data found, symbol may be delisted\")\n"
     ]
    },
    {
     "name": "stdout",
     "output_type": "stream",
     "text": [
      " ✖ no price data (empty history)\n",
      "→ Processing QECNOK.ST …"
     ]
    },
    {
     "name": "stderr",
     "output_type": "stream",
     "text": [
      "$QECNOK.ST: possibly delisted; no price data found  (period=1d) (Yahoo error = \"No data found, symbol may be delisted\")\n"
     ]
    },
    {
     "name": "stdout",
     "output_type": "stream",
     "text": [
      " ✖ no price data (empty history)\n",
      "→ Processing RECNOK.ST …"
     ]
    },
    {
     "name": "stderr",
     "output_type": "stream",
     "text": [
      "$RECNOK.ST: possibly delisted; no price data found  (period=1d) (Yahoo error = \"No data found, symbol may be delisted\")\n"
     ]
    },
    {
     "name": "stdout",
     "output_type": "stream",
     "text": [
      " ✖ no price data (empty history)\n",
      "→ Processing SAGAPREF.ST …"
     ]
    },
    {
     "name": "stderr",
     "output_type": "stream",
     "text": [
      "$SAGAPREF.ST: possibly delisted; no price data found  (period=1d) (Yahoo error = \"No data found, symbol may be delisted\")\n"
     ]
    },
    {
     "name": "stdout",
     "output_type": "stream",
     "text": [
      " ✖ no price data (empty history)\n",
      "→ Processing SALMNOK.ST …"
     ]
    },
    {
     "name": "stderr",
     "output_type": "stream",
     "text": [
      "$SALMNOK.ST: possibly delisted; no price data found  (period=1d) (Yahoo error = \"No data found, symbol may be delisted\")\n"
     ]
    },
    {
     "name": "stdout",
     "output_type": "stream",
     "text": [
      " ✖ no price data (empty history)\n",
      "→ Processing SBONOK.ST …"
     ]
    },
    {
     "name": "stderr",
     "output_type": "stream",
     "text": [
      "$SBONOK.ST: possibly delisted; no price data found  (period=1d) (Yahoo error = \"No data found, symbol may be delisted\")\n"
     ]
    },
    {
     "name": "stdout",
     "output_type": "stream",
     "text": [
      " ✖ no price data (empty history)\n",
      "→ Processing SDRLNOK.ST …"
     ]
    },
    {
     "name": "stderr",
     "output_type": "stream",
     "text": [
      "$SDRLNOK.ST: possibly delisted; no price data found  (period=1d) (Yahoo error = \"No data found, symbol may be delisted\")\n"
     ]
    },
    {
     "name": "stdout",
     "output_type": "stream",
     "text": [
      " ✖ no price data (empty history)\n",
      "→ Processing SEYE.ST … ✔ recorded\n",
      "→ Processing SNINOK.ST …"
     ]
    },
    {
     "name": "stderr",
     "output_type": "stream",
     "text": [
      "$SNINOK.ST: possibly delisted; no price data found  (period=1d) (Yahoo error = \"No data found, symbol may be delisted\")\n"
     ]
    },
    {
     "name": "stdout",
     "output_type": "stream",
     "text": [
      " ✖ no price data (empty history)\n",
      "→ Processing SOLONNOK.ST …"
     ]
    },
    {
     "name": "stderr",
     "output_type": "stream",
     "text": [
      "$SOLONNOK.ST: possibly delisted; no price data found  (period=1d) (Yahoo error = \"No data found, symbol may be delisted\")\n"
     ]
    },
    {
     "name": "stdout",
     "output_type": "stream",
     "text": [
      " ✖ no price data (empty history)\n",
      "→ Processing SPUNOK.ST …"
     ]
    },
    {
     "name": "stderr",
     "output_type": "stream",
     "text": [
      "$SPUNOK.ST: possibly delisted; no price data found  (period=1d) (Yahoo error = \"No data found, symbol may be delisted\")\n"
     ]
    },
    {
     "name": "stdout",
     "output_type": "stream",
     "text": [
      " ✖ no price data (empty history)\n",
      "→ Processing SRBANKNOK.ST …"
     ]
    },
    {
     "name": "stderr",
     "output_type": "stream",
     "text": [
      "$SRBANKNOK.ST: possibly delisted; no price data found  (period=1d) (Yahoo error = \"No data found, symbol may be delisted\")\n"
     ]
    },
    {
     "name": "stdout",
     "output_type": "stream",
     "text": [
      " ✖ no price data (empty history)\n",
      "→ Processing STBNOK.ST …"
     ]
    },
    {
     "name": "stderr",
     "output_type": "stream",
     "text": [
      "$STBNOK.ST: possibly delisted; no price data found  (period=1d) (Yahoo error = \"No data found, symbol may be delisted\")\n"
     ]
    },
    {
     "name": "stdout",
     "output_type": "stream",
     "text": [
      " ✖ no price data (empty history)\n",
      "→ Processing EQNRNOK.ST …"
     ]
    },
    {
     "name": "stderr",
     "output_type": "stream",
     "text": [
      "$EQNRNOK.ST: possibly delisted; no price data found  (period=1d) (Yahoo error = \"No data found, symbol may be delisted\")\n"
     ]
    },
    {
     "name": "stdout",
     "output_type": "stream",
     "text": [
      " ✖ no price data (empty history)\n",
      "→ Processing SUBCNOK.ST …"
     ]
    },
    {
     "name": "stderr",
     "output_type": "stream",
     "text": [
      "$SUBCNOK.ST: possibly delisted; no price data found  (period=1d) (Yahoo error = \"No data found, symbol may be delisted\")\n"
     ]
    },
    {
     "name": "stdout",
     "output_type": "stream",
     "text": [
      " ✖ no price data (empty history)\n",
      "→ Processing SVOLA.ST …"
     ]
    },
    {
     "name": "stderr",
     "output_type": "stream",
     "text": [
      "$SVOLA.ST: possibly delisted; no price data found  (period=1d)\n"
     ]
    },
    {
     "name": "stdout",
     "output_type": "stream",
     "text": [
      " ✖ no price data (empty history)\n",
      "→ Processing SVOLB.ST …"
     ]
    },
    {
     "name": "stderr",
     "output_type": "stream",
     "text": [
      "$SVOLB.ST: possibly delisted; no price data found  (period=1d)\n"
     ]
    },
    {
     "name": "stdout",
     "output_type": "stream",
     "text": [
      " ✖ no price data (empty history)\n",
      "→ Processing TELNOK.ST …"
     ]
    },
    {
     "name": "stderr",
     "output_type": "stream",
     "text": [
      "$TELNOK.ST: possibly delisted; no price data found  (period=1d) (Yahoo error = \"No data found, symbol may be delisted\")\n"
     ]
    },
    {
     "name": "stdout",
     "output_type": "stream",
     "text": [
      " ✖ no price data (empty history)\n",
      "→ Processing TGSNOK.ST …"
     ]
    },
    {
     "name": "stderr",
     "output_type": "stream",
     "text": [
      "$TGSNOK.ST: possibly delisted; no price data found  (period=1d) (Yahoo error = \"No data found, symbol may be delisted\")\n"
     ]
    },
    {
     "name": "stdout",
     "output_type": "stream",
     "text": [
      " ✖ no price data (empty history)\n",
      "→ Processing THINNOK.ST …"
     ]
    },
    {
     "name": "stderr",
     "output_type": "stream",
     "text": [
      "$THINNOK.ST: possibly delisted; no price data found  (period=1d) (Yahoo error = \"No data found, symbol may be delisted\")\n"
     ]
    },
    {
     "name": "stdout",
     "output_type": "stream",
     "text": [
      " ✖ no price data (empty history)\n",
      "→ Processing TOMNOK.ST …"
     ]
    },
    {
     "name": "stderr",
     "output_type": "stream",
     "text": [
      "$TOMNOK.ST: possibly delisted; no price data found  (period=1d) (Yahoo error = \"No data found, symbol may be delisted\")\n"
     ]
    },
    {
     "name": "stdout",
     "output_type": "stream",
     "text": [
      " ✖ no price data (empty history)\n",
      "→ Processing VEINOK.ST …"
     ]
    },
    {
     "name": "stderr",
     "output_type": "stream",
     "text": [
      "$VEINOK.ST: possibly delisted; no price data found  (period=1d) (Yahoo error = \"No data found, symbol may be delisted\")\n"
     ]
    },
    {
     "name": "stdout",
     "output_type": "stream",
     "text": [
      " ✖ no price data (empty history)\n",
      "→ Processing VICPPREF.ST …"
     ]
    },
    {
     "name": "stderr",
     "output_type": "stream",
     "text": [
      "$VICPPREF.ST: possibly delisted; no price data found  (period=1d) (Yahoo error = \"No data found, symbol may be delisted\")\n"
     ]
    },
    {
     "name": "stdout",
     "output_type": "stream",
     "text": [
      " ✖ no price data (empty history)\n",
      "→ Processing WALWILNOK.ST …"
     ]
    },
    {
     "name": "stderr",
     "output_type": "stream",
     "text": [
      "$WALWILNOK.ST: possibly delisted; no price data found  (period=1d) (Yahoo error = \"No data found, symbol may be delisted\")\n"
     ]
    },
    {
     "name": "stdout",
     "output_type": "stream",
     "text": [
      " ✖ no price data (empty history)\n",
      "→ Processing WWIBNOK.ST …"
     ]
    },
    {
     "name": "stderr",
     "output_type": "stream",
     "text": [
      "$WWIBNOK.ST: possibly delisted; no price data found  (period=1d) (Yahoo error = \"No data found, symbol may be delisted\")\n"
     ]
    },
    {
     "name": "stdout",
     "output_type": "stream",
     "text": [
      " ✖ no price data (empty history)\n",
      "→ Processing WWINOK.ST …"
     ]
    },
    {
     "name": "stderr",
     "output_type": "stream",
     "text": [
      "$WWINOK.ST: possibly delisted; no price data found  (period=1d) (Yahoo error = \"No data found, symbol may be delisted\")\n"
     ]
    },
    {
     "name": "stdout",
     "output_type": "stream",
     "text": [
      " ✖ no price data (empty history)\n",
      "→ Processing XXLNOK.ST …"
     ]
    },
    {
     "name": "stderr",
     "output_type": "stream",
     "text": [
      "$XXLNOK.ST: possibly delisted; no price data found  (period=1d) (Yahoo error = \"No data found, symbol may be delisted\")\n"
     ]
    },
    {
     "name": "stdout",
     "output_type": "stream",
     "text": [
      " ✖ no price data (empty history)\n",
      "→ Processing YARNOK.ST …"
     ]
    },
    {
     "name": "stderr",
     "output_type": "stream",
     "text": [
      "$YARNOK.ST: possibly delisted; no price data found  (period=1d) (Yahoo error = \"No data found, symbol may be delisted\")\n"
     ]
    },
    {
     "name": "stdout",
     "output_type": "stream",
     "text": [
      " ✖ no price data (empty history)\n",
      "→ Processing ZALNOK.ST …"
     ]
    },
    {
     "name": "stderr",
     "output_type": "stream",
     "text": [
      "$ZALNOK.ST: possibly delisted; no price data found  (period=1d) (Yahoo error = \"No data found, symbol may be delisted\")\n"
     ]
    },
    {
     "name": "stdout",
     "output_type": "stream",
     "text": [
      " ✖ no price data (empty history)\n",
      "→ Processing NICKE.ST …"
     ]
    },
    {
     "name": "stderr",
     "output_type": "stream",
     "text": [
      "$NICKE.ST: possibly delisted; no price data found  (period=1d) (Yahoo error = \"No data found, symbol may be delisted\")\n"
     ]
    },
    {
     "name": "stdout",
     "output_type": "stream",
     "text": [
      " ✖ no price data (empty history)\n",
      "→ Processing TIROINT.ST …"
     ]
    },
    {
     "name": "stderr",
     "output_type": "stream",
     "text": [
      "$TIROINT.ST: possibly delisted; no price data found  (period=1d) (Yahoo error = \"No data found, symbol may be delisted\")\n"
     ]
    },
    {
     "name": "stdout",
     "output_type": "stream",
     "text": [
      " ✖ no price data (empty history)\n",
      "→ Processing IZAFEB.ST …"
     ]
    },
    {
     "name": "stderr",
     "output_type": "stream",
     "text": [
      "$IZAFEB.ST: possibly delisted; no price data found  (period=1d) (Yahoo error = \"No data found, symbol may be delisted\")\n"
     ]
    },
    {
     "name": "stdout",
     "output_type": "stream",
     "text": [
      " ✖ no price data (empty history)\n",
      "→ Processing CUR.ST …"
     ]
    },
    {
     "name": "stderr",
     "output_type": "stream",
     "text": [
      "$CUR.ST: possibly delisted; no price data found  (period=1d) (Yahoo error = \"No data found, symbol may be delisted\")\n"
     ]
    },
    {
     "name": "stdout",
     "output_type": "stream",
     "text": [
      " ✖ no price data (empty history)\n",
      "→ Processing STWA.ST …"
     ]
    },
    {
     "name": "stderr",
     "output_type": "stream",
     "text": [
      "$STWA.ST: possibly delisted; no price data found  (period=1d) (Yahoo error = \"No data found, symbol may be delisted\")\n"
     ]
    },
    {
     "name": "stdout",
     "output_type": "stream",
     "text": [
      " ✖ no price data (empty history)\n",
      "→ Processing AQ.ST … ✔ recorded\n",
      "→ Processing MULT.ST …"
     ]
    },
    {
     "name": "stderr",
     "output_type": "stream",
     "text": [
      "$MULT.ST: possibly delisted; no price data found  (period=1d) (Yahoo error = \"No data found, symbol may be delisted\")\n"
     ]
    },
    {
     "name": "stdout",
     "output_type": "stream",
     "text": [
      " ✖ no price data (empty history)\n",
      "→ Processing EFFP.ST …"
     ]
    },
    {
     "name": "stderr",
     "output_type": "stream",
     "text": [
      "$EFFP.ST: possibly delisted; no price data found  (period=1d) (Yahoo error = \"No data found, symbol may be delisted\")\n"
     ]
    },
    {
     "name": "stdout",
     "output_type": "stream",
     "text": [
      " ✖ no price data (empty history)\n",
      "→ Processing ACOUS.ST …"
     ]
    },
    {
     "name": "stderr",
     "output_type": "stream",
     "text": [
      "$ACOUS.ST: possibly delisted; no price data found  (period=1d) (Yahoo error = \"No data found, symbol may be delisted\")\n"
     ]
    },
    {
     "name": "stdout",
     "output_type": "stream",
     "text": [
      " ✖ no price data (empty history)\n",
      "→ Processing ALHX.ST …"
     ]
    },
    {
     "name": "stderr",
     "output_type": "stream",
     "text": [
      "$ALHX.ST: possibly delisted; no price data found  (period=1d) (Yahoo error = \"No data found, symbol may be delisted\")\n"
     ]
    },
    {
     "name": "stdout",
     "output_type": "stream",
     "text": [
      " ✖ no price data (empty history)\n",
      "→ Processing ALONB.ST …"
     ]
    },
    {
     "name": "stderr",
     "output_type": "stream",
     "text": [
      "$ALONB.ST: possibly delisted; no price data found  (period=1d) (Yahoo error = \"No data found, symbol may be delisted\")\n"
     ]
    },
    {
     "name": "stdout",
     "output_type": "stream",
     "text": [
      " ✖ no price data (empty history)\n",
      "→ Processing ALTEM.ST …"
     ]
    },
    {
     "name": "stderr",
     "output_type": "stream",
     "text": [
      "$ALTEM.ST: possibly delisted; no price data found  (period=1d) (Yahoo error = \"No data found, symbol may be delisted\")\n"
     ]
    },
    {
     "name": "stdout",
     "output_type": "stream",
     "text": [
      " ✖ no price data (empty history)\n",
      "→ Processing AMBI.ST …"
     ]
    },
    {
     "name": "stderr",
     "output_type": "stream",
     "text": [
      "$AMBI.ST: possibly delisted; no price data found  (period=1d) (Yahoo error = \"No data found, symbol may be delisted\")\n"
     ]
    },
    {
     "name": "stdout",
     "output_type": "stream",
     "text": [
      " ✖ no price data (empty history)\n",
      "→ Processing AMH2B.ST …"
     ]
    },
    {
     "name": "stderr",
     "output_type": "stream",
     "text": [
      "$AMH2B.ST: possibly delisted; no price data found  (period=1d) (Yahoo error = \"No data found, symbol may be delisted\")\n"
     ]
    },
    {
     "name": "stdout",
     "output_type": "stream",
     "text": [
      " ✖ no price data (empty history)\n",
      "→ Processing AMNO.ST … ✔ recorded\n",
      "→ Processing ANGLR.ST …"
     ]
    },
    {
     "name": "stderr",
     "output_type": "stream",
     "text": [
      "$ANGLR.ST: possibly delisted; no price data found  (period=1d) (Yahoo error = \"No data found, symbol may be delisted\")\n"
     ]
    },
    {
     "name": "stdout",
     "output_type": "stream",
     "text": [
      " ✖ no price data (empty history)\n",
      "→ Processing APSTR.ST …"
     ]
    },
    {
     "name": "stderr",
     "output_type": "stream",
     "text": [
      "$APSTR.ST: possibly delisted; no price data found  (period=1d) (Yahoo error = \"No data found, symbol may be delisted\")\n"
     ]
    },
    {
     "name": "stdout",
     "output_type": "stream",
     "text": [
      " ✖ no price data (empty history)\n",
      "→ Processing AXKID.ST …"
     ]
    },
    {
     "name": "stderr",
     "output_type": "stream",
     "text": [
      "$AXKID.ST: possibly delisted; no price data found  (period=1d) (Yahoo error = \"No data found, symbol may be delisted\")\n"
     ]
    },
    {
     "name": "stdout",
     "output_type": "stream",
     "text": [
      " ✖ no price data (empty history)\n",
      "→ Processing BAHNB.ST …"
     ]
    },
    {
     "name": "stderr",
     "output_type": "stream",
     "text": [
      "$BAHNB.ST: possibly delisted; no price data found  (period=1d) (Yahoo error = \"No data found, symbol may be delisted\")\n"
     ]
    },
    {
     "name": "stdout",
     "output_type": "stream",
     "text": [
      " ✖ no price data (empty history)\n",
      "→ Processing BEOSDB.ST …"
     ]
    },
    {
     "name": "stderr",
     "output_type": "stream",
     "text": [
      "$BEOSDB.ST: possibly delisted; no price data found  (period=1d) (Yahoo error = \"No data found, symbol may be delisted\")\n"
     ]
    },
    {
     "name": "stdout",
     "output_type": "stream",
     "text": [
      " ✖ no price data (empty history)\n",
      "→ Processing BOTX.ST … ✔ recorded\n",
      "→ Processing BRAIN.ST … ✔ recorded\n",
      "→ Processing CAMB.ST …"
     ]
    },
    {
     "name": "stderr",
     "output_type": "stream",
     "text": [
      "$CAMB.ST: possibly delisted; no price data found  (period=1d) (Yahoo error = \"No data found, symbol may be delisted\")\n"
     ]
    },
    {
     "name": "stdout",
     "output_type": "stream",
     "text": [
      " ✖ no price data (empty history)\n",
      "→ Processing REDR.ST …"
     ]
    },
    {
     "name": "stderr",
     "output_type": "stream",
     "text": [
      "$REDR.ST: possibly delisted; no price data found  (period=1d) (Yahoo error = \"No data found, symbol may be delisted\")\n"
     ]
    },
    {
     "name": "stdout",
     "output_type": "stream",
     "text": [
      " ✖ no price data (empty history)\n",
      "→ Processing CHALB.ST …"
     ]
    },
    {
     "name": "stderr",
     "output_type": "stream",
     "text": [
      "$CHALB.ST: possibly delisted; no price data found  (period=1d) (Yahoo error = \"No data found, symbol may be delisted\")\n"
     ]
    },
    {
     "name": "stdout",
     "output_type": "stream",
     "text": [
      " ✖ no price data (empty history)\n",
      "→ Processing CLSRB.ST …"
     ]
    },
    {
     "name": "stderr",
     "output_type": "stream",
     "text": [
      "$CLSRB.ST: possibly delisted; no price data found  (period=1d) (Yahoo error = \"No data found, symbol may be delisted\")\n"
     ]
    },
    {
     "name": "stdout",
     "output_type": "stream",
     "text": [
      " ✖ no price data (empty history)\n",
      "→ Processing CSEC.ST …"
     ]
    },
    {
     "name": "stderr",
     "output_type": "stream",
     "text": [
      "$CSEC.ST: possibly delisted; no price data found  (period=1d) (Yahoo error = \"No data found, symbol may be delisted\")\n"
     ]
    },
    {
     "name": "stdout",
     "output_type": "stream",
     "text": [
      " ✖ no price data (empty history)\n",
      "→ Processing DBPHAB.ST …"
     ]
    },
    {
     "name": "stderr",
     "output_type": "stream",
     "text": [
      "$DBPHAB.ST: possibly delisted; no price data found  (period=1d) (Yahoo error = \"No data found, symbol may be delisted\")\n"
     ]
    },
    {
     "name": "stdout",
     "output_type": "stream",
     "text": [
      " ✖ no price data (empty history)\n",
      "→ Processing DEXTECH.ST …"
     ]
    },
    {
     "name": "stderr",
     "output_type": "stream",
     "text": [
      "$DEXTECH.ST: possibly delisted; no price data found  (period=1d) (Yahoo error = \"No data found, symbol may be delisted\")\n"
     ]
    },
    {
     "name": "stdout",
     "output_type": "stream",
     "text": [
      " ✖ no price data (empty history)\n",
      "→ Processing EASYB.ST …"
     ]
    },
    {
     "name": "stderr",
     "output_type": "stream",
     "text": [
      "$EASYB.ST: possibly delisted; no price data found  (period=1d) (Yahoo error = \"No data found, symbol may be delisted\")\n"
     ]
    },
    {
     "name": "stdout",
     "output_type": "stream",
     "text": [
      " ✖ no price data (empty history)\n",
      "→ Processing ECCB.ST …"
     ]
    },
    {
     "name": "stderr",
     "output_type": "stream",
     "text": [
      "$ECCB.ST: possibly delisted; no price data found  (period=1d) (Yahoo error = \"No data found, symbol may be delisted\")\n"
     ]
    },
    {
     "name": "stdout",
     "output_type": "stream",
     "text": [
      " ✖ no price data (empty history)\n",
      "→ Processing ECOB.ST …"
     ]
    },
    {
     "name": "stderr",
     "output_type": "stream",
     "text": [
      "$ECOB.ST: possibly delisted; no price data found  (period=1d) (Yahoo error = \"No data found, symbol may be delisted\")\n"
     ]
    },
    {
     "name": "stdout",
     "output_type": "stream",
     "text": [
      " ✖ no price data (empty history)\n",
      "→ Processing ECOM.ST …"
     ]
    },
    {
     "name": "stderr",
     "output_type": "stream",
     "text": [
      "$ECOM.ST: possibly delisted; no price data found  (period=1d) (Yahoo error = \"No data found, symbol may be delisted\")\n"
     ]
    },
    {
     "name": "stdout",
     "output_type": "stream",
     "text": [
      " ✖ no price data (empty history)\n",
      "→ Processing ENVIRB.ST …"
     ]
    },
    {
     "name": "stderr",
     "output_type": "stream",
     "text": [
      "$ENVIRB.ST: possibly delisted; no price data found  (period=1d) (Yahoo error = \"No data found, symbol may be delisted\")\n"
     ]
    },
    {
     "name": "stdout",
     "output_type": "stream",
     "text": [
      " ✖ no price data (empty history)\n",
      "→ Processing EQL.ST … ✔ recorded\n",
      "→ Processing EUCI.ST …"
     ]
    },
    {
     "name": "stderr",
     "output_type": "stream",
     "text": [
      "$EUCI.ST: possibly delisted; no price data found  (period=1d) (Yahoo error = \"No data found, symbol may be delisted\")\n"
     ]
    },
    {
     "name": "stdout",
     "output_type": "stream",
     "text": [
      " ✖ no price data (empty history)\n",
      "→ Processing EURIB.ST …"
     ]
    },
    {
     "name": "stderr",
     "output_type": "stream",
     "text": [
      "$EURIB.ST: possibly delisted; no price data found  (period=1d) (Yahoo error = \"No data found, symbol may be delisted\")\n"
     ]
    },
    {
     "name": "stdout",
     "output_type": "stream",
     "text": [
      " ✖ no price data (empty history)\n",
      "→ Processing EUROC.ST …"
     ]
    },
    {
     "name": "stderr",
     "output_type": "stream",
     "text": [
      "$EUROC.ST: possibly delisted; no price data found  (period=1d) (Yahoo error = \"No data found, symbol may be delisted\")\n"
     ]
    },
    {
     "name": "stdout",
     "output_type": "stream",
     "text": [
      " ✖ no price data (empty history)\n",
      "→ Processing FINEP.ST …"
     ]
    },
    {
     "name": "stderr",
     "output_type": "stream",
     "text": [
      "$FINEP.ST: possibly delisted; no price data found  (period=1d) (Yahoo error = \"No data found, symbol may be delisted\")\n"
     ]
    },
    {
     "name": "stdout",
     "output_type": "stream",
     "text": [
      " ✖ no price data (empty history)\n",
      "→ Processing FXI.ST … ✔ recorded\n",
      "→ Processing GENES.ST …"
     ]
    },
    {
     "name": "stderr",
     "output_type": "stream",
     "text": [
      "$GENES.ST: possibly delisted; no price data found  (period=1d) (Yahoo error = \"No data found, symbol may be delisted\")\n"
     ]
    },
    {
     "name": "stdout",
     "output_type": "stream",
     "text": [
      " ✖ no price data (empty history)\n",
      "→ Processing GJAB.ST … ✔ recorded\n",
      "→ Processing GREAT.ST … ✔ recorded\n",
      "→ Processing HOMEB.ST …"
     ]
    },
    {
     "name": "stderr",
     "output_type": "stream",
     "text": [
      "$HOMEB.ST: possibly delisted; no price data found  (period=1d) (Yahoo error = \"No data found, symbol may be delisted\")\n"
     ]
    },
    {
     "name": "stdout",
     "output_type": "stream",
     "text": [
      " ✖ no price data (empty history)\n",
      "→ Processing INSPL.ST …"
     ]
    },
    {
     "name": "stderr",
     "output_type": "stream",
     "text": [
      "$INSPL.ST: possibly delisted; no price data found  (period=1d) (Yahoo error = \"No data found, symbol may be delisted\")\n"
     ]
    },
    {
     "name": "stdout",
     "output_type": "stream",
     "text": [
      " ✖ no price data (empty history)\n",
      "→ Processing JOJK.ST …"
     ]
    },
    {
     "name": "stderr",
     "output_type": "stream",
     "text": [
      "$JOJK.ST: possibly delisted; no price data found  (period=1d) (Yahoo error = \"No data found, symbol may be delisted\")\n"
     ]
    },
    {
     "name": "stdout",
     "output_type": "stream",
     "text": [
      " ✖ no price data (empty history)\n",
      "→ Processing JOSA.ST …"
     ]
    },
    {
     "name": "stderr",
     "output_type": "stream",
     "text": [
      "$JOSA.ST: possibly delisted; no price data found  (period=1d) (Yahoo error = \"No data found, symbol may be delisted\")\n"
     ]
    },
    {
     "name": "stdout",
     "output_type": "stream",
     "text": [
      " ✖ no price data (empty history)\n",
      "→ Processing KLICB.ST …"
     ]
    },
    {
     "name": "stderr",
     "output_type": "stream",
     "text": [
      "$KLICB.ST: possibly delisted; no price data found  (period=1d)\n"
     ]
    },
    {
     "name": "stdout",
     "output_type": "stream",
     "text": [
      " ✖ no price data (empty history)\n",
      "→ Processing LATFB.ST …"
     ]
    },
    {
     "name": "stderr",
     "output_type": "stream",
     "text": [
      "$LATFB.ST: possibly delisted; no price data found  (period=1d) (Yahoo error = \"No data found, symbol may be delisted\")\n"
     ]
    },
    {
     "name": "stdout",
     "output_type": "stream",
     "text": [
      " ✖ no price data (empty history)\n",
      "→ Processing LOVI.ST … ✔ recorded\n",
      "→ Processing QUIA.ST … ✔ recorded\n",
      "→ Processing MEDF.ST …"
     ]
    },
    {
     "name": "stderr",
     "output_type": "stream",
     "text": [
      "$MEDF.ST: possibly delisted; no price data found  (period=1d) (Yahoo error = \"No data found, symbol may be delisted\")\n"
     ]
    },
    {
     "name": "stdout",
     "output_type": "stream",
     "text": [
      " ✖ no price data (empty history)\n",
      "→ Processing MENUB.ST …"
     ]
    },
    {
     "name": "stderr",
     "output_type": "stream",
     "text": [
      "$MENUB.ST: possibly delisted; no price data found  (period=1d) (Yahoo error = \"No data found, symbol may be delisted\")\n"
     ]
    },
    {
     "name": "stdout",
     "output_type": "stream",
     "text": [
      " ✖ no price data (empty history)\n",
      "→ Processing MIHO.ST …"
     ]
    },
    {
     "name": "stderr",
     "output_type": "stream",
     "text": [
      "$MIHO.ST: possibly delisted; no price data found  (period=1d) (Yahoo error = \"No data found, symbol may be delisted\")\n"
     ]
    },
    {
     "name": "stdout",
     "output_type": "stream",
     "text": [
      " ✖ no price data (empty history)\n",
      "→ Processing MODI.ST … ✔ recorded\n",
      "→ Processing MPEN.ST … ✔ recorded\n",
      "→ Processing MPOS.ST … ✔ recorded\n",
      "→ Processing NANEXA.ST … ✔ recorded\n",
      "→ Processing NETG.ST …"
     ]
    },
    {
     "name": "stderr",
     "output_type": "stream",
     "text": [
      "$NETG.ST: possibly delisted; no price data found  (period=1d) (Yahoo error = \"No data found, symbol may be delisted\")\n"
     ]
    },
    {
     "name": "stdout",
     "output_type": "stream",
     "text": [
      " ✖ no price data (empty history)\n",
      "→ Processing NEVIB.ST …"
     ]
    },
    {
     "name": "stderr",
     "output_type": "stream",
     "text": [
      "$NEVIB.ST: possibly delisted; no price data found  (period=1d) (Yahoo error = \"No data found, symbol may be delisted\")\n"
     ]
    },
    {
     "name": "stdout",
     "output_type": "stream",
     "text": [
      " ✖ no price data (empty history)\n",
      "→ Processing NFO.ST … ✔ recorded\n",
      "→ Processing NOVU.ST … ✔ recorded\n",
      "→ Processing OBOYAB.ST …"
     ]
    },
    {
     "name": "stderr",
     "output_type": "stream",
     "text": [
      "$OBOYAB.ST: possibly delisted; no price data found  (period=1d)\n"
     ]
    },
    {
     "name": "stdout",
     "output_type": "stream",
     "text": [
      " ✖ no price data (empty history)\n",
      "→ Processing ORTB.ST …"
     ]
    },
    {
     "name": "stderr",
     "output_type": "stream",
     "text": [
      "$ORTB.ST: possibly delisted; no price data found  (period=1d) (Yahoo error = \"No data found, symbol may be delisted\")\n"
     ]
    },
    {
     "name": "stdout",
     "output_type": "stream",
     "text": [
      " ✖ no price data (empty history)\n",
      "→ Processing PARAN.ST …"
     ]
    },
    {
     "name": "stderr",
     "output_type": "stream",
     "text": [
      "$PARAN.ST: possibly delisted; no price data found  (period=1d) (Yahoo error = \"No data found, symbol may be delisted\")\n"
     ]
    },
    {
     "name": "stdout",
     "output_type": "stream",
     "text": [
      " ✖ no price data (empty history)\n",
      "→ Processing PB.ST …"
     ]
    },
    {
     "name": "stderr",
     "output_type": "stream",
     "text": [
      "$PB.ST: possibly delisted; no price data found  (period=1d) (Yahoo error = \"No data found, symbol may be delisted\")\n"
     ]
    },
    {
     "name": "stdout",
     "output_type": "stream",
     "text": [
      " ✖ no price data (empty history)\n",
      "→ Processing PHAL.ST … ✔ recorded\n",
      "→ Processing PHIG.ST …"
     ]
    },
    {
     "name": "stderr",
     "output_type": "stream",
     "text": [
      "$PHIG.ST: possibly delisted; no price data found  (period=1d) (Yahoo error = \"No data found, symbol may be delisted\")\n"
     ]
    },
    {
     "name": "stdout",
     "output_type": "stream",
     "text": [
      " ✖ no price data (empty history)\n",
      "→ Processing PLUND.ST …"
     ]
    },
    {
     "name": "stderr",
     "output_type": "stream",
     "text": [
      "$PLUND.ST: possibly delisted; no price data found  (period=1d) (Yahoo error = \"No data found, symbol may be delisted\")\n"
     ]
    },
    {
     "name": "stdout",
     "output_type": "stream",
     "text": [
      " ✖ no price data (empty history)\n",
      "→ Processing RAILG.ST …"
     ]
    },
    {
     "name": "stderr",
     "output_type": "stream",
     "text": [
      "$RAILG.ST: possibly delisted; no price data found  (period=1d) (Yahoo error = \"No data found, symbol may be delisted\")\n"
     ]
    },
    {
     "name": "stdout",
     "output_type": "stream",
     "text": [
      " ✖ no price data (empty history)\n",
      "→ Processing RECYB.ST …"
     ]
    },
    {
     "name": "stderr",
     "output_type": "stream",
     "text": [
      "$RECYB.ST: possibly delisted; no price data found  (period=1d) (Yahoo error = \"No data found, symbol may be delisted\")\n"
     ]
    },
    {
     "name": "stdout",
     "output_type": "stream",
     "text": [
      " ✖ no price data (empty history)\n",
      "→ Processing RESPS.ST …"
     ]
    },
    {
     "name": "stderr",
     "output_type": "stream",
     "text": [
      "$RESPS.ST: possibly delisted; no price data found  (period=1d) (Yahoo error = \"No data found, symbol may be delisted\")\n"
     ]
    },
    {
     "name": "stdout",
     "output_type": "stream",
     "text": [
      " ✖ no price data (empty history)\n",
      "→ Processing RLSC.ST …"
     ]
    },
    {
     "name": "stderr",
     "output_type": "stream",
     "text": [
      "$RLSC.ST: possibly delisted; no price data found  (period=1d) (Yahoo error = \"No data found, symbol may be delisted\")\n"
     ]
    },
    {
     "name": "stdout",
     "output_type": "stream",
     "text": [
      " ✖ no price data (empty history)\n",
      "→ Processing SAFES.ST …"
     ]
    },
    {
     "name": "stderr",
     "output_type": "stream",
     "text": [
      "$SAFES.ST: possibly delisted; no price data found  (period=1d) (Yahoo error = \"No data found, symbol may be delisted\")\n"
     ]
    },
    {
     "name": "stdout",
     "output_type": "stream",
     "text": [
      " ✖ no price data (empty history)\n",
      "→ Processing SDET.ST … ✔ recorded\n",
      "→ Processing SEZI.ST … ✔ recorded\n",
      "→ Processing SIVEH.ST …"
     ]
    },
    {
     "name": "stderr",
     "output_type": "stream",
     "text": [
      "$SIVEH.ST: possibly delisted; no price data found  (period=1d) (Yahoo error = \"No data found, symbol may be delisted\")\n"
     ]
    },
    {
     "name": "stdout",
     "output_type": "stream",
     "text": [
      " ✖ no price data (empty history)\n",
      "→ Processing SPAGO.ST … ✔ recorded\n",
      "→ Processing STVAB.ST …"
     ]
    },
    {
     "name": "stderr",
     "output_type": "stream",
     "text": [
      "$STVAB.ST: possibly delisted; no price data found  (period=1d) (Yahoo error = \"No data found, symbol may be delisted\")\n"
     ]
    },
    {
     "name": "stdout",
     "output_type": "stream",
     "text": [
      " ✖ no price data (empty history)\n",
      "→ Processing SYNTH.ST …"
     ]
    },
    {
     "name": "stderr",
     "output_type": "stream",
     "text": [
      "$SYNTH.ST: possibly delisted; no price data found  (period=1d) (Yahoo error = \"No data found, symbol may be delisted\")\n"
     ]
    },
    {
     "name": "stdout",
     "output_type": "stream",
     "text": [
      " ✖ no price data (empty history)\n",
      "→ Processing TAURB.ST …"
     ]
    },
    {
     "name": "stderr",
     "output_type": "stream",
     "text": [
      "$TAURB.ST: possibly delisted; no price data found  (period=1d)\n"
     ]
    },
    {
     "name": "stdout",
     "output_type": "stream",
     "text": [
      " ✖ no price data (empty history)\n",
      "→ Processing TIKS.ST …"
     ]
    },
    {
     "name": "stderr",
     "output_type": "stream",
     "text": [
      "$TIKS.ST: possibly delisted; no price data found  (period=1d) (Yahoo error = \"No data found, symbol may be delisted\")\n"
     ]
    },
    {
     "name": "stdout",
     "output_type": "stream",
     "text": [
      " ✖ no price data (empty history)\n",
      "→ Processing TOURN.ST … ✔ recorded\n",
      "→ Processing TRANSA.ST …"
     ]
    },
    {
     "name": "stderr",
     "output_type": "stream",
     "text": [
      "$TRANSA.ST: possibly delisted; no price data found  (period=1d) (Yahoo error = \"No data found, symbol may be delisted\")\n"
     ]
    },
    {
     "name": "stdout",
     "output_type": "stream",
     "text": [
      " ✖ no price data (empty history)\n",
      "→ Processing TRANSB.ST …"
     ]
    },
    {
     "name": "stderr",
     "output_type": "stream",
     "text": [
      "$TRANSB.ST: possibly delisted; no price data found  (period=1d) (Yahoo error = \"No data found, symbol may be delisted\")\n"
     ]
    },
    {
     "name": "stdout",
     "output_type": "stream",
     "text": [
      " ✖ no price data (empty history)\n",
      "→ Processing TRUEB.ST …"
     ]
    },
    {
     "name": "stderr",
     "output_type": "stream",
     "text": [
      "$TRUEB.ST: possibly delisted; no price data found  (period=1d) (Yahoo error = \"No data found, symbol may be delisted\")\n"
     ]
    },
    {
     "name": "stdout",
     "output_type": "stream",
     "text": [
      " ✖ no price data (empty history)\n",
      "→ Processing WNT.ST … ✔ recorded\n",
      "→ Processing WTGR.ST …"
     ]
    },
    {
     "name": "stderr",
     "output_type": "stream",
     "text": [
      "$WTGR.ST: possibly delisted; no price data found  (period=1d) (Yahoo error = \"No data found, symbol may be delisted\")\n"
     ]
    },
    {
     "name": "stdout",
     "output_type": "stream",
     "text": [
      " ✖ no price data (empty history)\n",
      "→ Processing EXALT.ST … ✔ recorded\n",
      "→ Processing OBDUPREFB.ST …"
     ]
    },
    {
     "name": "stderr",
     "output_type": "stream",
     "text": [
      "$OBDUPREFB.ST: possibly delisted; no price data found  (period=1d) (Yahoo error = \"No data found, symbol may be delisted\")\n"
     ]
    },
    {
     "name": "stdout",
     "output_type": "stream",
     "text": [
      " ✖ no price data (empty history)\n",
      "→ Processing AERWB.ST …"
     ]
    },
    {
     "name": "stderr",
     "output_type": "stream",
     "text": [
      "$AERWB.ST: possibly delisted; no price data found  (period=1d) (Yahoo error = \"No data found, symbol may be delisted\")\n"
     ]
    },
    {
     "name": "stdout",
     "output_type": "stream",
     "text": [
      " ✖ no price data (empty history)\n",
      "→ Processing HOYLU.ST …"
     ]
    },
    {
     "name": "stderr",
     "output_type": "stream",
     "text": [
      "$HOYLU.ST: possibly delisted; no price data found  (period=1d) (Yahoo error = \"No data found, symbol may be delisted\")\n"
     ]
    },
    {
     "name": "stdout",
     "output_type": "stream",
     "text": [
      " ✖ no price data (empty history)\n",
      "→ Processing ONCO.ST … ✔ recorded\n",
      "→ Processing IRLABA.ST …"
     ]
    },
    {
     "name": "stderr",
     "output_type": "stream",
     "text": [
      "$IRLABA.ST: possibly delisted; no price data found  (period=1d)\n"
     ]
    },
    {
     "name": "stdout",
     "output_type": "stream",
     "text": [
      " ✖ no price data (empty history)\n",
      "→ Processing CMHM.ST …"
     ]
    },
    {
     "name": "stderr",
     "output_type": "stream",
     "text": [
      "$CMHM.ST: possibly delisted; no price data found  (period=1d) (Yahoo error = \"No data found, symbol may be delisted\")\n"
     ]
    },
    {
     "name": "stdout",
     "output_type": "stream",
     "text": [
      " ✖ no price data (empty history)\n",
      "→ Processing SARSYS.ST …"
     ]
    },
    {
     "name": "stderr",
     "output_type": "stream",
     "text": [
      "$SARSYS.ST: possibly delisted; no price data found  (period=1d) (Yahoo error = \"No data found, symbol may be delisted\")\n"
     ]
    },
    {
     "name": "stdout",
     "output_type": "stream",
     "text": [
      " ✖ no price data (empty history)\n",
      "→ Processing SPINT.ST …"
     ]
    },
    {
     "name": "stderr",
     "output_type": "stream",
     "text": [
      "$SPINT.ST: possibly delisted; no price data found  (period=1d) (Yahoo error = \"No data found, symbol may be delisted\")\n"
     ]
    },
    {
     "name": "stdout",
     "output_type": "stream",
     "text": [
      " ✖ no price data (empty history)\n",
      "→ Processing HEMC.ST …"
     ]
    },
    {
     "name": "stderr",
     "output_type": "stream",
     "text": [
      "$HEMC.ST: possibly delisted; no price data found  (period=1d) (Yahoo error = \"No data found, symbol may be delisted\")\n"
     ]
    },
    {
     "name": "stdout",
     "output_type": "stream",
     "text": [
      " ✖ no price data (empty history)\n",
      "→ Processing SAMTB.ST …"
     ]
    },
    {
     "name": "stderr",
     "output_type": "stream",
     "text": [
      "$SAMTB.ST: possibly delisted; no price data found  (period=1d) (Yahoo error = \"No data found, symbol may be delisted\")\n"
     ]
    },
    {
     "name": "stdout",
     "output_type": "stream",
     "text": [
      " ✖ no price data (empty history)\n",
      "→ Processing ACOS.ST …"
     ]
    },
    {
     "name": "stderr",
     "output_type": "stream",
     "text": [
      "$ACOS.ST: possibly delisted; no price data found  (period=1d) (Yahoo error = \"No data found, symbol may be delisted\")\n"
     ]
    },
    {
     "name": "stdout",
     "output_type": "stream",
     "text": [
      " ✖ no price data (empty history)\n",
      "→ Processing INIT.ST … ✔ recorded\n",
      "→ Processing CARE.ST … ✔ recorded\n",
      "→ Processing CHRO.ST …"
     ]
    },
    {
     "name": "stderr",
     "output_type": "stream",
     "text": [
      "$CHRO.ST: possibly delisted; no price data found  (period=1d) (Yahoo error = \"No data found, symbol may be delisted\")\n"
     ]
    },
    {
     "name": "stdout",
     "output_type": "stream",
     "text": [
      " ✖ no price data (empty history)\n",
      "→ Processing EATG.ST … ✔ recorded\n",
      "→ Processing ISR.ST …"
     ]
    },
    {
     "name": "stderr",
     "output_type": "stream",
     "text": [
      "$ISR.ST: possibly delisted; no price data found  (period=1d) (Yahoo error = \"No data found, symbol may be delisted\")\n"
     ]
    },
    {
     "name": "stdout",
     "output_type": "stream",
     "text": [
      " ✖ no price data (empty history)\n",
      "→ Processing MIPS.ST … ✔ recorded\n",
      "→ Processing UNIBAP.ST … ✔ recorded\n",
      "→ Processing XAVIB.ST …"
     ]
    },
    {
     "name": "stderr",
     "output_type": "stream",
     "text": [
      "$XAVIB.ST: possibly delisted; no price data found  (period=1d) (Yahoo error = \"No data found, symbol may be delisted\")\n"
     ]
    },
    {
     "name": "stdout",
     "output_type": "stream",
     "text": [
      " ✖ no price data (empty history)\n",
      "→ Processing AMBEA.ST … ✔ recorded\n",
      "→ Processing BIOVICB.ST …"
     ]
    },
    {
     "name": "stderr",
     "output_type": "stream",
     "text": [
      "$BIOVICB.ST: possibly delisted; no price data found  (period=1d) (Yahoo error = \"No data found, symbol may be delisted\")\n"
     ]
    },
    {
     "name": "stdout",
     "output_type": "stream",
     "text": [
      " ✖ no price data (empty history)\n",
      "→ Processing ISOFOL.ST … ✔ recorded\n",
      "→ Processing PRLD.ST … ✔ recorded\n",
      "→ Processing ATIC.ST … ✔ recorded\n",
      "→ Processing FMMB.ST …"
     ]
    },
    {
     "name": "stderr",
     "output_type": "stream",
     "text": [
      "$FMMB.ST: possibly delisted; no price data found  (period=1d)\n"
     ]
    },
    {
     "name": "stdout",
     "output_type": "stream",
     "text": [
      " ✖ no price data (empty history)\n",
      "→ Processing IVACC.ST … ✔ recorded\n",
      "→ Processing SONE.ST … ✔ recorded\n",
      "→ Processing SSM.ST …"
     ]
    },
    {
     "name": "stderr",
     "output_type": "stream",
     "text": [
      "$SSM.ST: possibly delisted; no price data found  (period=1d) (Yahoo error = \"No data found, symbol may be delisted\")\n"
     ]
    },
    {
     "name": "stdout",
     "output_type": "stream",
     "text": [
      " ✖ no price data (empty history)\n",
      "→ Processing TANGI.ST … ✔ recorded\n",
      "→ Processing ANNX.ST … ✔ recorded\n",
      "→ Processing ACUC.ST … ✔ recorded\n",
      "→ Processing IPCOR.ST …"
     ]
    },
    {
     "name": "stderr",
     "output_type": "stream",
     "text": [
      "$IPCOR.ST: possibly delisted; no price data found  (period=1d) (Yahoo error = \"No data found, symbol may be delisted\")\n"
     ]
    },
    {
     "name": "stdout",
     "output_type": "stream",
     "text": [
      " ✖ no price data (empty history)\n",
      "→ Processing MATRA.ST …"
     ]
    },
    {
     "name": "stderr",
     "output_type": "stream",
     "text": [
      "$MATRA.ST: possibly delisted; no price data found  (period=1d) (Yahoo error = \"No data found, symbol may be delisted\")\n"
     ]
    },
    {
     "name": "stdout",
     "output_type": "stream",
     "text": [
      " ✖ no price data (empty history)\n",
      "→ Processing XMR.ST … ✔ recorded\n",
      "→ Processing COMPIT.ST …"
     ]
    },
    {
     "name": "stderr",
     "output_type": "stream",
     "text": [
      "$COMPIT.ST: possibly delisted; no price data found  (period=1d) (Yahoo error = \"No data found, symbol may be delisted\")\n"
     ]
    },
    {
     "name": "stdout",
     "output_type": "stream",
     "text": [
      " ✖ no price data (empty history)\n",
      "→ Processing RENT.ST … ✔ recorded\n",
      "→ Processing BUSER.ST … ✔ recorded\n",
      "→ Processing LOGS.ST …"
     ]
    },
    {
     "name": "stderr",
     "output_type": "stream",
     "text": [
      "$LOGS.ST: possibly delisted; no price data found  (period=1d) (Yahoo error = \"No data found, symbol may be delisted\")\n"
     ]
    },
    {
     "name": "stdout",
     "output_type": "stream",
     "text": [
      " ✖ no price data (empty history)\n",
      "→ Processing MANTEX.ST … ✔ recorded\n",
      "→ Processing INSTAL.ST … ✔ recorded\n",
      "→ Processing INTEGB.ST …"
     ]
    },
    {
     "name": "stderr",
     "output_type": "stream",
     "text": [
      "$INTEGB.ST: possibly delisted; no price data found  (period=1d) (Yahoo error = \"No data found, symbol may be delisted\")\n"
     ]
    },
    {
     "name": "stdout",
     "output_type": "stream",
     "text": [
      " ✖ no price data (empty history)\n",
      "→ Processing SDIPB.ST …"
     ]
    },
    {
     "name": "stderr",
     "output_type": "stream",
     "text": [
      "$SDIPB.ST: possibly delisted; no price data found  (period=1d)\n"
     ]
    },
    {
     "name": "stdout",
     "output_type": "stream",
     "text": [
      " ✖ no price data (empty history)\n",
      "→ Processing SECIT.ST …"
     ]
    },
    {
     "name": "stderr",
     "output_type": "stream",
     "text": [
      "$SECIT.ST: possibly delisted; no price data found  (period=1d) (Yahoo error = \"No data found, symbol may be delisted\")\n"
     ]
    },
    {
     "name": "stdout",
     "output_type": "stream",
     "text": [
      " ✖ no price data (empty history)\n",
      "→ Processing BIOSE.ST …"
     ]
    },
    {
     "name": "stderr",
     "output_type": "stream",
     "text": [
      "$BIOSE.ST: possibly delisted; no price data found  (period=1d) (Yahoo error = \"No data found, symbol may be delisted\")\n"
     ]
    },
    {
     "name": "stdout",
     "output_type": "stream",
     "text": [
      " ✖ no price data (empty history)\n",
      "→ Processing MCOVB.ST …"
     ]
    },
    {
     "name": "stderr",
     "output_type": "stream",
     "text": [
      "$MCOVB.ST: possibly delisted; no price data found  (period=1d)\n"
     ]
    },
    {
     "name": "stdout",
     "output_type": "stream",
     "text": [
      " ✖ no price data (empty history)\n",
      "→ Processing MPLUS.ST …"
     ]
    },
    {
     "name": "stderr",
     "output_type": "stream",
     "text": [
      "$MPLUS.ST: possibly delisted; no price data found  (period=1d) (Yahoo error = \"No data found, symbol may be delisted\")\n"
     ]
    },
    {
     "name": "stdout",
     "output_type": "stream",
     "text": [
      " ✖ no price data (empty history)\n",
      "→ Processing MTRS.ST … ✔ recorded\n",
      "→ Processing ABIGR.ST …"
     ]
    },
    {
     "name": "stderr",
     "output_type": "stream",
     "text": [
      "$ABIGR.ST: possibly delisted; no price data found  (period=1d) (Yahoo error = \"No data found, symbol may be delisted\")\n"
     ]
    },
    {
     "name": "stdout",
     "output_type": "stream",
     "text": [
      " ✖ no price data (empty history)\n",
      "→ Processing AYIMAB.ST …"
     ]
    },
    {
     "name": "stderr",
     "output_type": "stream",
     "text": [
      "$AYIMAB.ST: possibly delisted; no price data found  (period=1d) (Yahoo error = \"No data found, symbol may be delisted\")\n"
     ]
    },
    {
     "name": "stdout",
     "output_type": "stream",
     "text": [
      " ✖ no price data (empty history)\n",
      "→ Processing BOOZT.ST … ✔ recorded\n",
      "→ Processing TERRNTB.ST …"
     ]
    },
    {
     "name": "stderr",
     "output_type": "stream",
     "text": [
      "$TERRNTB.ST: possibly delisted; no price data found  (period=1d) (Yahoo error = \"No data found, symbol may be delisted\")\n"
     ]
    },
    {
     "name": "stdout",
     "output_type": "stream",
     "text": [
      " ✖ no price data (empty history)\n",
      "→ Processing NTGRP.ST …"
     ]
    },
    {
     "name": "stderr",
     "output_type": "stream",
     "text": [
      "$NTGRP.ST: possibly delisted; no price data found  (period=1d) (Yahoo error = \"No data found, symbol may be delisted\")\n"
     ]
    },
    {
     "name": "stdout",
     "output_type": "stream",
     "text": [
      " ✖ no price data (empty history)\n",
      "→ Processing ESSITYA.ST …"
     ]
    },
    {
     "name": "stderr",
     "output_type": "stream",
     "text": [
      "$ESSITYA.ST: possibly delisted; no price data found  (period=1d) (Yahoo error = \"No data found, symbol may be delisted\")\n"
     ]
    },
    {
     "name": "stdout",
     "output_type": "stream",
     "text": [
      " ✖ no price data (empty history)\n",
      "→ Processing ESSITYB.ST …"
     ]
    },
    {
     "name": "stderr",
     "output_type": "stream",
     "text": [
      "$ESSITYB.ST: possibly delisted; no price data found  (period=1d) (Yahoo error = \"No data found, symbol may be delisted\")\n"
     ]
    },
    {
     "name": "stdout",
     "output_type": "stream",
     "text": [
      " ✖ no price data (empty history)\n",
      "→ Processing BONEX.ST … ✔ recorded\n",
      "→ Processing MMGRB.ST …"
     ]
    },
    {
     "name": "stderr",
     "output_type": "stream",
     "text": [
      "$MMGRB.ST: possibly delisted; no price data found  (period=1d)\n"
     ]
    },
    {
     "name": "stdout",
     "output_type": "stream",
     "text": [
      " ✖ no price data (empty history)\n",
      "→ Processing LUMIN.ST …"
     ]
    },
    {
     "name": "stderr",
     "output_type": "stream",
     "text": [
      "$LUMIN.ST: possibly delisted; no price data found  (period=1d) (Yahoo error = \"No data found, symbol may be delisted\")\n"
     ]
    },
    {
     "name": "stdout",
     "output_type": "stream",
     "text": [
      " ✖ no price data (empty history)\n",
      "→ Processing ENERS.ST … ✔ recorded\n",
      "→ Processing NITRO.ST … ✔ recorded\n",
      "→ Processing QUART.ST … ✔ recorded\n",
      "→ Processing ZAPLOX.ST … ✔ recorded\n",
      "→ Processing PAX.ST … ✔ recorded\n",
      "→ Processing TCC.ST …"
     ]
    },
    {
     "name": "stderr",
     "output_type": "stream",
     "text": [
      "$TCC.ST: possibly delisted; no price data found  (period=1d) (Yahoo error = \"No data found, symbol may be delisted\")\n"
     ]
    },
    {
     "name": "stdout",
     "output_type": "stream",
     "text": [
      " ✖ no price data (empty history)\n",
      "→ Processing TRIANB.ST …"
     ]
    },
    {
     "name": "stderr",
     "output_type": "stream",
     "text": [
      "$TRIANB.ST: possibly delisted; no price data found  (period=1d)\n"
     ]
    },
    {
     "name": "stdout",
     "output_type": "stream",
     "text": [
      " ✖ no price data (empty history)\n",
      "→ Processing SEDANA.ST … ✔ recorded\n",
      "→ Processing SUSW.ST …"
     ]
    },
    {
     "name": "stderr",
     "output_type": "stream",
     "text": [
      "$SUSW.ST: possibly delisted; no price data found  (period=1d) (Yahoo error = \"No data found, symbol may be delisted\")\n"
     ]
    },
    {
     "name": "stdout",
     "output_type": "stream",
     "text": [
      " ✖ no price data (empty history)\n",
      "→ Processing CIMCO.ST …"
     ]
    },
    {
     "name": "stderr",
     "output_type": "stream",
     "text": [
      "$CIMCO.ST: possibly delisted; no price data found  (period=1d) (Yahoo error = \"No data found, symbol may be delisted\")\n"
     ]
    },
    {
     "name": "stdout",
     "output_type": "stream",
     "text": [
      " ✖ no price data (empty history)\n",
      "→ Processing ASPIRE.ST …"
     ]
    },
    {
     "name": "stderr",
     "output_type": "stream",
     "text": [
      "$ASPIRE.ST: possibly delisted; no price data found  (period=1d) (Yahoo error = \"No data found, symbol may be delisted\")\n"
     ]
    },
    {
     "name": "stdout",
     "output_type": "stream",
     "text": [
      " ✖ no price data (empty history)\n",
      "→ Processing PROMO.ST …"
     ]
    },
    {
     "name": "stderr",
     "output_type": "stream",
     "text": [
      "$PROMO.ST: possibly delisted; no price data found  (period=1d) (Yahoo error = \"No data found, symbol may be delisted\")\n"
     ]
    },
    {
     "name": "stdout",
     "output_type": "stream",
     "text": [
      " ✖ no price data (empty history)\n",
      "→ Processing URBIT.ST …"
     ]
    },
    {
     "name": "stderr",
     "output_type": "stream",
     "text": [
      "$URBIT.ST: possibly delisted; no price data found  (period=1d)\n"
     ]
    },
    {
     "name": "stdout",
     "output_type": "stream",
     "text": [
      " ✖ no price data (empty history)\n",
      "→ Processing REALFI.ST … ✔ recorded\n",
      "→ Processing PANION.ST …"
     ]
    },
    {
     "name": "stderr",
     "output_type": "stream",
     "text": [
      "$PANION.ST: possibly delisted; no price data found  (period=1d) (Yahoo error = \"No data found, symbol may be delisted\")\n"
     ]
    },
    {
     "name": "stdout",
     "output_type": "stream",
     "text": [
      " ✖ no price data (empty history)\n",
      "→ Processing IAPO.ST …"
     ]
    },
    {
     "name": "stderr",
     "output_type": "stream",
     "text": [
      "$IAPO.ST: possibly delisted; no price data found  (period=1d) (Yahoo error = \"No data found, symbol may be delisted\")\n"
     ]
    },
    {
     "name": "stdout",
     "output_type": "stream",
     "text": [
      " ✖ no price data (empty history)\n",
      "→ Processing OMNIC.ST …"
     ]
    },
    {
     "name": "stderr",
     "output_type": "stream",
     "text": [
      "$OMNIC.ST: possibly delisted; no price data found  (period=1d) (Yahoo error = \"No data found, symbol may be delisted\")\n"
     ]
    },
    {
     "name": "stdout",
     "output_type": "stream",
     "text": [
      " ✖ no price data (empty history)\n",
      "→ Processing NETMB.ST …"
     ]
    },
    {
     "name": "stderr",
     "output_type": "stream",
     "text": [
      "$NETMB.ST: possibly delisted; no price data found  (period=1d) (Yahoo error = \"No data found, symbol may be delisted\")\n"
     ]
    },
    {
     "name": "stdout",
     "output_type": "stream",
     "text": [
      " ✖ no price data (empty history)\n",
      "→ Processing SDSY.ST …"
     ]
    },
    {
     "name": "stderr",
     "output_type": "stream",
     "text": [
      "$SDSY.ST: possibly delisted; no price data found  (period=1d) (Yahoo error = \"No data found, symbol may be delisted\")\n"
     ]
    },
    {
     "name": "stdout",
     "output_type": "stream",
     "text": [
      " ✖ no price data (empty history)\n",
      "→ Processing ENRAD.ST … ✔ recorded\n",
      "→ Processing SECS.ST …"
     ]
    },
    {
     "name": "stderr",
     "output_type": "stream",
     "text": [
      "$SECS.ST: possibly delisted; no price data found  (period=1d) (Yahoo error = \"No data found, symbol may be delisted\")\n"
     ]
    },
    {
     "name": "stdout",
     "output_type": "stream",
     "text": [
      " ✖ no price data (empty history)\n",
      "→ Processing N55.ST …"
     ]
    },
    {
     "name": "stderr",
     "output_type": "stream",
     "text": [
      "$N55.ST: possibly delisted; no price data found  (period=1d) (Yahoo error = \"No data found, symbol may be delisted\")\n"
     ]
    },
    {
     "name": "stdout",
     "output_type": "stream",
     "text": [
      " ✖ no price data (empty history)\n",
      "→ Processing NXTCL.ST … ✔ recorded\n",
      "→ Processing SENZA.ST … ✔ recorded\n",
      "→ Processing ISAB.ST … ✔ recorded\n",
      "→ Processing XSPRAY.ST … ✔ recorded\n",
      "→ Processing BALCO.ST … ✔ recorded\n",
      "→ Processing HANDI.ST …"
     ]
    },
    {
     "name": "stderr",
     "output_type": "stream",
     "text": [
      "$HANDI.ST: possibly delisted; no price data found  (period=1d) (Yahoo error = \"No data found, symbol may be delisted\")\n"
     ]
    },
    {
     "name": "stdout",
     "output_type": "stream",
     "text": [
      " ✖ no price data (empty history)\n",
      "→ Processing BIOAB.ST …"
     ]
    },
    {
     "name": "stderr",
     "output_type": "stream",
     "text": [
      "$BIOAB.ST: possibly delisted; no price data found  (period=1d)\n"
     ]
    },
    {
     "name": "stdout",
     "output_type": "stream",
     "text": [
      " ✖ no price data (empty history)\n",
      "→ Processing FRAMB.ST …"
     ]
    },
    {
     "name": "stderr",
     "output_type": "stream",
     "text": [
      "$FRAMB.ST: possibly delisted; no price data found  (period=1d) (Yahoo error = \"No data found, symbol may be delisted\")\n"
     ]
    },
    {
     "name": "stdout",
     "output_type": "stream",
     "text": [
      " ✖ no price data (empty history)\n",
      "→ Processing SBBPREF.ST …"
     ]
    },
    {
     "name": "stderr",
     "output_type": "stream",
     "text": [
      "$SBBPREF.ST: possibly delisted; no price data found  (period=1d) (Yahoo error = \"No data found, symbol may be delisted\")\n"
     ]
    },
    {
     "name": "stdout",
     "output_type": "stream",
     "text": [
      " ✖ no price data (empty history)\n",
      "→ Processing CLIMEB.ST …"
     ]
    },
    {
     "name": "stderr",
     "output_type": "stream",
     "text": [
      "$CLIMEB.ST: possibly delisted; no price data found  (period=1d)\n"
     ]
    },
    {
     "name": "stdout",
     "output_type": "stream",
     "text": [
      " ✖ no price data (empty history)\n",
      "→ Processing QIIWI.ST … ✔ recorded\n",
      "→ Processing GLOBAL.ST …"
     ]
    },
    {
     "name": "stderr",
     "output_type": "stream",
     "text": [
      "$GLOBAL.ST: possibly delisted; no price data found  (period=1d) (Yahoo error = \"No data found, symbol may be delisted\")\n"
     ]
    },
    {
     "name": "stdout",
     "output_type": "stream",
     "text": [
      " ✖ no price data (empty history)\n",
      "→ Processing LOGIST.ST … ✔ recorded\n",
      "→ Processing ESEN.ST …"
     ]
    },
    {
     "name": "stderr",
     "output_type": "stream",
     "text": [
      "$ESEN.ST: possibly delisted; no price data found  (period=1d) (Yahoo error = \"No data found, symbol may be delisted\")\n"
     ]
    },
    {
     "name": "stdout",
     "output_type": "stream",
     "text": [
      " ✖ no price data (empty history)\n",
      "→ Processing FNMA.ST …"
     ]
    },
    {
     "name": "stderr",
     "output_type": "stream",
     "text": [
      "$FNMA.ST: possibly delisted; no price data found  (period=1d) (Yahoo error = \"No data found, symbol may be delisted\")\n"
     ]
    },
    {
     "name": "stdout",
     "output_type": "stream",
     "text": [
      " ✖ no price data (empty history)\n",
      "→ Processing BIBB.ST … ✔ recorded\n",
      "→ Processing 3KRI.ST …"
     ]
    },
    {
     "name": "stderr",
     "output_type": "stream",
     "text": [
      "$3KRI.ST: possibly delisted; no price data found  (period=1d) (Yahoo error = \"No data found, symbol may be delisted\")\n"
     ]
    },
    {
     "name": "stdout",
     "output_type": "stream",
     "text": [
      " ✖ no price data (empty history)\n",
      "→ Processing ASAIN.ST …"
     ]
    },
    {
     "name": "stderr",
     "output_type": "stream",
     "text": [
      "$ASAIN.ST: possibly delisted; no price data found  (period=1d) (Yahoo error = \"No data found, symbol may be delisted\")\n"
     ]
    },
    {
     "name": "stdout",
     "output_type": "stream",
     "text": [
      " ✖ no price data (empty history)\n",
      "→ Processing IRRAS.ST …"
     ]
    },
    {
     "name": "stderr",
     "output_type": "stream",
     "text": [
      "$IRRAS.ST: possibly delisted; no price data found  (period=1d) (Yahoo error = \"No data found, symbol may be delisted\")\n"
     ]
    },
    {
     "name": "stdout",
     "output_type": "stream",
     "text": [
      " ✖ no price data (empty history)\n",
      "→ Processing 2CUREX.ST … ✔ recorded\n",
      "→ Processing AWRD.ST … ✔ recorded\n",
      "→ Processing TSEC.ST … ✔ recorded\n",
      "→ Processing DEVPB.ST …"
     ]
    },
    {
     "name": "stderr",
     "output_type": "stream",
     "text": [
      "$DEVPB.ST: possibly delisted; no price data found  (period=1d) (Yahoo error = \"No data found, symbol may be delisted\")\n"
     ]
    },
    {
     "name": "stdout",
     "output_type": "stream",
     "text": [
      " ✖ no price data (empty history)\n",
      "→ Processing MAGIN.ST …"
     ]
    },
    {
     "name": "stderr",
     "output_type": "stream",
     "text": [
      "$MAGIN.ST: possibly delisted; no price data found  (period=1d) (Yahoo error = \"No data found, symbol may be delisted\")\n"
     ]
    },
    {
     "name": "stdout",
     "output_type": "stream",
     "text": [
      " ✖ no price data (empty history)\n",
      "→ Processing ACCON.ST … ✔ recorded\n",
      "→ Processing SCOUT.ST … ✔ recorded\n",
      "→ Processing ARJOB.ST …"
     ]
    },
    {
     "name": "stderr",
     "output_type": "stream",
     "text": [
      "$ARJOB.ST: possibly delisted; no price data found  (period=1d)\n"
     ]
    },
    {
     "name": "stdout",
     "output_type": "stream",
     "text": [
      " ✖ no price data (empty history)\n",
      "→ Processing LYKOA.ST …"
     ]
    },
    {
     "name": "stderr",
     "output_type": "stream",
     "text": [
      "$LYKOA.ST: possibly delisted; no price data found  (period=1d) (Yahoo error = \"No data found, symbol may be delisted\")\n"
     ]
    },
    {
     "name": "stdout",
     "output_type": "stream",
     "text": [
      " ✖ no price data (empty history)\n",
      "→ Processing ATVEXAB.ST …"
     ]
    },
    {
     "name": "stderr",
     "output_type": "stream",
     "text": [
      "$ATVEXAB.ST: possibly delisted; no price data found  (period=1d) (Yahoo error = \"No data found, symbol may be delisted\")\n"
     ]
    },
    {
     "name": "stdout",
     "output_type": "stream",
     "text": [
      " ✖ no price data (empty history)\n",
      "→ Processing COREB.ST …"
     ]
    },
    {
     "name": "stderr",
     "output_type": "stream",
     "text": [
      "$COREB.ST: possibly delisted; no price data found  (period=1d) (Yahoo error = \"No data found, symbol may be delisted\")\n"
     ]
    },
    {
     "name": "stdout",
     "output_type": "stream",
     "text": [
      " ✖ no price data (empty history)\n",
      "→ Processing BIOWKS.ST … ✔ recorded\n",
      "→ Processing FLEXQ.ST … ✔ recorded\n",
      "→ Processing HDWB.ST …"
     ]
    },
    {
     "name": "stderr",
     "output_type": "stream",
     "text": [
      "$HDWB.ST: possibly delisted; no price data found  (period=1d) (Yahoo error = \"No data found, symbol may be delisted\")\n"
     ]
    },
    {
     "name": "stdout",
     "output_type": "stream",
     "text": [
      " ✖ no price data (empty history)\n",
      "→ Processing AKELPREF.ST …"
     ]
    },
    {
     "name": "stderr",
     "output_type": "stream",
     "text": [
      "$AKELPREF.ST: possibly delisted; no price data found  (period=1d) (Yahoo error = \"No data found, symbol may be delisted\")\n"
     ]
    },
    {
     "name": "stdout",
     "output_type": "stream",
     "text": [
      " ✖ no price data (empty history)\n",
      "→ Processing LEMSE.ST … ✔ recorded\n",
      "→ Processing LIVIH.ST …"
     ]
    },
    {
     "name": "stderr",
     "output_type": "stream",
     "text": [
      "$LIVIH.ST: possibly delisted; no price data found  (period=1d) (Yahoo error = \"No data found, symbol may be delisted\")\n"
     ]
    },
    {
     "name": "stdout",
     "output_type": "stream",
     "text": [
      " ✖ no price data (empty history)\n",
      "→ Processing BONES.ST …"
     ]
    },
    {
     "name": "stderr",
     "output_type": "stream",
     "text": [
      "$BONES.ST: possibly delisted; no price data found  (period=1d) (Yahoo error = \"No data found, symbol may be delisted\")\n"
     ]
    },
    {
     "name": "stdout",
     "output_type": "stream",
     "text": [
      " ✖ no price data (empty history)\n",
      "→ Processing CIBUS.ST … ✔ recorded\n",
      "→ Processing NP3PREF.ST …"
     ]
    },
    {
     "name": "stderr",
     "output_type": "stream",
     "text": [
      "$NP3PREF.ST: possibly delisted; no price data found  (period=1d) (Yahoo error = \"No data found, symbol may be delisted\")\n"
     ]
    },
    {
     "name": "stdout",
     "output_type": "stream",
     "text": [
      " ✖ no price data (empty history)\n",
      "→ Processing ZUTEC.ST …"
     ]
    },
    {
     "name": "stderr",
     "output_type": "stream",
     "text": [
      "$ZUTEC.ST: possibly delisted; no price data found  (period=1d) (Yahoo error = \"No data found, symbol may be delisted\")\n"
     ]
    },
    {
     "name": "stdout",
     "output_type": "stream",
     "text": [
      " ✖ no price data (empty history)\n",
      "→ Processing GREENL.ST …"
     ]
    },
    {
     "name": "stderr",
     "output_type": "stream",
     "text": [
      "$GREENL.ST: possibly delisted; no price data found  (period=1d) (Yahoo error = \"No data found, symbol may be delisted\")\n"
     ]
    },
    {
     "name": "stdout",
     "output_type": "stream",
     "text": [
      " ✖ no price data (empty history)\n",
      "→ Processing BHGF.ST …"
     ]
    },
    {
     "name": "stderr",
     "output_type": "stream",
     "text": [
      "$BHGF.ST: possibly delisted; no price data found  (period=1d) (Yahoo error = \"No data found, symbol may be delisted\")\n"
     ]
    },
    {
     "name": "stdout",
     "output_type": "stream",
     "text": [
      " ✖ no price data (empty history)\n",
      "→ Processing ICO.ST … ✔ recorded\n",
      "→ Processing FLUIC.ST …"
     ]
    },
    {
     "name": "stderr",
     "output_type": "stream",
     "text": [
      "$FLUIC.ST: possibly delisted; no price data found  (period=1d) (Yahoo error = \"No data found, symbol may be delisted\")\n"
     ]
    },
    {
     "name": "stdout",
     "output_type": "stream",
     "text": [
      " ✖ no price data (empty history)\n",
      "→ Processing INFREA.ST … ✔ recorded\n",
      "→ Processing AECO.ST …"
     ]
    },
    {
     "name": "stderr",
     "output_type": "stream",
     "text": [
      "$AECO.ST: possibly delisted; no price data found  (period=1d) (Yahoo error = \"No data found, symbol may be delisted\")\n"
     ]
    },
    {
     "name": "stdout",
     "output_type": "stream",
     "text": [
      " ✖ no price data (empty history)\n",
      "→ Processing OVZON.ST … ✔ recorded\n",
      "→ Processing JDT.ST … ✔ recorded\n",
      "→ Processing ITECH.ST … ✔ recorded\n",
      "→ Processing NCAB.ST … ✔ recorded\n",
      "→ Processing BETCO.ST … ✔ recorded\n",
      "→ Processing FLEXM.ST … ✔ recorded\n",
      "→ Processing ELKNOK.ST …"
     ]
    },
    {
     "name": "stderr",
     "output_type": "stream",
     "text": [
      "$ELKNOK.ST: possibly delisted; no price data found  (period=1d) (Yahoo error = \"No data found, symbol may be delisted\")\n"
     ]
    },
    {
     "name": "stdout",
     "output_type": "stream",
     "text": [
      " ✖ no price data (empty history)\n",
      "→ Processing EPIRB.ST …"
     ]
    },
    {
     "name": "stderr",
     "output_type": "stream",
     "text": [
      "$EPIRB.ST: possibly delisted; no price data found  (period=1d) (Yahoo error = \"No data found, symbol may be delisted\")\n"
     ]
    },
    {
     "name": "stdout",
     "output_type": "stream",
     "text": [
      " ✖ no price data (empty history)\n",
      "→ Processing EPIRA.ST …"
     ]
    },
    {
     "name": "stderr",
     "output_type": "stream",
     "text": [
      "$EPIRA.ST: possibly delisted; no price data found  (period=1d) (Yahoo error = \"No data found, symbol may be delisted\")\n"
     ]
    },
    {
     "name": "stdout",
     "output_type": "stream",
     "text": [
      " ✖ no price data (empty history)\n",
      "→ Processing PENGB.ST …"
     ]
    },
    {
     "name": "stderr",
     "output_type": "stream",
     "text": [
      "$PENGB.ST: possibly delisted; no price data found  (period=1d) (Yahoo error = \"No data found, symbol may be delisted\")\n"
     ]
    },
    {
     "name": "stdout",
     "output_type": "stream",
     "text": [
      " ✖ no price data (empty history)\n",
      "→ Processing MIDSU.ST …"
     ]
    },
    {
     "name": "stderr",
     "output_type": "stream",
     "text": [
      "$MIDSU.ST: possibly delisted; no price data found  (period=1d) (Yahoo error = \"No data found, symbol may be delisted\")\n"
     ]
    },
    {
     "name": "stdout",
     "output_type": "stream",
     "text": [
      " ✖ no price data (empty history)\n",
      "→ Processing CALTX.ST …"
     ]
    },
    {
     "name": "stderr",
     "output_type": "stream",
     "text": [
      "$CALTX.ST: possibly delisted; no price data found  (period=1d) (Yahoo error = \"No data found, symbol may be delisted\")\n"
     ]
    },
    {
     "name": "stdout",
     "output_type": "stream",
     "text": [
      " ✖ no price data (empty history)\n",
      "→ Processing RAKE.ST … ✔ recorded\n",
      "→ Processing RPLAN.ST … ✔ recorded\n",
      "→ Processing VNESDB.ST …"
     ]
    },
    {
     "name": "stderr",
     "output_type": "stream",
     "text": [
      "$VNESDB.ST: possibly delisted; no price data found  (period=1d) (Yahoo error = \"No data found, symbol may be delisted\")\n"
     ]
    },
    {
     "name": "stdout",
     "output_type": "stream",
     "text": [
      " ✖ no price data (empty history)\n",
      "→ Processing TOUCH.ST … ✔ recorded\n",
      "→ Processing ASAPH.ST …"
     ]
    },
    {
     "name": "stderr",
     "output_type": "stream",
     "text": [
      "$ASAPH.ST: possibly delisted; no price data found  (period=1d) (Yahoo error = \"No data found, symbol may be delisted\")\n"
     ]
    },
    {
     "name": "stdout",
     "output_type": "stream",
     "text": [
      " ✖ no price data (empty history)\n",
      "→ Processing NIO.ST … ✔ recorded\n",
      "→ Processing INFRAC.ST …"
     ]
    },
    {
     "name": "stderr",
     "output_type": "stream",
     "text": [
      "$INFRAC.ST: possibly delisted; no price data found  (period=1d) (Yahoo error = \"No data found, symbol may be delisted\")\n"
     ]
    },
    {
     "name": "stdout",
     "output_type": "stream",
     "text": [
      " ✖ no price data (empty history)\n",
      "→ Processing TOAD.ST …"
     ]
    },
    {
     "name": "stderr",
     "output_type": "stream",
     "text": [
      "$TOAD.ST: possibly delisted; no price data found  (period=1d) (Yahoo error = \"No data found, symbol may be delisted\")\n"
     ]
    },
    {
     "name": "stdout",
     "output_type": "stream",
     "text": [
      " ✖ no price data (empty history)\n",
      "→ Processing 247.ST … ✔ recorded\n",
      "→ Processing OBST.ST …"
     ]
    },
    {
     "name": "stderr",
     "output_type": "stream",
     "text": [
      "$OBST.ST: possibly delisted; no price data found  (period=1d) (Yahoo error = \"No data found, symbol may be delisted\")\n"
     ]
    },
    {
     "name": "stdout",
     "output_type": "stream",
     "text": [
      " ✖ no price data (empty history)\n",
      "→ Processing STENO.ST …"
     ]
    },
    {
     "name": "stderr",
     "output_type": "stream",
     "text": [
      "$STENO.ST: possibly delisted; no price data found  (period=1d) (Yahoo error = \"No data found, symbol may be delisted\")\n"
     ]
    },
    {
     "name": "stdout",
     "output_type": "stream",
     "text": [
      " ✖ no price data (empty history)\n",
      "→ Processing AXOLOT.ST … ✔ recorded\n",
      "→ Processing NYFO.ST …"
     ]
    },
    {
     "name": "stderr",
     "output_type": "stream",
     "text": [
      "$NYFO.ST: possibly delisted; no price data found  (period=1d) (Yahoo error = \"No data found, symbol may be delisted\")\n"
     ]
    },
    {
     "name": "stdout",
     "output_type": "stream",
     "text": [
      " ✖ no price data (empty history)\n",
      "→ Processing AROSPREF.ST …"
     ]
    },
    {
     "name": "stderr",
     "output_type": "stream",
     "text": [
      "$AROSPREF.ST: possibly delisted; no price data found  (period=1d) (Yahoo error = \"No data found, symbol may be delisted\")\n"
     ]
    },
    {
     "name": "stdout",
     "output_type": "stream",
     "text": [
      " ✖ no price data (empty history)\n",
      "→ Processing S2ME.ST …"
     ]
    },
    {
     "name": "stderr",
     "output_type": "stream",
     "text": [
      "$S2ME.ST: possibly delisted; no price data found  (period=1d) (Yahoo error = \"No data found, symbol may be delisted\")\n"
     ]
    },
    {
     "name": "stdout",
     "output_type": "stream",
     "text": [
      " ✖ no price data (empty history)\n",
      "→ Processing ALZCUR.ST … ✔ recorded\n",
      "→ Processing JETPAK.ST …"
     ]
    },
    {
     "name": "stderr",
     "output_type": "stream",
     "text": [
      "$JETPAK.ST: possibly delisted; no price data found  (period=1d) (Yahoo error = \"No data found, symbol may be delisted\")\n"
     ]
    },
    {
     "name": "stdout",
     "output_type": "stream",
     "text": [
      " ✖ no price data (empty history)\n",
      "→ Processing LIMET.ST …"
     ]
    },
    {
     "name": "stderr",
     "output_type": "stream",
     "text": [
      "$LIMET.ST: possibly delisted; no price data found  (period=1d) (Yahoo error = \"No data found, symbol may be delisted\")\n"
     ]
    },
    {
     "name": "stdout",
     "output_type": "stream",
     "text": [
      " ✖ no price data (empty history)\n",
      "→ Processing QLINEA.ST … ✔ recorded\n",
      "→ Processing AZELIO.ST …"
     ]
    },
    {
     "name": "stderr",
     "output_type": "stream",
     "text": [
      "$AZELIO.ST: possibly delisted; no price data found  (period=1d) (Yahoo error = \"No data found, symbol may be delisted\")\n"
     ]
    },
    {
     "name": "stdout",
     "output_type": "stream",
     "text": [
      " ✖ no price data (empty history)\n",
      "→ Processing CAGGR.ST …"
     ]
    },
    {
     "name": "stderr",
     "output_type": "stream",
     "text": [
      "$CAGGR.ST: possibly delisted; no price data found  (period=1d) (Yahoo error = \"No data found, symbol may be delisted\")\n"
     ]
    },
    {
     "name": "stdout",
     "output_type": "stream",
     "text": [
      " ✖ no price data (empty history)\n",
      "→ Processing SBBD.ST …"
     ]
    },
    {
     "name": "stderr",
     "output_type": "stream",
     "text": [
      "$SBBD.ST: possibly delisted; no price data found  (period=1d) (Yahoo error = \"No data found, symbol may be delisted\")\n"
     ]
    },
    {
     "name": "stdout",
     "output_type": "stream",
     "text": [
      " ✖ no price data (empty history)\n",
      "→ Processing FOOTB.ST …"
     ]
    },
    {
     "name": "stderr",
     "output_type": "stream",
     "text": [
      "$FOOTB.ST: possibly delisted; no price data found  (period=1d) (Yahoo error = \"No data found, symbol may be delisted\")\n"
     ]
    },
    {
     "name": "stdout",
     "output_type": "stream",
     "text": [
      " ✖ no price data (empty history)\n",
      "→ Processing INCOAX.ST … ✔ recorded\n",
      "→ Processing ACELP.ST …"
     ]
    },
    {
     "name": "stderr",
     "output_type": "stream",
     "text": [
      "$ACELP.ST: possibly delisted; no price data found  (period=1d) (Yahoo error = \"No data found, symbol may be delisted\")\n"
     ]
    },
    {
     "name": "stdout",
     "output_type": "stream",
     "text": [
      " ✖ no price data (empty history)\n",
      "→ Processing FERRO.ST … ✔ recorded\n",
      "→ Processing GIGSEK.ST …"
     ]
    },
    {
     "name": "stderr",
     "output_type": "stream",
     "text": [
      "$GIGSEK.ST: possibly delisted; no price data found  (period=1d) (Yahoo error = \"No data found, symbol may be delisted\")\n"
     ]
    },
    {
     "name": "stdout",
     "output_type": "stream",
     "text": [
      " ✖ no price data (empty history)\n",
      "→ Processing NENTA.ST …"
     ]
    },
    {
     "name": "stderr",
     "output_type": "stream",
     "text": [
      "$NENTA.ST: possibly delisted; no price data found  (period=1d) (Yahoo error = \"No data found, symbol may be delisted\")\n"
     ]
    },
    {
     "name": "stdout",
     "output_type": "stream",
     "text": [
      " ✖ no price data (empty history)\n",
      "→ Processing NENTB.ST …"
     ]
    },
    {
     "name": "stderr",
     "output_type": "stream",
     "text": [
      "$NENTB.ST: possibly delisted; no price data found  (period=1d) (Yahoo error = \"No data found, symbol may be delisted\")\n"
     ]
    },
    {
     "name": "stdout",
     "output_type": "stream",
     "text": [
      " ✖ no price data (empty history)\n",
      "→ Processing FRILLB.ST …"
     ]
    },
    {
     "name": "stderr",
     "output_type": "stream",
     "text": [
      "$FRILLB.ST: possibly delisted; no price data found  (period=1d) (Yahoo error = \"No data found, symbol may be delisted\")\n"
     ]
    },
    {
     "name": "stdout",
     "output_type": "stream",
     "text": [
      " ✖ no price data (empty history)\n",
      "→ Processing TEQ.ST … ✔ recorded\n",
      "→ Processing COLAB.ST …"
     ]
    },
    {
     "name": "stderr",
     "output_type": "stream",
     "text": [
      "$COLAB.ST: possibly delisted; no price data found  (period=1d) (Yahoo error = \"No data found, symbol may be delisted\")\n"
     ]
    },
    {
     "name": "stdout",
     "output_type": "stream",
     "text": [
      " ✖ no price data (empty history)\n",
      "→ Processing CALMAB.ST …"
     ]
    },
    {
     "name": "stderr",
     "output_type": "stream",
     "text": [
      "$CALMAB.ST: possibly delisted; no price data found  (period=1d) (Yahoo error = \"No data found, symbol may be delisted\")\n"
     ]
    },
    {
     "name": "stdout",
     "output_type": "stream",
     "text": [
      " ✖ no price data (empty history)\n",
      "→ Processing ZICC.ST … ✔ recorded\n",
      "→ Processing SCOLG.ST …"
     ]
    },
    {
     "name": "stderr",
     "output_type": "stream",
     "text": [
      "$SCOLG.ST: possibly delisted; no price data found  (period=1d) (Yahoo error = \"No data found, symbol may be delisted\")\n"
     ]
    },
    {
     "name": "stdout",
     "output_type": "stream",
     "text": [
      " ✖ no price data (empty history)\n",
      "→ Processing ADVTY.ST …"
     ]
    },
    {
     "name": "stderr",
     "output_type": "stream",
     "text": [
      "$ADVTY.ST: possibly delisted; no price data found  (period=1d) (Yahoo error = \"No data found, symbol may be delisted\")\n"
     ]
    },
    {
     "name": "stdout",
     "output_type": "stream",
     "text": [
      " ✖ no price data (empty history)\n",
      "→ Processing RISK.ST … ✔ recorded\n",
      "→ Processing BUBL.ST …"
     ]
    },
    {
     "name": "stderr",
     "output_type": "stream",
     "text": [
      "$BUBL.ST: possibly delisted; no price data found  (period=1d) (Yahoo error = \"No data found, symbol may be delisted\")\n"
     ]
    },
    {
     "name": "stdout",
     "output_type": "stream",
     "text": [
      " ✖ no price data (empty history)\n",
      "→ Processing KARNO.ST …"
     ]
    },
    {
     "name": "stderr",
     "output_type": "stream",
     "text": [
      "$KARNO.ST: possibly delisted; no price data found  (period=1d) (Yahoo error = \"No data found, symbol may be delisted\")\n"
     ]
    },
    {
     "name": "stdout",
     "output_type": "stream",
     "text": [
      " ✖ no price data (empty history)\n",
      "→ Processing TRIBOB.ST …"
     ]
    },
    {
     "name": "stderr",
     "output_type": "stream",
     "text": [
      "$TRIBOB.ST: possibly delisted; no price data found  (period=1d) (Yahoo error = \"No data found, symbol may be delisted\")\n"
     ]
    },
    {
     "name": "stdout",
     "output_type": "stream",
     "text": [
      " ✖ no price data (empty history)\n",
      "→ Processing UPSALE.ST … ✔ recorded\n",
      "→ Processing OSSD.ST … ✔ recorded\n",
      "→ Processing SLITE.ST …"
     ]
    },
    {
     "name": "stderr",
     "output_type": "stream",
     "text": [
      "$SLITE.ST: possibly delisted; no price data found  (period=1d) (Yahoo error = \"No data found, symbol may be delisted\")\n"
     ]
    },
    {
     "name": "stdout",
     "output_type": "stream",
     "text": [
      " ✖ no price data (empty history)\n",
      "→ Processing VERTB.ST …"
     ]
    },
    {
     "name": "stderr",
     "output_type": "stream",
     "text": [
      "$VERTB.ST: possibly delisted; no price data found  (period=1d) (Yahoo error = \"No data found, symbol may be delisted\")\n"
     ]
    },
    {
     "name": "stdout",
     "output_type": "stream",
     "text": [
      " ✖ no price data (empty history)\n",
      "→ Processing JOMA.ST … ✔ recorded\n",
      "→ Processing K2AB.ST …"
     ]
    },
    {
     "name": "stderr",
     "output_type": "stream",
     "text": [
      "$K2AB.ST: possibly delisted; no price data found  (period=1d) (Yahoo error = \"No data found, symbol may be delisted\")\n"
     ]
    },
    {
     "name": "stdout",
     "output_type": "stream",
     "text": [
      " ✖ no price data (empty history)\n",
      "→ Processing NHCBHFFS.ST … ✔ recorded\n",
      "→ Processing ADAPT.ST …"
     ]
    },
    {
     "name": "stderr",
     "output_type": "stream",
     "text": [
      "$ADAPT.ST: possibly delisted; no price data found  (period=1d) (Yahoo error = \"No data found, symbol may be delisted\")\n"
     ]
    },
    {
     "name": "stdout",
     "output_type": "stream",
     "text": [
      " ✖ no price data (empty history)\n",
      "→ Processing SEAF.ST … ✔ recorded\n",
      "→ Processing QBITTO1.ST …"
     ]
    },
    {
     "name": "stderr",
     "output_type": "stream",
     "text": [
      "$QBITTO1.ST: possibly delisted; no price data found  (period=1d) (Yahoo error = \"No data found, symbol may be delisted\")\n"
     ]
    },
    {
     "name": "stdout",
     "output_type": "stream",
     "text": [
      " ✖ no price data (empty history)\n",
      "→ Processing QBIT.ST … ✔ recorded\n",
      "→ Processing NUSTAY.ST …"
     ]
    },
    {
     "name": "stderr",
     "output_type": "stream",
     "text": [
      "$NUSTAY.ST: possibly delisted; no price data found  (period=1d) (Yahoo error = \"No data found, symbol may be delisted\")\n"
     ]
    },
    {
     "name": "stdout",
     "output_type": "stream",
     "text": [
      " ✖ no price data (empty history)\n",
      "→ Processing ATANA.ST … ✔ recorded\n",
      "→ Processing SMOL.ST … ✔ recorded\n",
      "→ Processing ZORDIXB.ST …"
     ]
    },
    {
     "name": "stderr",
     "output_type": "stream",
     "text": [
      "$ZORDIXB.ST: possibly delisted; no price data found  (period=1d) (Yahoo error = \"No data found, symbol may be delisted\")\n"
     ]
    },
    {
     "name": "stdout",
     "output_type": "stream",
     "text": [
      " ✖ no price data (empty history)\n",
      "→ Processing EQTAB.ST …"
     ]
    },
    {
     "name": "stderr",
     "output_type": "stream",
     "text": [
      "$EQTAB.ST: possibly delisted; no price data found  (period=1d) (Yahoo error = \"No data found, symbol may be delisted\")\n"
     ]
    },
    {
     "name": "stdout",
     "output_type": "stream",
     "text": [
      " ✖ no price data (empty history)\n",
      "→ Processing MNTC.ST … ✔ recorded\n",
      "→ Processing LIPI.ST … ✔ recorded\n",
      "→ Processing ZIGN.ST …"
     ]
    },
    {
     "name": "stderr",
     "output_type": "stream",
     "text": [
      "$ZIGN.ST: possibly delisted; no price data found  (period=1d) (Yahoo error = \"No data found, symbol may be delisted\")\n"
     ]
    },
    {
     "name": "stdout",
     "output_type": "stream",
     "text": [
      " ✖ no price data (empty history)\n",
      "Data collection pass complete.\n"
     ]
    }
   ],
   "source": [
    "# ## 5) Loop over `to_process`, validate data, checkpoint, and collect errors\n",
    "\n",
    "# %%\n",
    "errors = []\n",
    "for ticker in to_process:\n",
    "    print(f\"→ Processing {ticker} …\", end=\"\", flush=True)\n",
    "    try:\n",
    "        tk = yf.Ticker(ticker)\n",
    "        # check for at least one day of history\n",
    "        hist = tk.history(period=\"1d\")\n",
    "        if hist.empty:\n",
    "            msg = \"no price data (empty history)\"\n",
    "            print(f\" ✖ {msg}\")\n",
    "            errors.append({\"YahooTicker\": ticker, \"Error\": msg})\n",
    "            continue\n",
    "        # fetch info for metadata\n",
    "        info = tk.info or {}\n",
    "        name = info.get(\"shortName\") or info.get(\"longName\") or ticker\n",
    "        exchange = info.get(\"exchange\", \"\")\n",
    "\n",
    "        # record valid ticker\n",
    "        df_out = pd.concat([\n",
    "            df_out,\n",
    "            pd.DataFrame([{\n",
    "                \"YahooTicker\": ticker,\n",
    "                \"CompanyName\": name,\n",
    "                \"Exchange\": exchange\n",
    "            }])\n",
    "        ], ignore_index=True)\n",
    "        df_out.to_csv(OUTPUT_CSV, index=False)\n",
    "        done.add(ticker)\n",
    "        print(\" ✔ recorded\")\n",
    "    except Exception as e:\n",
    "        msg = str(e)\n",
    "        print(f\" ERROR: {msg}\")\n",
    "        errors.append({\"YahooTicker\": ticker, \"Error\": msg})\n",
    "    finally:\n",
    "        time.sleep(SLEEP_SEC)\n",
    "\n",
    "print(\"Data collection pass complete.\")"
   ]
  },
  {
   "cell_type": "code",
   "execution_count": 6,
   "id": "17d5de28",
   "metadata": {},
   "outputs": [
    {
     "name": "stdout",
     "output_type": "stream",
     "text": [
      "Logged 713 errors to errors_log.csv\n"
     ]
    }
   ],
   "source": [
    "# ## 6) Save updated error log\n",
    "\n",
    "# %%\n",
    "if errors:\n",
    "    pd.DataFrame(errors).to_csv(ERROR_LOG_CSV, index=False)\n",
    "    print(f\"Logged {len(errors)} errors to {ERROR_LOG_CSV}\")\n",
    "else:\n",
    "    if os.path.exists(ERROR_LOG_CSV):\n",
    "        os.remove(ERROR_LOG_CSV)\n",
    "    print(\"No errors on this run.  👍\")"
   ]
  }
 ],
 "metadata": {
  "kernelspec": {
   "display_name": "stockenv",
   "language": "python",
   "name": "python3"
  },
  "language_info": {
   "codemirror_mode": {
    "name": "ipython",
    "version": 3
   },
   "file_extension": ".py",
   "mimetype": "text/x-python",
   "name": "python",
   "nbconvert_exporter": "python",
   "pygments_lexer": "ipython3",
   "version": "3.11.9"
  }
 },
 "nbformat": 4,
 "nbformat_minor": 5
}
