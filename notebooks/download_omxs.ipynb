{
 "cells": [
  {
   "cell_type": "code",
   "execution_count": 5,
   "id": "05a839a6",
   "metadata": {},
   "outputs": [],
   "source": [
    "import nbformat\n",
    "from nbformat.v4 import new_notebook, new_markdown_cell, new_code_cell\n",
    "\n",
    "# Create a new Jupyter notebook\n",
    "nb = new_notebook()\n",
    "nb.cells = [\n",
    "    new_markdown_cell(\n",
    "        \"## Download OMXS All-Share CSV\\nThis notebook demonstrates how to download the OMXS All-Share CSV from Nasdaq OMX Nordic and load it into pandas.\"),\n",
    "    new_code_cell(\n",
    "        \"import pandas as pd\\n\"\n",
    "        \"\\n\"\n",
    "        \"# URL for the OMXS All-Share CSV\\n\"\n",
    "        \"url = (\\n\"\n",
    "        \"    'https://www.nasdaqomxnordic.com/shares/microsite/AllShares.csv'\\n\"\n",
    "        \"    '?Instrument=Equity&Exchange=STO&Currency=SEK'\\n\"\n",
    "        \")\\n\"\n",
    "        \"\\n\"\n",
    "        \"# Read the CSV directly into a DataFrame\\n\"\n",
    "        \"df = pd.read_csv(url, sep=';')\\n\"\n",
    "        \"\\n\"\n",
    "        \"# Display the first few rows\\n\"\n",
    "        \"df.head()\"\n",
    "    ),\n",
    "    new_markdown_cell(\n",
    "        \"### Save the DataFrame\\nYou can save the data locally for future use:\"),\n",
    "    new_code_cell(\n",
    "        \"# Save to local CSV in current working directory\\n\"\n",
    "        \"df.to_csv('OMXS_All_Share.csv', index=False)\\n\"\n",
    "        \"print('Saved OMXS_All_Share.csv successfully.')\"\n",
    "    ),\n",
    "]\n"
   ]
  }
 ],
 "metadata": {
  "kernelspec": {
   "display_name": "stockenv",
   "language": "python",
   "name": "python3"
  },
  "language_info": {
   "codemirror_mode": {
    "name": "ipython",
    "version": 3
   },
   "file_extension": ".py",
   "mimetype": "text/x-python",
   "name": "python",
   "nbconvert_exporter": "python",
   "pygments_lexer": "ipython3",
   "version": "3.11.9"
  }
 },
 "nbformat": 4,
 "nbformat_minor": 5
}
