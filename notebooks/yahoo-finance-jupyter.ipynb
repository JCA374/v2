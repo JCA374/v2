{
 "cells": [
  {
   "cell_type": "markdown",
   "metadata": {},
   "source": [
    "# Yahoo Finance Ticker Verification Tool\n",
    "\n",
    "This notebook will:\n",
    "1. Read a CSV file containing stock ticker symbols\n",
    "2. Generate possible Yahoo Finance ticker formats\n",
    "3. **Verify which tickers actually exist** on Yahoo Finance\n",
    "4. Create a new CSV with the original ticker and the verified Yahoo Finance ticker"
   ]
  },
  {
   "cell_type": "markdown",
   "metadata": {},
   "source": [
    "## 1. Install Required Packages"
   ]
  },
  {
   "cell_type": "code",
   "execution_count": 38,
   "metadata": {},
   "outputs": [
    {
     "name": "stdout",
     "output_type": "stream",
     "text": [
      "Requirement already satisfied: pandas in c:\\users\\jonascarlsson\\appdata\\local\\programs\\python\\python39\\lib\\site-packages (2.2.3)\n",
      "Requirement already satisfied: requests in c:\\users\\jonascarlsson\\appdata\\local\\programs\\python\\python39\\lib\\site-packages (2.32.3)\n",
      "Requirement already satisfied: beautifulsoup4 in c:\\users\\jonascarlsson\\appdata\\local\\programs\\python\\python39\\lib\\site-packages (4.12.3)\n",
      "Requirement already satisfied: tqdm in c:\\users\\jonascarlsson\\appdata\\local\\programs\\python\\python39\\lib\\site-packages (4.66.5)\n",
      "Requirement already satisfied: numpy>=1.22.4 in c:\\users\\jonascarlsson\\appdata\\local\\programs\\python\\python39\\lib\\site-packages (from pandas) (1.24.3)\n",
      "Requirement already satisfied: python-dateutil>=2.8.2 in c:\\users\\jonascarlsson\\appdata\\local\\programs\\python\\python39\\lib\\site-packages (from pandas) (2.9.0.post0)\n",
      "Requirement already satisfied: pytz>=2020.1 in c:\\users\\jonascarlsson\\appdata\\local\\programs\\python\\python39\\lib\\site-packages (from pandas) (2024.2)\n",
      "Requirement already satisfied: tzdata>=2022.7 in c:\\users\\jonascarlsson\\appdata\\local\\programs\\python\\python39\\lib\\site-packages (from pandas) (2024.2)\n",
      "Requirement already satisfied: charset-normalizer<4,>=2 in c:\\users\\jonascarlsson\\appdata\\local\\programs\\python\\python39\\lib\\site-packages (from requests) (3.3.2)\n",
      "Requirement already satisfied: idna<4,>=2.5 in c:\\users\\jonascarlsson\\appdata\\local\\programs\\python\\python39\\lib\\site-packages (from requests) (3.10)\n",
      "Requirement already satisfied: urllib3<3,>=1.21.1 in c:\\users\\jonascarlsson\\appdata\\local\\programs\\python\\python39\\lib\\site-packages (from requests) (2.2.3)\n",
      "Requirement already satisfied: certifi>=2017.4.17 in c:\\users\\jonascarlsson\\appdata\\local\\programs\\python\\python39\\lib\\site-packages (from requests) (2024.8.30)\n",
      "Requirement already satisfied: soupsieve>1.2 in c:\\users\\jonascarlsson\\appdata\\local\\programs\\python\\python39\\lib\\site-packages (from beautifulsoup4) (2.6)\n",
      "Requirement already satisfied: colorama in c:\\users\\jonascarlsson\\appdata\\local\\programs\\python\\python39\\lib\\site-packages (from tqdm) (0.4.6)\n",
      "Requirement already satisfied: six>=1.5 in c:\\users\\jonascarlsson\\appdata\\local\\programs\\python\\python39\\lib\\site-packages (from python-dateutil>=2.8.2->pandas) (1.16.0)\n"
     ]
    }
   ],
   "source": [
    "# Install required packages if not already installed\n",
    "!pip install pandas requests beautifulsoup4 tqdm"
   ]
  },
  {
   "cell_type": "markdown",
   "metadata": {},
   "source": [
    "## 2. Import Libraries and Define Functions"
   ]
  },
  {
   "cell_type": "code",
   "execution_count": 39,
   "metadata": {},
   "outputs": [],
   "source": [
    "import pandas as pd\n",
    "import requests\n",
    "from bs4 import BeautifulSoup\n",
    "import time\n",
    "import random\n",
    "from tqdm.notebook import tqdm\n",
    "import re"
   ]
  },
  {
   "cell_type": "code",
   "execution_count": 40,
   "metadata": {},
   "outputs": [],
   "source": [
    "# Define common exchange suffixes for Yahoo Finance\n",
    "EXCHANGE_SUFFIXES = [\n",
    "    {'suffix': '', 'description': 'US Markets (default)'},\n",
    "    {'suffix': '.ST', 'description': 'Stockholm Stock Exchange'},\n",
    "    {'suffix': '.CO', 'description': 'Copenhagen Stock Exchange'},\n",
    "    {'suffix': '.OL', 'description': 'Oslo Stock Exchange'},\n",
    "    {'suffix': '.HE', 'description': 'Helsinki Stock Exchange'},\n",
    "    {'suffix': '.DE', 'description': 'German Stock Exchange'},\n",
    "    {'suffix': '.L', 'description': 'London Stock Exchange'},\n",
    "    {'suffix': '.PA', 'description': 'Paris Stock Exchange'},\n",
    "    {'suffix': '.MI', 'description': 'Milan Stock Exchange'},\n",
    "    {'suffix': '.MC', 'description': 'Madrid Stock Exchange'},\n",
    "    {'suffix': '.TO', 'description': 'Toronto Stock Exchange'},\n",
    "    {'suffix': '.AX', 'description': 'Australian Stock Exchange'},\n",
    "    {'suffix': '.NZ', 'description': 'New Zealand Stock Exchange'},\n",
    "    {'suffix': '.HK', 'description': 'Hong Kong Stock Exchange'},\n",
    "    {'suffix': '.TW', 'description': 'Taiwan Stock Exchange'},\n",
    "    {'suffix': '.KS', 'description': 'Korea Stock Exchange'},\n",
    "    {'suffix': '.T', 'description': 'Tokyo Stock Exchange'}\n",
    "]"
   ]
  },
  {
   "cell_type": "code",
   "execution_count": 41,
   "metadata": {},
   "outputs": [],
   "source": [
    "def clean_ticker(ticker):\n",
    "    \"\"\"\n",
    "    Clean ticker symbol for Yahoo Finance format\n",
    "    \"\"\"\n",
    "    # Replace spaces with hyphens\n",
    "    ticker = ticker.replace(' ', '-')\n",
    "    return ticker"
   ]
  },
  {
   "cell_type": "code",
   "execution_count": 42,
   "metadata": {},
   "outputs": [],
   "source": [
    "def verify_yahoo_ticker(ticker):\n",
    "    \"\"\"\n",
    "    Verify if a ticker exists on Yahoo Finance by checking the page\n",
    "    Returns tuple: (exists, company_name)\n",
    "    \"\"\"\n",
    "    url = f\"https://finance.yahoo.com/quote/{ticker}\"\n",
    "    headers = {\n",
    "        'User-Agent': 'Mozilla/5.0 (Windows NT 10.0; Win64; x64) AppleWebKit/537.36 (KHTML, like Gecko) Chrome/91.0.4472.124 Safari/537.36'\n",
    "    }\n",
    "    \n",
    "    try:\n",
    "        response = requests.get(url, headers=headers, timeout=10)\n",
    "        \n",
    "        # If page doesn't exist, Yahoo redirects to search results\n",
    "        if 'lookup' in response.url:\n",
    "            return False, None\n",
    "        \n",
    "        # If we get to the symbol page but it shows \"Symbol not found\"\n",
    "        if \"Symbol not found\" in response.text:\n",
    "            return False, None\n",
    "            \n",
    "        # Check if we got a quote page by looking for specific elements\n",
    "        soup = BeautifulSoup(response.text, 'html.parser')\n",
    "        \n",
    "        # Look for company name in the header\n",
    "        h1_tag = soup.find('h1')\n",
    "        if h1_tag and h1_tag.text.strip():\n",
    "            # Extract company name (before the ticker in parentheses)\n",
    "            company_text = h1_tag.text.strip()\n",
    "            company_name = re.sub(r'\\s*\\([^)]*\\)\\s*$', '', company_text)\n",
    "            return True, company_name\n",
    "        \n",
    "        # If we can't find the company name but the page exists\n",
    "        return True, \"Unknown\"\n",
    "        \n",
    "    except Exception as e:\n",
    "        print(f\"Error checking {ticker}: {str(e)}\")\n",
    "        return False, None"
   ]
  },
  {
   "cell_type": "markdown",
   "metadata": {},
   "source": [
    "## 3. Load and Process Input CSV"
   ]
  },
  {
   "cell_type": "code",
   "execution_count": 43,
   "metadata": {},
   "outputs": [],
   "source": [
    "# Function to load the CSV file\n",
    "def load_tickers(file_path, ticker_column='Tickersymbol'):\n",
    "    \"\"\"\n",
    "    Load ticker symbols from a CSV file\n",
    "    \"\"\"\n",
    "    try:\n",
    "        df = pd.read_csv(file_path)\n",
    "        \n",
    "        # Check if the specified column exists\n",
    "        if ticker_column not in df.columns:\n",
    "            print(f\"Column '{ticker_column}' not found in CSV. Available columns: {', '.join(df.columns)}\")\n",
    "            return None\n",
    "            \n",
    "        # Extract ticker symbols\n",
    "        tickers = df[ticker_column].dropna().tolist()\n",
    "        print(f\"Loaded {len(tickers)} ticker symbols from {file_path}\")\n",
    "        return df\n",
    "        \n",
    "    except Exception as e:\n",
    "        print(f\"Error loading CSV: {str(e)}\")\n",
    "        return None"
   ]
  },
  {
   "cell_type": "code",
   "execution_count": 44,
   "metadata": {},
   "outputs": [
    {
     "name": "stdout",
     "output_type": "stream",
     "text": [
      "Loaded 109 ticker symbols from small.csv\n"
     ]
    },
    {
     "data": {
      "application/vnd.microsoft.datawrangler.viewer.v0+json": {
       "columns": [
        {
         "name": "index",
         "rawType": "int64",
         "type": "integer"
        },
        {
         "name": "Tickersymbol",
         "rawType": "object",
         "type": "string"
        }
       ],
       "conversionMethod": "pd.DataFrame",
       "ref": "08a46cdb-db06-461b-a594-5b5b188ac6ea",
       "rows": [
        [
         "0",
         "ACRI A"
        ],
        [
         "1",
         "ACRI B"
        ],
        [
         "2",
         "ATIC"
        ],
        [
         "3",
         "ACTI"
        ],
        [
         "4",
         "ATORX"
        ]
       ],
       "shape": {
        "columns": 1,
        "rows": 5
       }
      },
      "text/html": [
       "<div>\n",
       "<style scoped>\n",
       "    .dataframe tbody tr th:only-of-type {\n",
       "        vertical-align: middle;\n",
       "    }\n",
       "\n",
       "    .dataframe tbody tr th {\n",
       "        vertical-align: top;\n",
       "    }\n",
       "\n",
       "    .dataframe thead th {\n",
       "        text-align: right;\n",
       "    }\n",
       "</style>\n",
       "<table border=\"1\" class=\"dataframe\">\n",
       "  <thead>\n",
       "    <tr style=\"text-align: right;\">\n",
       "      <th></th>\n",
       "      <th>Tickersymbol</th>\n",
       "    </tr>\n",
       "  </thead>\n",
       "  <tbody>\n",
       "    <tr>\n",
       "      <th>0</th>\n",
       "      <td>ACRI A</td>\n",
       "    </tr>\n",
       "    <tr>\n",
       "      <th>1</th>\n",
       "      <td>ACRI B</td>\n",
       "    </tr>\n",
       "    <tr>\n",
       "      <th>2</th>\n",
       "      <td>ATIC</td>\n",
       "    </tr>\n",
       "    <tr>\n",
       "      <th>3</th>\n",
       "      <td>ACTI</td>\n",
       "    </tr>\n",
       "    <tr>\n",
       "      <th>4</th>\n",
       "      <td>ATORX</td>\n",
       "    </tr>\n",
       "  </tbody>\n",
       "</table>\n",
       "</div>"
      ],
      "text/plain": [
       "  Tickersymbol\n",
       "0       ACRI A\n",
       "1       ACRI B\n",
       "2         ATIC\n",
       "3         ACTI\n",
       "4        ATORX"
      ]
     },
     "metadata": {},
     "output_type": "display_data"
    }
   ],
   "source": [
    "# Set the input file path and ticker column name\n",
    "input_file = 'small.csv'  # CHANGE THIS to your CSV file path\n",
    "ticker_column = 'Tickersymbol'   # CHANGE THIS if your column has a different name\n",
    "\n",
    "# Load the ticker data\n",
    "df = load_tickers(input_file, ticker_column)\n",
    "\n",
    "# Display the first few rows\n",
    "if df is not None:\n",
    "    display(df.head())"
   ]
  },
  {
   "cell_type": "markdown",
   "metadata": {},
   "source": [
    "## 4. Generate and Verify Yahoo Finance Tickers"
   ]
  },
  {
   "cell_type": "code",
   "execution_count": 45,
   "metadata": {},
   "outputs": [],
   "source": [
    "# Function to find the correct Yahoo Finance ticker\n",
    "def find_yahoo_tickers(tickers, max_exchanges=5):\n",
    "    \"\"\"\n",
    "    Find valid Yahoo Finance tickers for each input ticker\n",
    "    Returns a DataFrame with results\n",
    "    \"\"\"\n",
    "    results = []\n",
    "    \n",
    "    # Limit exchanges to check to save time\n",
    "    exchanges_to_check = EXCHANGE_SUFFIXES[:max_exchanges]\n",
    "    \n",
    "    for original_ticker in tqdm(tickers, desc=\"Verifying tickers\"):\n",
    "        cleaned_ticker = clean_ticker(original_ticker)\n",
    "        ticker_found = False\n",
    "        \n",
    "        for exchange in exchanges_to_check:\n",
    "            yahoo_ticker = cleaned_ticker + exchange['suffix']\n",
    "            \n",
    "            # Verify if this ticker exists on Yahoo Finance\n",
    "            exists, company_name = verify_yahoo_ticker(yahoo_ticker)\n",
    "            \n",
    "            if exists:\n",
    "                results.append({\n",
    "                    'OriginalTicker': original_ticker,\n",
    "                    'CleanedTicker': cleaned_ticker,\n",
    "                    'YahooTicker': yahoo_ticker,\n",
    "                    'Exchange': exchange['description'],\n",
    "                    'Company': company_name,\n",
    "                    'URL': f\"https://finance.yahoo.com/quote/{yahoo_ticker}\"\n",
    "                })\n",
    "                ticker_found = True\n",
    "                break  # Stop checking exchanges once we find a match\n",
    "            \n",
    "            # Add a small random delay to avoid rate limiting\n",
    "            time.sleep(random.uniform(0.5, 1.5))\n",
    "        \n",
    "        # If no match found after checking all exchanges\n",
    "        if not ticker_found:\n",
    "            results.append({\n",
    "                'OriginalTicker': original_ticker,\n",
    "                'CleanedTicker': cleaned_ticker,\n",
    "                'YahooTicker': None,\n",
    "                'Exchange': 'Not Found',\n",
    "                'Company': None,\n",
    "                'URL': None\n",
    "            })\n",
    "    \n",
    "    return pd.DataFrame(results)"
   ]
  },
  {
   "cell_type": "code",
   "execution_count": 46,
   "metadata": {},
   "outputs": [
    {
     "data": {
      "application/vnd.jupyter.widget-view+json": {
       "model_id": "f67d237f44cf4724a39c16224f825fb2",
       "version_major": 2,
       "version_minor": 0
      },
      "text/plain": [
       "Verifying tickers:   0%|          | 0/5 [00:00<?, ?it/s]"
      ]
     },
     "metadata": {},
     "output_type": "display_data"
    },
    {
     "data": {
      "application/vnd.microsoft.datawrangler.viewer.v0+json": {
       "columns": [
        {
         "name": "index",
         "rawType": "int64",
         "type": "integer"
        },
        {
         "name": "OriginalTicker",
         "rawType": "object",
         "type": "string"
        },
        {
         "name": "CleanedTicker",
         "rawType": "object",
         "type": "string"
        },
        {
         "name": "YahooTicker",
         "rawType": "object",
         "type": "string"
        },
        {
         "name": "Exchange",
         "rawType": "object",
         "type": "string"
        },
        {
         "name": "Company",
         "rawType": "object",
         "type": "string"
        },
        {
         "name": "URL",
         "rawType": "object",
         "type": "string"
        }
       ],
       "conversionMethod": "pd.DataFrame",
       "ref": "5b38ce4b-4c4f-4f64-a32a-154eb8f24ac7",
       "rows": [
        [
         "0",
         "ACRI A",
         "ACRI-A",
         "ACRI-A.ST",
         "Stockholm Stock Exchange",
         "Yahoo Finance",
         "https://finance.yahoo.com/quote/ACRI-A.ST"
        ],
        [
         "1",
         "ACRI B",
         "ACRI-B",
         "ACRI-B.ST",
         "Stockholm Stock Exchange",
         "Yahoo Finance",
         "https://finance.yahoo.com/quote/ACRI-B.ST"
        ],
        [
         "2",
         "ATIC",
         "ATIC",
         "ATIC.ST",
         "Stockholm Stock Exchange",
         "Yahoo Finance",
         "https://finance.yahoo.com/quote/ATIC.ST"
        ],
        [
         "3",
         "ACTI",
         "ACTI",
         "ACTI",
         "US Markets (default)",
         "Yahoo Finance",
         "https://finance.yahoo.com/quote/ACTI"
        ],
        [
         "4",
         "ATORX",
         "ATORX",
         "ATORX.ST",
         "Stockholm Stock Exchange",
         "Yahoo Finance",
         "https://finance.yahoo.com/quote/ATORX.ST"
        ]
       ],
       "shape": {
        "columns": 6,
        "rows": 5
       }
      },
      "text/html": [
       "<div>\n",
       "<style scoped>\n",
       "    .dataframe tbody tr th:only-of-type {\n",
       "        vertical-align: middle;\n",
       "    }\n",
       "\n",
       "    .dataframe tbody tr th {\n",
       "        vertical-align: top;\n",
       "    }\n",
       "\n",
       "    .dataframe thead th {\n",
       "        text-align: right;\n",
       "    }\n",
       "</style>\n",
       "<table border=\"1\" class=\"dataframe\">\n",
       "  <thead>\n",
       "    <tr style=\"text-align: right;\">\n",
       "      <th></th>\n",
       "      <th>OriginalTicker</th>\n",
       "      <th>CleanedTicker</th>\n",
       "      <th>YahooTicker</th>\n",
       "      <th>Exchange</th>\n",
       "      <th>Company</th>\n",
       "      <th>URL</th>\n",
       "    </tr>\n",
       "  </thead>\n",
       "  <tbody>\n",
       "    <tr>\n",
       "      <th>0</th>\n",
       "      <td>ACRI A</td>\n",
       "      <td>ACRI-A</td>\n",
       "      <td>ACRI-A.ST</td>\n",
       "      <td>Stockholm Stock Exchange</td>\n",
       "      <td>Yahoo Finance</td>\n",
       "      <td>https://finance.yahoo.com/quote/ACRI-A.ST</td>\n",
       "    </tr>\n",
       "    <tr>\n",
       "      <th>1</th>\n",
       "      <td>ACRI B</td>\n",
       "      <td>ACRI-B</td>\n",
       "      <td>ACRI-B.ST</td>\n",
       "      <td>Stockholm Stock Exchange</td>\n",
       "      <td>Yahoo Finance</td>\n",
       "      <td>https://finance.yahoo.com/quote/ACRI-B.ST</td>\n",
       "    </tr>\n",
       "    <tr>\n",
       "      <th>2</th>\n",
       "      <td>ATIC</td>\n",
       "      <td>ATIC</td>\n",
       "      <td>ATIC.ST</td>\n",
       "      <td>Stockholm Stock Exchange</td>\n",
       "      <td>Yahoo Finance</td>\n",
       "      <td>https://finance.yahoo.com/quote/ATIC.ST</td>\n",
       "    </tr>\n",
       "    <tr>\n",
       "      <th>3</th>\n",
       "      <td>ACTI</td>\n",
       "      <td>ACTI</td>\n",
       "      <td>ACTI</td>\n",
       "      <td>US Markets (default)</td>\n",
       "      <td>Yahoo Finance</td>\n",
       "      <td>https://finance.yahoo.com/quote/ACTI</td>\n",
       "    </tr>\n",
       "    <tr>\n",
       "      <th>4</th>\n",
       "      <td>ATORX</td>\n",
       "      <td>ATORX</td>\n",
       "      <td>ATORX.ST</td>\n",
       "      <td>Stockholm Stock Exchange</td>\n",
       "      <td>Yahoo Finance</td>\n",
       "      <td>https://finance.yahoo.com/quote/ATORX.ST</td>\n",
       "    </tr>\n",
       "  </tbody>\n",
       "</table>\n",
       "</div>"
      ],
      "text/plain": [
       "  OriginalTicker CleanedTicker YahooTicker                  Exchange  \\\n",
       "0         ACRI A        ACRI-A   ACRI-A.ST  Stockholm Stock Exchange   \n",
       "1         ACRI B        ACRI-B   ACRI-B.ST  Stockholm Stock Exchange   \n",
       "2           ATIC          ATIC     ATIC.ST  Stockholm Stock Exchange   \n",
       "3           ACTI          ACTI        ACTI      US Markets (default)   \n",
       "4          ATORX         ATORX    ATORX.ST  Stockholm Stock Exchange   \n",
       "\n",
       "         Company                                        URL  \n",
       "0  Yahoo Finance  https://finance.yahoo.com/quote/ACRI-A.ST  \n",
       "1  Yahoo Finance  https://finance.yahoo.com/quote/ACRI-B.ST  \n",
       "2  Yahoo Finance    https://finance.yahoo.com/quote/ATIC.ST  \n",
       "3  Yahoo Finance       https://finance.yahoo.com/quote/ACTI  \n",
       "4  Yahoo Finance   https://finance.yahoo.com/quote/ATORX.ST  "
      ]
     },
     "metadata": {},
     "output_type": "display_data"
    }
   ],
   "source": [
    "# Run the verification for a subset of tickers (for testing)\n",
    "# Comment out the next line to process all tickers\n",
    "test_tickers = df[ticker_column].head(5).tolist()  # Just test with 5 tickers first\n",
    "\n",
    "# Uncomment the next line to process all tickers\n",
    "# test_tickers = df[ticker_column].tolist()\n",
    "\n",
    "# Find Yahoo Finance tickers\n",
    "results_df = find_yahoo_tickers(test_tickers, max_exchanges=5)  # Check first 5 exchanges only\n",
    "\n",
    "# Display results\n",
    "display(results_df)"
   ]
  },
  {
   "cell_type": "markdown",
   "metadata": {},
   "source": [
    "## 5. Process All Tickers and Save Results"
   ]
  },
  {
   "cell_type": "code",
   "execution_count": 47,
   "metadata": {},
   "outputs": [
    {
     "data": {
      "application/vnd.jupyter.widget-view+json": {
       "model_id": "6b853b45285640c5a01b9a9a82556d2c",
       "version_major": 2,
       "version_minor": 0
      },
      "text/plain": [
       "Verifying tickers:   0%|          | 0/109 [00:00<?, ?it/s]"
      ]
     },
     "metadata": {},
     "output_type": "display_data"
    },
    {
     "name": "stdout",
     "output_type": "stream",
     "text": [
      "Results summary:\n",
      "  Total tickers processed: 109\n",
      "  Tickers found on Yahoo Finance: 109 (100.0%)\n",
      "  Tickers not found: 0\n"
     ]
    }
   ],
   "source": [
    "# After testing with a small sample, run with all tickers\n",
    "all_tickers = df[ticker_column].tolist()\n",
    "\n",
    "# Update how many exchanges to check to balance speed vs. coverage\n",
    "all_results_df = find_yahoo_tickers(all_tickers, max_exchanges=7)  # Check more exchanges\n",
    "\n",
    "# Display summary statistics\n",
    "found_count = all_results_df['YahooTicker'].notna().sum()\n",
    "total_count = len(all_results_df)\n",
    "percent_found = (found_count / total_count) * 100\n",
    "\n",
    "print(f\"Results summary:\")\n",
    "print(f\"  Total tickers processed: {total_count}\")\n",
    "print(f\"  Tickers found on Yahoo Finance: {found_count} ({percent_found:.1f}%)\")\n",
    "print(f\"  Tickers not found: {total_count - found_count}\")"
   ]
  },
  {
   "cell_type": "code",
   "execution_count": 48,
   "metadata": {},
   "outputs": [
    {
     "name": "stdout",
     "output_type": "stream",
     "text": [
      "Results saved to verified_yahoo_tickers.csv\n"
     ]
    },
    {
     "data": {
      "application/vnd.microsoft.datawrangler.viewer.v0+json": {
       "columns": [
        {
         "name": "index",
         "rawType": "int64",
         "type": "integer"
        },
        {
         "name": "OriginalTicker",
         "rawType": "object",
         "type": "string"
        },
        {
         "name": "CleanedTicker",
         "rawType": "object",
         "type": "string"
        },
        {
         "name": "YahooTicker",
         "rawType": "object",
         "type": "string"
        },
        {
         "name": "Exchange",
         "rawType": "object",
         "type": "string"
        },
        {
         "name": "Company",
         "rawType": "object",
         "type": "string"
        },
        {
         "name": "URL",
         "rawType": "object",
         "type": "string"
        }
       ],
       "conversionMethod": "pd.DataFrame",
       "ref": "db7f4861-4203-4fa6-94a5-e9d688721ed2",
       "rows": [
        [
         "0",
         "ACRI A",
         "ACRI-A",
         "ACRI-A.ST",
         "Stockholm Stock Exchange",
         "Yahoo Finance",
         "https://finance.yahoo.com/quote/ACRI-A.ST"
        ],
        [
         "1",
         "ACRI B",
         "ACRI-B",
         "ACRI-B.ST",
         "Stockholm Stock Exchange",
         "Yahoo Finance",
         "https://finance.yahoo.com/quote/ACRI-B.ST"
        ],
        [
         "2",
         "ATIC",
         "ATIC",
         "ATIC.ST",
         "Stockholm Stock Exchange",
         "Yahoo Finance",
         "https://finance.yahoo.com/quote/ATIC.ST"
        ],
        [
         "3",
         "ACTI",
         "ACTI",
         "ACTI",
         "US Markets (default)",
         "Yahoo Finance",
         "https://finance.yahoo.com/quote/ACTI"
        ],
        [
         "4",
         "ATORX",
         "ATORX",
         "ATORX.ST",
         "Stockholm Stock Exchange",
         "Yahoo Finance",
         "https://finance.yahoo.com/quote/ATORX.ST"
        ],
        [
         "5",
         "ANNE B",
         "ANNE-B",
         "ANNE-B.ST",
         "Stockholm Stock Exchange",
         "Yahoo Finance",
         "https://finance.yahoo.com/quote/ANNE-B.ST"
        ],
        [
         "6",
         "ANOT",
         "ANOT",
         "ANOT.ST",
         "Stockholm Stock Exchange",
         "Yahoo Finance",
         "https://finance.yahoo.com/quote/ANOT.ST"
        ],
        [
         "7",
         "ARPL",
         "ARPL",
         "ARPL.ST",
         "Stockholm Stock Exchange",
         "Yahoo Finance",
         "https://finance.yahoo.com/quote/ARPL.ST"
        ],
        [
         "8",
         "ACE",
         "ACE",
         "ACE",
         "US Markets (default)",
         "Yahoo Finance",
         "https://finance.yahoo.com/quote/ACE"
        ],
        [
         "9",
         "B3",
         "B3",
         "B3.ST",
         "Stockholm Stock Exchange",
         "Yahoo Finance",
         "https://finance.yahoo.com/quote/B3.ST"
        ]
       ],
       "shape": {
        "columns": 6,
        "rows": 10
       }
      },
      "text/html": [
       "<div>\n",
       "<style scoped>\n",
       "    .dataframe tbody tr th:only-of-type {\n",
       "        vertical-align: middle;\n",
       "    }\n",
       "\n",
       "    .dataframe tbody tr th {\n",
       "        vertical-align: top;\n",
       "    }\n",
       "\n",
       "    .dataframe thead th {\n",
       "        text-align: right;\n",
       "    }\n",
       "</style>\n",
       "<table border=\"1\" class=\"dataframe\">\n",
       "  <thead>\n",
       "    <tr style=\"text-align: right;\">\n",
       "      <th></th>\n",
       "      <th>OriginalTicker</th>\n",
       "      <th>CleanedTicker</th>\n",
       "      <th>YahooTicker</th>\n",
       "      <th>Exchange</th>\n",
       "      <th>Company</th>\n",
       "      <th>URL</th>\n",
       "    </tr>\n",
       "  </thead>\n",
       "  <tbody>\n",
       "    <tr>\n",
       "      <th>0</th>\n",
       "      <td>ACRI A</td>\n",
       "      <td>ACRI-A</td>\n",
       "      <td>ACRI-A.ST</td>\n",
       "      <td>Stockholm Stock Exchange</td>\n",
       "      <td>Yahoo Finance</td>\n",
       "      <td>https://finance.yahoo.com/quote/ACRI-A.ST</td>\n",
       "    </tr>\n",
       "    <tr>\n",
       "      <th>1</th>\n",
       "      <td>ACRI B</td>\n",
       "      <td>ACRI-B</td>\n",
       "      <td>ACRI-B.ST</td>\n",
       "      <td>Stockholm Stock Exchange</td>\n",
       "      <td>Yahoo Finance</td>\n",
       "      <td>https://finance.yahoo.com/quote/ACRI-B.ST</td>\n",
       "    </tr>\n",
       "    <tr>\n",
       "      <th>2</th>\n",
       "      <td>ATIC</td>\n",
       "      <td>ATIC</td>\n",
       "      <td>ATIC.ST</td>\n",
       "      <td>Stockholm Stock Exchange</td>\n",
       "      <td>Yahoo Finance</td>\n",
       "      <td>https://finance.yahoo.com/quote/ATIC.ST</td>\n",
       "    </tr>\n",
       "    <tr>\n",
       "      <th>3</th>\n",
       "      <td>ACTI</td>\n",
       "      <td>ACTI</td>\n",
       "      <td>ACTI</td>\n",
       "      <td>US Markets (default)</td>\n",
       "      <td>Yahoo Finance</td>\n",
       "      <td>https://finance.yahoo.com/quote/ACTI</td>\n",
       "    </tr>\n",
       "    <tr>\n",
       "      <th>4</th>\n",
       "      <td>ATORX</td>\n",
       "      <td>ATORX</td>\n",
       "      <td>ATORX.ST</td>\n",
       "      <td>Stockholm Stock Exchange</td>\n",
       "      <td>Yahoo Finance</td>\n",
       "      <td>https://finance.yahoo.com/quote/ATORX.ST</td>\n",
       "    </tr>\n",
       "    <tr>\n",
       "      <th>5</th>\n",
       "      <td>ANNE B</td>\n",
       "      <td>ANNE-B</td>\n",
       "      <td>ANNE-B.ST</td>\n",
       "      <td>Stockholm Stock Exchange</td>\n",
       "      <td>Yahoo Finance</td>\n",
       "      <td>https://finance.yahoo.com/quote/ANNE-B.ST</td>\n",
       "    </tr>\n",
       "    <tr>\n",
       "      <th>6</th>\n",
       "      <td>ANOT</td>\n",
       "      <td>ANOT</td>\n",
       "      <td>ANOT.ST</td>\n",
       "      <td>Stockholm Stock Exchange</td>\n",
       "      <td>Yahoo Finance</td>\n",
       "      <td>https://finance.yahoo.com/quote/ANOT.ST</td>\n",
       "    </tr>\n",
       "    <tr>\n",
       "      <th>7</th>\n",
       "      <td>ARPL</td>\n",
       "      <td>ARPL</td>\n",
       "      <td>ARPL.ST</td>\n",
       "      <td>Stockholm Stock Exchange</td>\n",
       "      <td>Yahoo Finance</td>\n",
       "      <td>https://finance.yahoo.com/quote/ARPL.ST</td>\n",
       "    </tr>\n",
       "    <tr>\n",
       "      <th>8</th>\n",
       "      <td>ACE</td>\n",
       "      <td>ACE</td>\n",
       "      <td>ACE</td>\n",
       "      <td>US Markets (default)</td>\n",
       "      <td>Yahoo Finance</td>\n",
       "      <td>https://finance.yahoo.com/quote/ACE</td>\n",
       "    </tr>\n",
       "    <tr>\n",
       "      <th>9</th>\n",
       "      <td>B3</td>\n",
       "      <td>B3</td>\n",
       "      <td>B3.ST</td>\n",
       "      <td>Stockholm Stock Exchange</td>\n",
       "      <td>Yahoo Finance</td>\n",
       "      <td>https://finance.yahoo.com/quote/B3.ST</td>\n",
       "    </tr>\n",
       "  </tbody>\n",
       "</table>\n",
       "</div>"
      ],
      "text/plain": [
       "  OriginalTicker CleanedTicker YahooTicker                  Exchange  \\\n",
       "0         ACRI A        ACRI-A   ACRI-A.ST  Stockholm Stock Exchange   \n",
       "1         ACRI B        ACRI-B   ACRI-B.ST  Stockholm Stock Exchange   \n",
       "2           ATIC          ATIC     ATIC.ST  Stockholm Stock Exchange   \n",
       "3           ACTI          ACTI        ACTI      US Markets (default)   \n",
       "4          ATORX         ATORX    ATORX.ST  Stockholm Stock Exchange   \n",
       "5         ANNE B        ANNE-B   ANNE-B.ST  Stockholm Stock Exchange   \n",
       "6           ANOT          ANOT     ANOT.ST  Stockholm Stock Exchange   \n",
       "7           ARPL          ARPL     ARPL.ST  Stockholm Stock Exchange   \n",
       "8            ACE           ACE         ACE      US Markets (default)   \n",
       "9             B3            B3       B3.ST  Stockholm Stock Exchange   \n",
       "\n",
       "         Company                                        URL  \n",
       "0  Yahoo Finance  https://finance.yahoo.com/quote/ACRI-A.ST  \n",
       "1  Yahoo Finance  https://finance.yahoo.com/quote/ACRI-B.ST  \n",
       "2  Yahoo Finance    https://finance.yahoo.com/quote/ATIC.ST  \n",
       "3  Yahoo Finance       https://finance.yahoo.com/quote/ACTI  \n",
       "4  Yahoo Finance   https://finance.yahoo.com/quote/ATORX.ST  \n",
       "5  Yahoo Finance  https://finance.yahoo.com/quote/ANNE-B.ST  \n",
       "6  Yahoo Finance    https://finance.yahoo.com/quote/ANOT.ST  \n",
       "7  Yahoo Finance    https://finance.yahoo.com/quote/ARPL.ST  \n",
       "8  Yahoo Finance        https://finance.yahoo.com/quote/ACE  \n",
       "9  Yahoo Finance      https://finance.yahoo.com/quote/B3.ST  "
      ]
     },
     "metadata": {},
     "output_type": "display_data"
    }
   ],
   "source": [
    "# Save results to CSV\n",
    "output_file = 'verified_yahoo_tickers.csv'\n",
    "all_results_df.to_csv(output_file, index=False)\n",
    "print(f\"Results saved to {output_file}\")\n",
    "\n",
    "# Display first 10 results\n",
    "display(all_results_df.head(10))"
   ]
  },
  {
   "cell_type": "markdown",
   "metadata": {},
   "source": [
    "## 6. Update Original CSV with Verified Tickers"
   ]
  },
  {
   "cell_type": "code",
   "execution_count": 49,
   "metadata": {},
   "outputs": [
    {
     "name": "stdout",
     "output_type": "stream",
     "text": [
      "Updated CSV saved to updated_small.csv\n"
     ]
    },
    {
     "data": {
      "application/vnd.microsoft.datawrangler.viewer.v0+json": {
       "columns": [
        {
         "name": "index",
         "rawType": "int64",
         "type": "integer"
        },
        {
         "name": "Tickersymbol",
         "rawType": "object",
         "type": "string"
        },
        {
         "name": "YahooTicker",
         "rawType": "object",
         "type": "string"
        },
        {
         "name": "YahooExchange",
         "rawType": "object",
         "type": "string"
        },
        {
         "name": "CompanyName",
         "rawType": "object",
         "type": "string"
        }
       ],
       "conversionMethod": "pd.DataFrame",
       "ref": "0cc1e062-8840-4e93-8724-cd80015bd9c0",
       "rows": [
        [
         "0",
         "ACRI A",
         "ACRI-A.ST",
         "Stockholm Stock Exchange",
         "Yahoo Finance"
        ],
        [
         "1",
         "ACRI B",
         "ACRI-B.ST",
         "Stockholm Stock Exchange",
         "Yahoo Finance"
        ],
        [
         "2",
         "ATIC",
         "ATIC.ST",
         "Stockholm Stock Exchange",
         "Yahoo Finance"
        ],
        [
         "3",
         "ACTI",
         "ACTI",
         "US Markets (default)",
         "Yahoo Finance"
        ],
        [
         "4",
         "ATORX",
         "ATORX.ST",
         "Stockholm Stock Exchange",
         "Yahoo Finance"
        ],
        [
         "5",
         "ANNE B",
         "ANNE-B.ST",
         "Stockholm Stock Exchange",
         "Yahoo Finance"
        ],
        [
         "6",
         "ANOT",
         "ANOT.ST",
         "Stockholm Stock Exchange",
         "Yahoo Finance"
        ],
        [
         "7",
         "ARPL",
         "ARPL.ST",
         "Stockholm Stock Exchange",
         "Yahoo Finance"
        ],
        [
         "8",
         "ACE",
         "ACE",
         "US Markets (default)",
         "Yahoo Finance"
        ],
        [
         "9",
         "B3",
         "B3.ST",
         "Stockholm Stock Exchange",
         "Yahoo Finance"
        ]
       ],
       "shape": {
        "columns": 4,
        "rows": 10
       }
      },
      "text/html": [
       "<div>\n",
       "<style scoped>\n",
       "    .dataframe tbody tr th:only-of-type {\n",
       "        vertical-align: middle;\n",
       "    }\n",
       "\n",
       "    .dataframe tbody tr th {\n",
       "        vertical-align: top;\n",
       "    }\n",
       "\n",
       "    .dataframe thead th {\n",
       "        text-align: right;\n",
       "    }\n",
       "</style>\n",
       "<table border=\"1\" class=\"dataframe\">\n",
       "  <thead>\n",
       "    <tr style=\"text-align: right;\">\n",
       "      <th></th>\n",
       "      <th>Tickersymbol</th>\n",
       "      <th>YahooTicker</th>\n",
       "      <th>YahooExchange</th>\n",
       "      <th>CompanyName</th>\n",
       "    </tr>\n",
       "  </thead>\n",
       "  <tbody>\n",
       "    <tr>\n",
       "      <th>0</th>\n",
       "      <td>ACRI A</td>\n",
       "      <td>ACRI-A.ST</td>\n",
       "      <td>Stockholm Stock Exchange</td>\n",
       "      <td>Yahoo Finance</td>\n",
       "    </tr>\n",
       "    <tr>\n",
       "      <th>1</th>\n",
       "      <td>ACRI B</td>\n",
       "      <td>ACRI-B.ST</td>\n",
       "      <td>Stockholm Stock Exchange</td>\n",
       "      <td>Yahoo Finance</td>\n",
       "    </tr>\n",
       "    <tr>\n",
       "      <th>2</th>\n",
       "      <td>ATIC</td>\n",
       "      <td>ATIC.ST</td>\n",
       "      <td>Stockholm Stock Exchange</td>\n",
       "      <td>Yahoo Finance</td>\n",
       "    </tr>\n",
       "    <tr>\n",
       "      <th>3</th>\n",
       "      <td>ACTI</td>\n",
       "      <td>ACTI</td>\n",
       "      <td>US Markets (default)</td>\n",
       "      <td>Yahoo Finance</td>\n",
       "    </tr>\n",
       "    <tr>\n",
       "      <th>4</th>\n",
       "      <td>ATORX</td>\n",
       "      <td>ATORX.ST</td>\n",
       "      <td>Stockholm Stock Exchange</td>\n",
       "      <td>Yahoo Finance</td>\n",
       "    </tr>\n",
       "    <tr>\n",
       "      <th>5</th>\n",
       "      <td>ANNE B</td>\n",
       "      <td>ANNE-B.ST</td>\n",
       "      <td>Stockholm Stock Exchange</td>\n",
       "      <td>Yahoo Finance</td>\n",
       "    </tr>\n",
       "    <tr>\n",
       "      <th>6</th>\n",
       "      <td>ANOT</td>\n",
       "      <td>ANOT.ST</td>\n",
       "      <td>Stockholm Stock Exchange</td>\n",
       "      <td>Yahoo Finance</td>\n",
       "    </tr>\n",
       "    <tr>\n",
       "      <th>7</th>\n",
       "      <td>ARPL</td>\n",
       "      <td>ARPL.ST</td>\n",
       "      <td>Stockholm Stock Exchange</td>\n",
       "      <td>Yahoo Finance</td>\n",
       "    </tr>\n",
       "    <tr>\n",
       "      <th>8</th>\n",
       "      <td>ACE</td>\n",
       "      <td>ACE</td>\n",
       "      <td>US Markets (default)</td>\n",
       "      <td>Yahoo Finance</td>\n",
       "    </tr>\n",
       "    <tr>\n",
       "      <th>9</th>\n",
       "      <td>B3</td>\n",
       "      <td>B3.ST</td>\n",
       "      <td>Stockholm Stock Exchange</td>\n",
       "      <td>Yahoo Finance</td>\n",
       "    </tr>\n",
       "  </tbody>\n",
       "</table>\n",
       "</div>"
      ],
      "text/plain": [
       "  Tickersymbol YahooTicker             YahooExchange    CompanyName\n",
       "0       ACRI A   ACRI-A.ST  Stockholm Stock Exchange  Yahoo Finance\n",
       "1       ACRI B   ACRI-B.ST  Stockholm Stock Exchange  Yahoo Finance\n",
       "2         ATIC     ATIC.ST  Stockholm Stock Exchange  Yahoo Finance\n",
       "3         ACTI        ACTI      US Markets (default)  Yahoo Finance\n",
       "4        ATORX    ATORX.ST  Stockholm Stock Exchange  Yahoo Finance\n",
       "5       ANNE B   ANNE-B.ST  Stockholm Stock Exchange  Yahoo Finance\n",
       "6         ANOT     ANOT.ST  Stockholm Stock Exchange  Yahoo Finance\n",
       "7         ARPL     ARPL.ST  Stockholm Stock Exchange  Yahoo Finance\n",
       "8          ACE         ACE      US Markets (default)  Yahoo Finance\n",
       "9           B3       B3.ST  Stockholm Stock Exchange  Yahoo Finance"
      ]
     },
     "metadata": {},
     "output_type": "display_data"
    }
   ],
   "source": [
    "# Update the original dataframe with the verified Yahoo tickers\n",
    "yahoo_tickers_dict = dict(zip(all_results_df['OriginalTicker'], all_results_df['YahooTicker']))\n",
    "yahoo_exchange_dict = dict(zip(all_results_df['OriginalTicker'], all_results_df['Exchange']))\n",
    "yahoo_company_dict = dict(zip(all_results_df['OriginalTicker'], all_results_df['Company']))\n",
    "\n",
    "# Add the Yahoo Finance information to the original dataframe\n",
    "df['YahooTicker'] = df[ticker_column].map(yahoo_tickers_dict)\n",
    "df['YahooExchange'] = df[ticker_column].map(yahoo_exchange_dict)\n",
    "df['CompanyName'] = df[ticker_column].map(yahoo_company_dict)\n",
    "\n",
    "# Save the updated dataframe\n",
    "updated_file = 'updated_' + input_file\n",
    "df.to_csv(updated_file, index=False)\n",
    "print(f\"Updated CSV saved to {updated_file}\")\n",
    "\n",
    "# Display the updated dataframe\n",
    "display(df.head(10))"
   ]
  },
  {
   "cell_type": "markdown",
   "metadata": {},
   "source": [
    "## 7. Generate Summary of Exchanges"
   ]
  },
  {
   "cell_type": "code",
   "execution_count": 50,
   "metadata": {},
   "outputs": [
    {
     "name": "stdout",
     "output_type": "stream",
     "text": [
      "Exchange distribution:\n"
     ]
    },
    {
     "data": {
      "text/plain": [
       "Exchange\n",
       "Stockholm Stock Exchange    89\n",
       "US Markets (default)        20\n",
       "Name: count, dtype: int64"
      ]
     },
     "metadata": {},
     "output_type": "display_data"
    },
    {
     "data": {
      "image/png": "[encoded data removed]",
      "text/plain": [
       "<Figure size 1200x600 with 1 Axes>"
      ]
     },
     "metadata": {},
     "output_type": "display_data"
    }
   ],
   "source": [
    "# Generate summary of which exchanges were found\n",
    "exchange_counts = all_results_df['Exchange'].value_counts()\n",
    "print(\"Exchange distribution:\")\n",
    "display(exchange_counts)\n",
    "\n",
    "# Plot the exchange distribution\n",
    "import matplotlib.pyplot as plt\n",
    "\n",
    "plt.figure(figsize=(12, 6))\n",
    "exchange_counts.plot(kind='bar')\n",
    "plt.title('Distribution of Exchanges')\n",
    "plt.xlabel('Exchange')\n",
    "plt.ylabel('Number of Tickers')\n",
    "plt.xticks(rotation=45, ha='right')\n",
    "plt.tight_layout()\n",
    "plt.show()"
   ]
  },
  {
   "cell_type": "markdown",
   "metadata": {},
   "source": [
    "## 8. Handle Tickers Not Found"
   ]
  },
  {
   "cell_type": "code",
   "execution_count": 51,
   "metadata": {},
   "outputs": [
    {
     "name": "stdout",
     "output_type": "stream",
     "text": [
      "All tickers were successfully found on Yahoo Finance!\n"
     ]
    }
   ],
   "source": [
    "# Extract tickers that were not found\n",
    "not_found = all_results_df[all_results_df['YahooTicker'].isna()]\n",
    "\n",
    "if len(not_found) > 0:\n",
    "    print(f\"The following {len(not_found)} tickers were not found on Yahoo Finance:\")\n",
    "    display(not_found[['OriginalTicker', 'CleanedTicker']])\n",
    "    \n",
    "    # Save not found tickers to a separate file for manual investigation\n",
    "    not_found_file = 'not_found_tickers.csv'\n",
    "    not_found.to_csv(not_found_file, index=False)\n",
    "    print(f\"Not found tickers saved to {not_found_file}\")\n",
    "else:\n",
    "    print(\"All tickers were successfully found on Yahoo Finance!\")"
   ]
  }
 ],
 "metadata": {
  "kernelspec": {
   "display_name": "Python 3",
   "language": "python",
   "name": "python3"
  },
  "language_info": {
   "codemirror_mode": {
    "name": "ipython",
    "version": 3
   },
   "file_extension": ".py",
   "mimetype": "text/x-python",
   "name": "python",
   "nbconvert_exporter": "python",
   "pygments_lexer": "ipython3",
   "version": "3.11.9"
  }
 },
 "nbformat": 4,
 "nbformat_minor": 4
}
